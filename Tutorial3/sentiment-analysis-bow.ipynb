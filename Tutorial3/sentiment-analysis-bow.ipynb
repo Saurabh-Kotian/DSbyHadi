{
 "cells": [
  {
   "cell_type": "code",
   "execution_count": 2,
   "metadata": {
    "collapsed": true
   },
   "outputs": [],
   "source": [
    "# To show the output of all lines in a cell rather that just the last line\n",
    "from IPython.core.interactiveshell import InteractiveShell\n",
    "InteractiveShell.ast_node_interactivity = \"all\""
   ]
  },
  {
   "cell_type": "code",
   "execution_count": 3,
   "metadata": {
    "collapsed": true
   },
   "outputs": [],
   "source": [
    "import pandas as pd"
   ]
  },
  {
   "cell_type": "code",
   "execution_count": 4,
   "metadata": {
    "collapsed": false
   },
   "outputs": [],
   "source": [
    "data_amazon = pd.read_table(\"~/Downloads/sentiment_labelled_sentences/amazon_cells_labelled.txt\"\n",
    "                          , sep='\\t', header=None, names=['sentence', 'sentiment'])\n",
    "data_imdb = pd.read_table(\"~/Downloads/sentiment_labelled_sentences/imdb_labelled.txt\"\n",
    "                          , sep='\\t', header=None, names=['sentence', 'sentiment'])\n",
    "data_yelp = pd.read_table(\"~/Downloads/sentiment_labelled_sentences/yelp_labelled.txt\"\n",
    "                          , sep='\\t', header=None, names=['sentence', 'sentiment'])"
   ]
  },
  {
   "cell_type": "markdown",
   "metadata": {},
   "source": [
    "Pandas Dataframes are similar to Spark Dataframes."
   ]
  },
  {
   "cell_type": "code",
   "execution_count": 5,
   "metadata": {
    "collapsed": false
   },
   "outputs": [
    {
     "data": {
      "text/html": [
       "<div>\n",
       "<table border=\"1\" class=\"dataframe\">\n",
       "  <thead>\n",
       "    <tr style=\"text-align: right;\">\n",
       "      <th></th>\n",
       "      <th>sentence</th>\n",
       "      <th>sentiment</th>\n",
       "    </tr>\n",
       "  </thead>\n",
       "  <tbody>\n",
       "    <tr>\n",
       "      <th>0</th>\n",
       "      <td>So there is no way for me to plug it in here i...</td>\n",
       "      <td>0</td>\n",
       "    </tr>\n",
       "    <tr>\n",
       "      <th>1</th>\n",
       "      <td>Good case, Excellent value.</td>\n",
       "      <td>1</td>\n",
       "    </tr>\n",
       "    <tr>\n",
       "      <th>2</th>\n",
       "      <td>Great for the jawbone.</td>\n",
       "      <td>1</td>\n",
       "    </tr>\n",
       "  </tbody>\n",
       "</table>\n",
       "</div>"
      ],
      "text/plain": [
       "                                            sentence  sentiment\n",
       "0  So there is no way for me to plug it in here i...          0\n",
       "1                        Good case, Excellent value.          1\n",
       "2                             Great for the jawbone.          1"
      ]
     },
     "execution_count": 5,
     "metadata": {},
     "output_type": "execute_result"
    },
    {
     "data": {
      "text/html": [
       "<div>\n",
       "<table border=\"1\" class=\"dataframe\">\n",
       "  <thead>\n",
       "    <tr style=\"text-align: right;\">\n",
       "      <th></th>\n",
       "      <th>sentence</th>\n",
       "      <th>sentiment</th>\n",
       "    </tr>\n",
       "  </thead>\n",
       "  <tbody>\n",
       "    <tr>\n",
       "      <th>0</th>\n",
       "      <td>A very, very, very slow-moving, aimless movie ...</td>\n",
       "      <td>0</td>\n",
       "    </tr>\n",
       "    <tr>\n",
       "      <th>1</th>\n",
       "      <td>Not sure who was more lost - the flat characte...</td>\n",
       "      <td>0</td>\n",
       "    </tr>\n",
       "    <tr>\n",
       "      <th>2</th>\n",
       "      <td>Attempting artiness with black &amp; white and cle...</td>\n",
       "      <td>0</td>\n",
       "    </tr>\n",
       "  </tbody>\n",
       "</table>\n",
       "</div>"
      ],
      "text/plain": [
       "                                            sentence  sentiment\n",
       "0  A very, very, very slow-moving, aimless movie ...          0\n",
       "1  Not sure who was more lost - the flat characte...          0\n",
       "2  Attempting artiness with black & white and cle...          0"
      ]
     },
     "execution_count": 5,
     "metadata": {},
     "output_type": "execute_result"
    },
    {
     "data": {
      "text/html": [
       "<div>\n",
       "<table border=\"1\" class=\"dataframe\">\n",
       "  <thead>\n",
       "    <tr style=\"text-align: right;\">\n",
       "      <th></th>\n",
       "      <th>sentence</th>\n",
       "      <th>sentiment</th>\n",
       "    </tr>\n",
       "  </thead>\n",
       "  <tbody>\n",
       "    <tr>\n",
       "      <th>0</th>\n",
       "      <td>Wow... Loved this place.</td>\n",
       "      <td>1</td>\n",
       "    </tr>\n",
       "    <tr>\n",
       "      <th>1</th>\n",
       "      <td>Crust is not good.</td>\n",
       "      <td>0</td>\n",
       "    </tr>\n",
       "    <tr>\n",
       "      <th>2</th>\n",
       "      <td>Not tasty and the texture was just nasty.</td>\n",
       "      <td>0</td>\n",
       "    </tr>\n",
       "  </tbody>\n",
       "</table>\n",
       "</div>"
      ],
      "text/plain": [
       "                                    sentence  sentiment\n",
       "0                   Wow... Loved this place.          1\n",
       "1                         Crust is not good.          0\n",
       "2  Not tasty and the texture was just nasty.          0"
      ]
     },
     "execution_count": 5,
     "metadata": {},
     "output_type": "execute_result"
    }
   ],
   "source": [
    "data_amazon.head(3)\n",
    "data_imdb.head(3)\n",
    "data_yelp.head(3)"
   ]
  },
  {
   "cell_type": "code",
   "execution_count": 6,
   "metadata": {
    "collapsed": false
   },
   "outputs": [
    {
     "data": {
      "text/plain": [
       "(1000, 2)"
      ]
     },
     "execution_count": 6,
     "metadata": {},
     "output_type": "execute_result"
    },
    {
     "data": {
      "text/plain": [
       "(748, 2)"
      ]
     },
     "execution_count": 6,
     "metadata": {},
     "output_type": "execute_result"
    },
    {
     "data": {
      "text/plain": [
       "(1000, 2)"
      ]
     },
     "execution_count": 6,
     "metadata": {},
     "output_type": "execute_result"
    }
   ],
   "source": [
    "data_amazon.shape\n",
    "data_imdb.shape\n",
    "data_yelp.shape"
   ]
  },
  {
   "cell_type": "code",
   "execution_count": 7,
   "metadata": {
    "collapsed": false
   },
   "outputs": [],
   "source": [
    "all_data = pd.concat([data_amazon, data_imdb, data_yelp])"
   ]
  },
  {
   "cell_type": "code",
   "execution_count": 8,
   "metadata": {
    "collapsed": false
   },
   "outputs": [
    {
     "data": {
      "text/plain": [
       "(2748, 2)"
      ]
     },
     "execution_count": 8,
     "metadata": {},
     "output_type": "execute_result"
    }
   ],
   "source": [
    "all_data.shape"
   ]
  },
  {
   "cell_type": "code",
   "execution_count": 9,
   "metadata": {
    "collapsed": false
   },
   "outputs": [
    {
     "data": {
      "text/html": [
       "<div>\n",
       "<table border=\"1\" class=\"dataframe\">\n",
       "  <thead>\n",
       "    <tr style=\"text-align: right;\">\n",
       "      <th></th>\n",
       "      <th>sentence</th>\n",
       "      <th>sentiment</th>\n",
       "    </tr>\n",
       "  </thead>\n",
       "  <tbody>\n",
       "    <tr>\n",
       "      <th>0</th>\n",
       "      <td>So there is no way for me to plug it in here i...</td>\n",
       "      <td>0</td>\n",
       "    </tr>\n",
       "    <tr>\n",
       "      <th>1</th>\n",
       "      <td>Good case, Excellent value.</td>\n",
       "      <td>1</td>\n",
       "    </tr>\n",
       "    <tr>\n",
       "      <th>2</th>\n",
       "      <td>Great for the jawbone.</td>\n",
       "      <td>1</td>\n",
       "    </tr>\n",
       "  </tbody>\n",
       "</table>\n",
       "</div>"
      ],
      "text/plain": [
       "                                            sentence  sentiment\n",
       "0  So there is no way for me to plug it in here i...          0\n",
       "1                        Good case, Excellent value.          1\n",
       "2                             Great for the jawbone.          1"
      ]
     },
     "execution_count": 9,
     "metadata": {},
     "output_type": "execute_result"
    },
    {
     "data": {
      "text/plain": [
       "<matplotlib.axes._subplots.AxesSubplot at 0x111950160>"
      ]
     },
     "execution_count": 9,
     "metadata": {},
     "output_type": "execute_result"
    },
    {
     "data": {
      "image/png": "[encoded data removed]",
      "text/plain": [
       "<matplotlib.figure.Figure at 0x1119417f0>"
      ]
     },
     "metadata": {},
     "output_type": "display_data"
    }
   ],
   "source": [
    "%matplotlib inline\n",
    "\n",
    "all_data.head(3)\n",
    "all_data['sentiment'].value_counts().plot(kind='bar')"
   ]
  },
  {
   "cell_type": "markdown",
   "metadata": {},
   "source": [
    "So AUC-ROC metric is ok (there isn't class imbalance). We will also look at other metrics as well."
   ]
  },
  {
   "cell_type": "code",
   "execution_count": 10,
   "metadata": {
    "collapsed": true
   },
   "outputs": [],
   "source": [
    "sample_data = [['Good case for the money!', 1], ['Do not waste your money.', 0], ['Good product. Love it!', 1]] \n",
    "small_sample = pd.DataFrame(sample_data, columns = ['sentence', 'sentiment']) "
   ]
  },
  {
   "cell_type": "code",
   "execution_count": 11,
   "metadata": {
    "collapsed": false
   },
   "outputs": [],
   "source": [
    "from sklearn.feature_extraction.text import CountVectorizer\n",
    "from sklearn.feature_extraction.text import TfidfTransformer\n",
    "from sklearn.linear_model import LogisticRegression\n",
    "from sklearn.pipeline import Pipeline"
   ]
  },
  {
   "cell_type": "code",
   "execution_count": 12,
   "metadata": {
    "collapsed": false
   },
   "outputs": [],
   "source": [
    "lr = LogisticRegression(penalty='l2', C=.8, random_state=21)"
   ]
  },
  {
   "cell_type": "code",
   "execution_count": 13,
   "metadata": {
    "collapsed": false
   },
   "outputs": [],
   "source": [
    "# ??CountVectorizer\n",
    "# ??TfidfTransformer\n",
    "# ??LogisticRegression"
   ]
  },
  {
   "cell_type": "code",
   "execution_count": 14,
   "metadata": {
    "collapsed": false
   },
   "outputs": [
    {
     "data": {
      "text/plain": [
       "CountVectorizer(analyzer='word', binary=False, decode_error='strict',\n",
       "        dtype=<class 'numpy.int64'>, encoding='utf-8', input='content',\n",
       "        lowercase=True, max_df=1.0, max_features=None, min_df=1,\n",
       "        ngram_range=(1, 1), preprocessor=None, stop_words='english',\n",
       "        strip_accents=None, token_pattern='(?u)\\\\b\\\\w\\\\w+\\\\b',\n",
       "        tokenizer=None, vocabulary=None)"
      ]
     },
     "execution_count": 14,
     "metadata": {},
     "output_type": "execute_result"
    }
   ],
   "source": [
    "count_vec = CountVectorizer(binary=False, stop_words='english', ngram_range=(1,1))\n",
    "# count_vec = CountVectorizer(binary=False, stop_words='english', ngram_range=(2,2))\n",
    "# count_vec = CountVectorizer(binary=False, stop_words='None', ngram_range=(2,2))\n",
    "count_vec.fit(small_sample.sentence)\n",
    "small_transformed = count_vec.transform(small_sample.sentence)"
   ]
  },
  {
   "cell_type": "code",
   "execution_count": 15,
   "metadata": {
    "collapsed": false
   },
   "outputs": [
    {
     "data": {
      "text/html": [
       "<div>\n",
       "<table border=\"1\" class=\"dataframe\">\n",
       "  <thead>\n",
       "    <tr style=\"text-align: right;\">\n",
       "      <th></th>\n",
       "      <th>sentence</th>\n",
       "      <th>sentiment</th>\n",
       "    </tr>\n",
       "  </thead>\n",
       "  <tbody>\n",
       "    <tr>\n",
       "      <th>0</th>\n",
       "      <td>Good case for the money!</td>\n",
       "      <td>1</td>\n",
       "    </tr>\n",
       "    <tr>\n",
       "      <th>1</th>\n",
       "      <td>Do not waste your money.</td>\n",
       "      <td>0</td>\n",
       "    </tr>\n",
       "    <tr>\n",
       "      <th>2</th>\n",
       "      <td>Good product. Love it!</td>\n",
       "      <td>1</td>\n",
       "    </tr>\n",
       "  </tbody>\n",
       "</table>\n",
       "</div>"
      ],
      "text/plain": [
       "                   sentence  sentiment\n",
       "0  Good case for the money!  1        \n",
       "1  Do not waste your money.  0        \n",
       "2  Good product. Love it!    1        "
      ]
     },
     "execution_count": 15,
     "metadata": {},
     "output_type": "execute_result"
    }
   ],
   "source": [
    "pd.set_option('display.max_colwidth', -1)\n",
    "small_sample"
   ]
  },
  {
   "cell_type": "code",
   "execution_count": 16,
   "metadata": {
    "collapsed": false
   },
   "outputs": [
    {
     "name": "stdout",
     "output_type": "stream",
     "text": [
      "   case  good  love  money  product  waste\n",
      "0  1     1     0     1      0        0    \n",
      "1  0     0     0     1      0        1    \n",
      "2  0     1     1     0      1        0    \n"
     ]
    }
   ],
   "source": [
    "from pandas import DataFrame\n",
    "\n",
    "print(DataFrame(small_transformed.A, columns=count_vec.get_feature_names()).to_string())"
   ]
  },
  {
   "cell_type": "code",
   "execution_count": 17,
   "metadata": {
    "collapsed": false
   },
   "outputs": [
    {
     "data": {
      "text/plain": [
       "scipy.sparse.csr.csr_matrix"
      ]
     },
     "execution_count": 17,
     "metadata": {},
     "output_type": "execute_result"
    },
    {
     "data": {
      "text/plain": [
       "array([[1, 1, 0, 1, 0, 0],\n",
       "       [0, 0, 0, 1, 0, 1],\n",
       "       [0, 1, 1, 0, 1, 0]])"
      ]
     },
     "execution_count": 17,
     "metadata": {},
     "output_type": "execute_result"
    }
   ],
   "source": [
    "type(small_transformed)\n",
    "small_transformed.A # .A return an ndarray from the sparse matrix"
   ]
  },
  {
   "cell_type": "code",
   "execution_count": 18,
   "metadata": {
    "collapsed": false
   },
   "outputs": [
    {
     "data": {
      "text/plain": [
       "TfidfTransformer(norm='l2', smooth_idf=True, sublinear_tf=False, use_idf=True)"
      ]
     },
     "execution_count": 18,
     "metadata": {},
     "output_type": "execute_result"
    }
   ],
   "source": [
    "tfidf = TfidfTransformer(use_idf=True)\n",
    "tfidf.fit(small_transformed)\n",
    "small_tfidfed = tfidf.transform(small_transformed)"
   ]
  },
  {
   "cell_type": "code",
   "execution_count": 19,
   "metadata": {
    "collapsed": false
   },
   "outputs": [
    {
     "name": "stdout",
     "output_type": "stream",
     "text": [
      "       case      good      love     money   product     waste\n",
      "0  0.680919  0.517856  0.000000  0.517856  0.000000  0.000000\n",
      "1  0.000000  0.000000  0.000000  0.605349  0.000000  0.795961\n",
      "2  0.000000  0.473630  0.622766  0.000000  0.622766  0.000000\n"
     ]
    }
   ],
   "source": [
    "print(DataFrame(small_tfidfed.A, columns=count_vec.get_feature_names()).to_string())"
   ]
  },
  {
   "cell_type": "code",
   "execution_count": 20,
   "metadata": {
    "collapsed": false
   },
   "outputs": [
    {
     "data": {
      "text/plain": [
       "array([[ 0.68091856,  0.51785612,  0.        ,  0.51785612,  0.        ,\n",
       "         0.        ],\n",
       "       [ 0.        ,  0.        ,  0.        ,  0.60534851,  0.        ,\n",
       "         0.79596054],\n",
       "       [ 0.        ,  0.4736296 ,  0.62276601,  0.        ,  0.62276601,\n",
       "         0.        ]])"
      ]
     },
     "execution_count": 20,
     "metadata": {},
     "output_type": "execute_result"
    }
   ],
   "source": [
    "small_tfidfed.A"
   ]
  },
  {
   "cell_type": "code",
   "execution_count": 21,
   "metadata": {
    "collapsed": false
   },
   "outputs": [],
   "source": [
    "text_classifier = Pipeline([\n",
    "    ('vectorizer', CountVectorizer(binary=False, stop_words='english', ngram_range=(1,2))),\n",
    "    ('tfidf', TfidfTransformer(use_idf=True)),\n",
    "    ('clf', lr),\n",
    "#     ('clf', SGDClassifier()), #by default, this is SVM\n",
    "])"
   ]
  },
  {
   "cell_type": "code",
   "execution_count": 22,
   "metadata": {
    "collapsed": false
   },
   "outputs": [],
   "source": [
    "import numpy as np\n",
    "from sklearn.model_selection import train_test_split\n",
    "\n",
    "X_train, X_test, y_train, y_test = train_test_split(\n",
    "     all_data.sentence, all_data.sentiment, test_size=0.35, random_state=4)"
   ]
  },
  {
   "cell_type": "code",
   "execution_count": 23,
   "metadata": {
    "collapsed": false
   },
   "outputs": [
    {
     "data": {
      "text/plain": [
       "Pipeline(steps=[('vectorizer', CountVectorizer(analyzer='word', binary=False, decode_error='strict',\n",
       "        dtype=<class 'numpy.int64'>, encoding='utf-8', input='content',\n",
       "        lowercase=True, max_df=1.0, max_features=None, min_df=1,\n",
       "        ngram_range=(1, 2), preprocessor=None, stop_words='english',\n",
       "  ...alty='l2', random_state=21, solver='liblinear', tol=0.0001,\n",
       "          verbose=0, warm_start=False))])"
      ]
     },
     "execution_count": 23,
     "metadata": {},
     "output_type": "execute_result"
    }
   ],
   "source": [
    "text_classifier.fit(X_train, y_train) "
   ]
  },
  {
   "cell_type": "code",
   "execution_count": 24,
   "metadata": {
    "collapsed": false
   },
   "outputs": [
    {
     "data": {
      "text/plain": [
       "177    The atmosphere is modern and hip, while maintaining a touch of coziness.\n",
       "720    Cute, quaint, simple, honest.                                           \n",
       "525    It's an empty, hollow shell of a movie.                                 \n",
       "630    Don't bother - go to the store.                                         \n",
       "Name: sentence, dtype: object"
      ]
     },
     "execution_count": 24,
     "metadata": {},
     "output_type": "execute_result"
    },
    {
     "data": {
      "text/plain": [
       "177    1\n",
       "720    1\n",
       "525    0\n",
       "630    0\n",
       "Name: sentiment, dtype: int64"
      ]
     },
     "execution_count": 24,
     "metadata": {},
     "output_type": "execute_result"
    }
   ],
   "source": [
    "X_test[0:4]\n",
    "y_test[0:4]"
   ]
  },
  {
   "cell_type": "code",
   "execution_count": 25,
   "metadata": {
    "collapsed": false
   },
   "outputs": [
    {
     "data": {
      "text/plain": [
       "pandas.core.series.Series"
      ]
     },
     "execution_count": 25,
     "metadata": {},
     "output_type": "execute_result"
    },
    {
     "data": {
      "text/plain": [
       "pandas.core.series.Series"
      ]
     },
     "execution_count": 25,
     "metadata": {},
     "output_type": "execute_result"
    }
   ],
   "source": [
    "type(X_test)\n",
    "type(y_test)"
   ]
  },
  {
   "cell_type": "code",
   "execution_count": 26,
   "metadata": {
    "collapsed": false
   },
   "outputs": [
    {
     "data": {
      "text/plain": [
       "0    The atmosphere is modern and hip, while maintaining a touch of coziness.\n",
       "1    Cute, quaint, simple, honest.                                           \n",
       "2    It's an empty, hollow shell of a movie.                                 \n",
       "3    Don't bother - go to the store.                                         \n",
       "Name: sentence, dtype: object"
      ]
     },
     "execution_count": 26,
     "metadata": {},
     "output_type": "execute_result"
    },
    {
     "data": {
      "text/plain": [
       "0    1\n",
       "1    1\n",
       "2    0\n",
       "3    0\n",
       "Name: sentiment, dtype: int64"
      ]
     },
     "execution_count": 26,
     "metadata": {},
     "output_type": "execute_result"
    }
   ],
   "source": [
    "X_test = X_test.reset_index(drop = True) # drop=True discards the old index\n",
    "X_test[0:4]\n",
    "\n",
    "y_test = y_test.reset_index(drop = True)\n",
    "y_test[0:4]"
   ]
  },
  {
   "cell_type": "code",
   "execution_count": 27,
   "metadata": {
    "collapsed": false
   },
   "outputs": [
    {
     "name": "stdout",
     "output_type": "stream",
     "text": [
      "The atmosphere is modern and hip, while maintaining a touch of coziness., 1, [ 0.48580128  0.51419872], 1\n",
      "Cute, quaint, simple, honest., 0, [ 0.55741558  0.44258442], 1\n",
      "It's an empty, hollow shell of a movie.  , 1, [ 0.44886372  0.55113628], 0\n",
      "Don't bother - go to the store., 0, [ 0.65667888  0.34332112], 0\n",
      "To those who find this movie intelligent or even masterful, I can only say - it's your intelligence and your imagination you obviously used to try and make some sense of this pitiful attempt (it's in our human nature to try and make sense of things) .  , 0, [ 0.5411766  0.4588234], 0\n"
     ]
    }
   ],
   "source": [
    "predicted_test = text_classifier.predict(X_test)\n",
    "predicted_proba_test = text_classifier.predict_proba(X_test)\n",
    "\n",
    "for i in range(5):\n",
    "    print(\"{}, {}, {}, {}\".format(X_test[i], predicted_test[i], predicted_proba_test[i], y_test[i]))"
   ]
  },
  {
   "cell_type": "code",
   "execution_count": 28,
   "metadata": {
    "collapsed": false
   },
   "outputs": [
    {
     "name": "stdout",
     "output_type": "stream",
     "text": [
      "             precision    recall  f1-score   support\n",
      "\n",
      "          0       0.98      0.97      0.98       880\n",
      "          1       0.97      0.98      0.98       906\n",
      "\n",
      "avg / total       0.98      0.98      0.98      1786\n",
      "\n"
     ]
    },
    {
     "data": {
      "text/plain": [
       "array([[855,  25],\n",
       "       [ 14, 892]])"
      ]
     },
     "execution_count": 28,
     "metadata": {},
     "output_type": "execute_result"
    },
    {
     "name": "stdout",
     "output_type": "stream",
     "text": [
      "             precision    recall  f1-score   support\n",
      "\n",
      "          0       0.81      0.80      0.80       482\n",
      "          1       0.80      0.81      0.80       480\n",
      "\n",
      "avg / total       0.80      0.80      0.80       962\n",
      "\n"
     ]
    },
    {
     "data": {
      "text/plain": [
       "array([[386,  96],\n",
       "       [ 93, 387]])"
      ]
     },
     "execution_count": 28,
     "metadata": {},
     "output_type": "execute_result"
    }
   ],
   "source": [
    "from sklearn import metrics\n",
    "\n",
    "predicted_train = text_classifier.predict(X_train)\n",
    "\n",
    "y_train = y_train.astype('category')\n",
    "print(metrics.classification_report(y_train, predicted_train,\n",
    "    labels=y_train.cat.categories.tolist()))\n",
    "\n",
    "metrics.confusion_matrix(y_train, predicted_train)\n",
    "\n",
    "predicted_test = text_classifier.predict(X_test)\n",
    "\n",
    "y_test = y_test.astype('category')\n",
    "print(metrics.classification_report(y_test, predicted_test,\n",
    "    labels=y_test.cat.categories.tolist()))\n",
    "\n",
    "metrics.confusion_matrix(y_test, predicted_test)"
   ]
  },
  {
   "cell_type": "code",
   "execution_count": 29,
   "metadata": {
    "collapsed": false
   },
   "outputs": [
    {
     "data": {
      "text/plain": [
       "0.80354387375354963"
      ]
     },
     "execution_count": 29,
     "metadata": {},
     "output_type": "execute_result"
    },
    {
     "data": {
      "text/plain": [
       "0.80353430353430355"
      ]
     },
     "execution_count": 29,
     "metadata": {},
     "output_type": "execute_result"
    },
    {
     "data": {
      "text/plain": [
       "0.80354865886317273"
      ]
     },
     "execution_count": 29,
     "metadata": {},
     "output_type": "execute_result"
    },
    {
     "data": {
      "text/plain": [
       "0.80353430353430355"
      ]
     },
     "execution_count": 29,
     "metadata": {},
     "output_type": "execute_result"
    }
   ],
   "source": [
    "# ??metrics.classification_report(y_train, predicted_train, labels=y_train.cat.categories.tolist())\n",
    "# ??metrics.precision_score\n",
    "metrics.precision_score(y_test, predicted_test, average='macro') \n",
    "metrics.precision_score(y_test, predicted_test, average='micro') \n",
    "metrics.precision_score(y_test, predicted_test, average='weighted') \n",
    "metrics.recall_score(y_test, predicted_test, average='micro')"
   ]
  },
  {
   "cell_type": "markdown",
   "metadata": {},
   "source": [
    "Be aware of the macro vs. micro vs. weighted averages. Look at the one based on your problem.  In multi-class classification sometimes some of these metrics are equal. E.g. ***micro-average precision and recall are always the same.***"
   ]
  },
  {
   "cell_type": "markdown",
   "metadata": {},
   "source": [
    "Trained model predicting on a single sample"
   ]
  },
  {
   "cell_type": "code",
   "execution_count": 31,
   "metadata": {
    "collapsed": false
   },
   "outputs": [
    {
     "data": {
      "text/plain": [
       "array([[ 0.27486995,  0.72513005]])"
      ]
     },
     "execution_count": 31,
     "metadata": {},
     "output_type": "execute_result"
    }
   ],
   "source": [
    "text_classifier.predict_proba(['Dogs love us!'])"
   ]
  },
  {
   "cell_type": "markdown",
   "metadata": {},
   "source": [
    "## One week later!!!"
   ]
  },
  {
   "cell_type": "code",
   "execution_count": 32,
   "metadata": {
    "collapsed": false
   },
   "outputs": [],
   "source": [
    "# sw = , ng = (1, 2), mf = 2000, b = False, n = l2, ui = True, p = l1, c = 0.9\n",
    "text_classifier2 = Pipeline([\n",
    "    ('vectorizer', CountVectorizer(stop_words=None, ngram_range=(1, 2), max_features=2000, binary=False)),\n",
    "    ('tfidf', TfidfTransformer(norm='l2', use_idf=True)),\n",
    "    ('clf', LogisticRegression(penalty='l1', C=0.9, random_state=21)),\n",
    "])"
   ]
  },
  {
   "cell_type": "code",
   "execution_count": 45,
   "metadata": {
    "collapsed": false
   },
   "outputs": [
    {
     "data": {
      "text/plain": [
       "Pipeline(steps=[('vectorizer', CountVectorizer(analyzer='word', binary=False, decode_error='strict',\n",
       "        dtype=<class 'numpy.int64'>, encoding='utf-8', input='content',\n",
       "        lowercase=True, max_df=1.0, max_features=2000, min_df=1,\n",
       "        ngram_range=(1, 2), preprocessor=None, stop_words=None,\n",
       "       ...alty='l1', random_state=21, solver='liblinear', tol=0.0001,\n",
       "          verbose=0, warm_start=False))])"
      ]
     },
     "execution_count": 45,
     "metadata": {},
     "output_type": "execute_result"
    }
   ],
   "source": [
    "text_classifier2.fit(all_data['sentence'], all_data['sentiment']) "
   ]
  },
  {
   "cell_type": "markdown",
   "metadata": {},
   "source": [
    "Better to do train/test/eval and then use eval for text_classifier2's performance metrics.."
   ]
  },
  {
   "cell_type": "markdown",
   "metadata": {},
   "source": [
    "#### The model is now portable:"
   ]
  },
  {
   "cell_type": "code",
   "execution_count": 37,
   "metadata": {
    "collapsed": false
   },
   "outputs": [
    {
     "name": "stdout",
     "output_type": "stream",
     "text": [
      "46.0% Positive\n"
     ]
    }
   ],
   "source": [
    "import pickle\n",
    "\n",
    "# save the model to disk\n",
    "filename = 'model_v1.pkl'\n",
    "pickle.dump(text_classifier2, open(filename, 'wb'), protocol=2)\n",
    " \n",
    "# load the model from disk\n",
    "loaded_model = pickle.load(open(filename, 'rb'))\n",
    "print(\"%2.1f%% Positive\" % (100 * loaded_model.predict_proba([\"But he does like you!\"])[0:1][:,1][0]))"
   ]
  },
  {
   "cell_type": "code",
   "execution_count": 38,
   "metadata": {
    "collapsed": false
   },
   "outputs": [
    {
     "data": {
      "text/plain": [
       "'46.0% Positive'"
      ]
     },
     "execution_count": 38,
     "metadata": {},
     "output_type": "execute_result"
    }
   ],
   "source": [
    "\"%2.1f%% Positive\" % (100 * loaded_model.predict_proba([\"But he does like you!\"])[0:1][:,1][0])"
   ]
  },
  {
   "cell_type": "markdown",
   "metadata": {
    "collapsed": true
   },
   "source": [
    "##### During that one week"
   ]
  },
  {
   "cell_type": "code",
   "execution_count": 39,
   "metadata": {
    "collapsed": true
   },
   "outputs": [],
   "source": [
    "def grid_search(stop_words_list, ngram_ranges_list, max_features_list, binary_list, #CV\n",
    "               norm_list, use_idf_list, #TFIDF\n",
    "               penalty_list, C_list #LR \n",
    "               ):\n",
    "    for sw in stop_words_list:\n",
    "        for ng in ngram_ranges_list:\n",
    "            for mf in max_features_list:\n",
    "                for b in binary_list:\n",
    "                    for n in norm_list:\n",
    "                        for ui in use_idf_list:\n",
    "                            for p in penalty_list:\n",
    "                                for c in C_list:\n",
    "                                    text_classifier = Pipeline([\n",
    "                                        ('vectorizer', CountVectorizer(stop_words=sw, ngram_range=ng, max_features=mf, binary=b)),\n",
    "                                        ('tfidf', TfidfTransformer(norm=n, use_idf=ui)),\n",
    "                                        ('clf', LogisticRegression(penalty=p, C=c, random_state=21)),\n",
    "\n",
    "                                    ])\n",
    "                                    text_classifier.fit(X_train, y_train) \n",
    "                                    predicted_train = text_classifier.predict(X_train)\n",
    "                                    predicted_test = text_classifier.predict(X_test)\n",
    "                                    prec_train = round(metrics.recall_score(y_train, predicted_train, average='micro'), 2)\n",
    "                                    prec_test = round(metrics.recall_score(y_test, predicted_test, average='micro'), 2)\n",
    "                                    ratio = prec_train/prec_test\n",
    "                                    if (ratio > 0.92) & (ratio < 1.07) & (prec_train > 0.7):\n",
    "                                        print(\"prec_trn {}, prec_tst {} *** sw = {}, ng = {}, mf = {}, b = {}, n = {}, ui = {}, p = {}, c = {}\".format(prec_train, prec_test, sw, ng, mf, b, n, ui, p, c))\n",
    "                                    else:\n",
    "                                        print(\"prec_trn {}, prec_tst {}     sw = {}, ng = {}, mf = {}, b = {}, n = {}, ui = {}, p = {}, c = {}\".format(prec_train, prec_test, sw, ng, mf, b, n, ui, p, c))"
   ]
  },
  {
   "cell_type": "code",
   "execution_count": 40,
   "metadata": {
    "collapsed": false
   },
   "outputs": [
    {
     "name": "stdout",
     "output_type": "stream",
     "text": [
      "prec_trn 0.49, prec_tst 0.5     sw = english, ng = (1, 2), mf = 2000, b = True, n = l2, ui = True, p = l1, c = 0.01\n",
      "prec_trn 0.55, prec_tst 0.57     sw = english, ng = (1, 2), mf = 2000, b = True, n = l2, ui = True, p = l1, c = 0.07\n",
      "prec_trn 0.59, prec_tst 0.6     sw = english, ng = (1, 2), mf = 2000, b = True, n = l2, ui = True, p = l1, c = 0.1\n",
      "prec_trn 0.62, prec_tst 0.64     sw = english, ng = (1, 2), mf = 2000, b = True, n = l2, ui = True, p = l1, c = 0.2\n",
      "prec_trn 0.78, prec_tst 0.75 *** sw = english, ng = (1, 2), mf = 2000, b = True, n = l2, ui = True, p = l1, c = 0.9\n",
      "prec_trn 0.63, prec_tst 0.61     sw = english, ng = (1, 2), mf = 2000, b = True, n = l2, ui = True, p = l2, c = 0.01\n",
      "prec_trn 0.88, prec_tst 0.79     sw = english, ng = (1, 2), mf = 2000, b = True, n = l2, ui = True, p = l2, c = 0.07\n",
      "prec_trn 0.89, prec_tst 0.81     sw = english, ng = (1, 2), mf = 2000, b = True, n = l2, ui = True, p = l2, c = 0.1\n",
      "prec_trn 0.89, prec_tst 0.81     sw = english, ng = (1, 2), mf = 2000, b = True, n = l2, ui = True, p = l2, c = 0.2\n",
      "prec_trn 0.92, prec_tst 0.81     sw = english, ng = (1, 2), mf = 2000, b = True, n = l2, ui = True, p = l2, c = 0.9\n",
      "prec_trn 0.49, prec_tst 0.5     sw = english, ng = (1, 2), mf = 2000, b = True, n = l2, ui = False, p = l1, c = 0.01\n",
      "prec_trn 0.59, prec_tst 0.6     sw = english, ng = (1, 2), mf = 2000, b = True, n = l2, ui = False, p = l1, c = 0.07\n",
      "prec_trn 0.59, prec_tst 0.6     sw = english, ng = (1, 2), mf = 2000, b = True, n = l2, ui = False, p = l1, c = 0.1\n",
      "prec_trn 0.65, prec_tst 0.67     sw = english, ng = (1, 2), mf = 2000, b = True, n = l2, ui = False, p = l1, c = 0.2\n",
      "prec_trn 0.77, prec_tst 0.76 *** sw = english, ng = (1, 2), mf = 2000, b = True, n = l2, ui = False, p = l1, c = 0.9\n",
      "prec_trn 0.72, prec_tst 0.66     sw = english, ng = (1, 2), mf = 2000, b = True, n = l2, ui = False, p = l2, c = 0.01\n",
      "prec_trn 0.85, prec_tst 0.79     sw = english, ng = (1, 2), mf = 2000, b = True, n = l2, ui = False, p = l2, c = 0.07\n",
      "prec_trn 0.85, prec_tst 0.79     sw = english, ng = (1, 2), mf = 2000, b = True, n = l2, ui = False, p = l2, c = 0.1\n",
      "prec_trn 0.86, prec_tst 0.8     sw = english, ng = (1, 2), mf = 2000, b = True, n = l2, ui = False, p = l2, c = 0.2\n",
      "prec_trn 0.9, prec_tst 0.81     sw = english, ng = (1, 2), mf = 2000, b = True, n = l2, ui = False, p = l2, c = 0.9\n",
      "prec_trn 0.49, prec_tst 0.5     sw = english, ng = (1, 2), mf = 2000, b = True, n = l1, ui = True, p = l1, c = 0.01\n",
      "prec_trn 0.49, prec_tst 0.5     sw = english, ng = (1, 2), mf = 2000, b = True, n = l1, ui = True, p = l1, c = 0.07\n",
      "prec_trn 0.51, prec_tst 0.5     sw = english, ng = (1, 2), mf = 2000, b = True, n = l1, ui = True, p = l1, c = 0.1\n",
      "prec_trn 0.59, prec_tst 0.6     sw = english, ng = (1, 2), mf = 2000, b = True, n = l1, ui = True, p = l1, c = 0.2\n",
      "prec_trn 0.7, prec_tst 0.71     sw = english, ng = (1, 2), mf = 2000, b = True, n = l1, ui = True, p = l1, c = 0.9\n",
      "prec_trn 0.52, prec_tst 0.51     sw = english, ng = (1, 2), mf = 2000, b = True, n = l1, ui = True, p = l2, c = 0.01\n",
      "prec_trn 0.77, prec_tst 0.7     sw = english, ng = (1, 2), mf = 2000, b = True, n = l1, ui = True, p = l2, c = 0.07\n",
      "prec_trn 0.82, prec_tst 0.74     sw = english, ng = (1, 2), mf = 2000, b = True, n = l1, ui = True, p = l2, c = 0.1\n",
      "prec_trn 0.87, prec_tst 0.78     sw = english, ng = (1, 2), mf = 2000, b = True, n = l1, ui = True, p = l2, c = 0.2\n",
      "prec_trn 0.89, prec_tst 0.79     sw = english, ng = (1, 2), mf = 2000, b = True, n = l1, ui = True, p = l2, c = 0.9\n",
      "prec_trn 0.49, prec_tst 0.5     sw = english, ng = (1, 2), mf = 2000, b = True, n = l1, ui = False, p = l1, c = 0.01\n",
      "prec_trn 0.49, prec_tst 0.5     sw = english, ng = (1, 2), mf = 2000, b = True, n = l1, ui = False, p = l1, c = 0.07\n",
      "prec_trn 0.55, prec_tst 0.57     sw = english, ng = (1, 2), mf = 2000, b = True, n = l1, ui = False, p = l1, c = 0.1\n",
      "prec_trn 0.59, prec_tst 0.61     sw = english, ng = (1, 2), mf = 2000, b = True, n = l1, ui = False, p = l1, c = 0.2\n",
      "prec_trn 0.71, prec_tst 0.71 *** sw = english, ng = (1, 2), mf = 2000, b = True, n = l1, ui = False, p = l1, c = 0.9\n",
      "prec_trn 0.52, prec_tst 0.51     sw = english, ng = (1, 2), mf = 2000, b = True, n = l1, ui = False, p = l2, c = 0.01\n",
      "prec_trn 0.82, prec_tst 0.73     sw = english, ng = (1, 2), mf = 2000, b = True, n = l1, ui = False, p = l2, c = 0.07\n",
      "prec_trn 0.84, prec_tst 0.77     sw = english, ng = (1, 2), mf = 2000, b = True, n = l1, ui = False, p = l2, c = 0.1\n",
      "prec_trn 0.85, prec_tst 0.78     sw = english, ng = (1, 2), mf = 2000, b = True, n = l1, ui = False, p = l2, c = 0.2\n",
      "prec_trn 0.86, prec_tst 0.79     sw = english, ng = (1, 2), mf = 2000, b = True, n = l1, ui = False, p = l2, c = 0.9\n",
      "prec_trn 0.49, prec_tst 0.5     sw = english, ng = (1, 2), mf = 2000, b = False, n = l2, ui = True, p = l1, c = 0.01\n",
      "prec_trn 0.55, prec_tst 0.57     sw = english, ng = (1, 2), mf = 2000, b = False, n = l2, ui = True, p = l1, c = 0.07\n",
      "prec_trn 0.59, prec_tst 0.6     sw = english, ng = (1, 2), mf = 2000, b = False, n = l2, ui = True, p = l1, c = 0.1\n",
      "prec_trn 0.63, prec_tst 0.65     sw = english, ng = (1, 2), mf = 2000, b = False, n = l2, ui = True, p = l1, c = 0.2\n",
      "prec_trn 0.78, prec_tst 0.76 *** sw = english, ng = (1, 2), mf = 2000, b = False, n = l2, ui = True, p = l1, c = 0.9\n",
      "prec_trn 0.63, prec_tst 0.61     sw = english, ng = (1, 2), mf = 2000, b = False, n = l2, ui = True, p = l2, c = 0.01\n",
      "prec_trn 0.89, prec_tst 0.79     sw = english, ng = (1, 2), mf = 2000, b = False, n = l2, ui = True, p = l2, c = 0.07\n",
      "prec_trn 0.89, prec_tst 0.8     sw = english, ng = (1, 2), mf = 2000, b = False, n = l2, ui = True, p = l2, c = 0.1\n",
      "prec_trn 0.89, prec_tst 0.8     sw = english, ng = (1, 2), mf = 2000, b = False, n = l2, ui = True, p = l2, c = 0.2\n",
      "prec_trn 0.93, prec_tst 0.81     sw = english, ng = (1, 2), mf = 2000, b = False, n = l2, ui = True, p = l2, c = 0.9\n",
      "prec_trn 0.49, prec_tst 0.5     sw = english, ng = (1, 2), mf = 2000, b = False, n = l2, ui = False, p = l1, c = 0.01\n",
      "prec_trn 0.59, prec_tst 0.6     sw = english, ng = (1, 2), mf = 2000, b = False, n = l2, ui = False, p = l1, c = 0.07\n",
      "prec_trn 0.59, prec_tst 0.61     sw = english, ng = (1, 2), mf = 2000, b = False, n = l2, ui = False, p = l1, c = 0.1\n",
      "prec_trn 0.65, prec_tst 0.67     sw = english, ng = (1, 2), mf = 2000, b = False, n = l2, ui = False, p = l1, c = 0.2\n",
      "prec_trn 0.78, prec_tst 0.76 *** sw = english, ng = (1, 2), mf = 2000, b = False, n = l2, ui = False, p = l1, c = 0.9\n",
      "prec_trn 0.71, prec_tst 0.66     sw = english, ng = (1, 2), mf = 2000, b = False, n = l2, ui = False, p = l2, c = 0.01\n",
      "prec_trn 0.85, prec_tst 0.78     sw = english, ng = (1, 2), mf = 2000, b = False, n = l2, ui = False, p = l2, c = 0.07\n",
      "prec_trn 0.85, prec_tst 0.78     sw = english, ng = (1, 2), mf = 2000, b = False, n = l2, ui = False, p = l2, c = 0.1\n",
      "prec_trn 0.86, prec_tst 0.79     sw = english, ng = (1, 2), mf = 2000, b = False, n = l2, ui = False, p = l2, c = 0.2\n",
      "prec_trn 0.9, prec_tst 0.81     sw = english, ng = (1, 2), mf = 2000, b = False, n = l2, ui = False, p = l2, c = 0.9\n",
      "prec_trn 0.49, prec_tst 0.5     sw = english, ng = (1, 2), mf = 2000, b = False, n = l1, ui = True, p = l1, c = 0.01\n",
      "prec_trn 0.49, prec_tst 0.5     sw = english, ng = (1, 2), mf = 2000, b = False, n = l1, ui = True, p = l1, c = 0.07\n",
      "prec_trn 0.51, prec_tst 0.5     sw = english, ng = (1, 2), mf = 2000, b = False, n = l1, ui = True, p = l1, c = 0.1\n",
      "prec_trn 0.59, prec_tst 0.61     sw = english, ng = (1, 2), mf = 2000, b = False, n = l1, ui = True, p = l1, c = 0.2\n",
      "prec_trn 0.71, prec_tst 0.71 *** sw = english, ng = (1, 2), mf = 2000, b = False, n = l1, ui = True, p = l1, c = 0.9\n",
      "prec_trn 0.52, prec_tst 0.51     sw = english, ng = (1, 2), mf = 2000, b = False, n = l1, ui = True, p = l2, c = 0.01\n",
      "prec_trn 0.77, prec_tst 0.71     sw = english, ng = (1, 2), mf = 2000, b = False, n = l1, ui = True, p = l2, c = 0.07\n",
      "prec_trn 0.83, prec_tst 0.74     sw = english, ng = (1, 2), mf = 2000, b = False, n = l1, ui = True, p = l2, c = 0.1\n",
      "prec_trn 0.87, prec_tst 0.78     sw = english, ng = (1, 2), mf = 2000, b = False, n = l1, ui = True, p = l2, c = 0.2\n",
      "prec_trn 0.89, prec_tst 0.79     sw = english, ng = (1, 2), mf = 2000, b = False, n = l1, ui = True, p = l2, c = 0.9\n",
      "prec_trn 0.49, prec_tst 0.5     sw = english, ng = (1, 2), mf = 2000, b = False, n = l1, ui = False, p = l1, c = 0.01\n",
      "prec_trn 0.49, prec_tst 0.5     sw = english, ng = (1, 2), mf = 2000, b = False, n = l1, ui = False, p = l1, c = 0.07\n",
      "prec_trn 0.55, prec_tst 0.57     sw = english, ng = (1, 2), mf = 2000, b = False, n = l1, ui = False, p = l1, c = 0.1\n",
      "prec_trn 0.59, prec_tst 0.61     sw = english, ng = (1, 2), mf = 2000, b = False, n = l1, ui = False, p = l1, c = 0.2\n",
      "prec_trn 0.71, prec_tst 0.71 *** sw = english, ng = (1, 2), mf = 2000, b = False, n = l1, ui = False, p = l1, c = 0.9\n",
      "prec_trn 0.52, prec_tst 0.51     sw = english, ng = (1, 2), mf = 2000, b = False, n = l1, ui = False, p = l2, c = 0.01\n",
      "prec_trn 0.82, prec_tst 0.74     sw = english, ng = (1, 2), mf = 2000, b = False, n = l1, ui = False, p = l2, c = 0.07\n",
      "prec_trn 0.84, prec_tst 0.77     sw = english, ng = (1, 2), mf = 2000, b = False, n = l1, ui = False, p = l2, c = 0.1\n",
      "prec_trn 0.85, prec_tst 0.77     sw = english, ng = (1, 2), mf = 2000, b = False, n = l1, ui = False, p = l2, c = 0.2\n",
      "prec_trn 0.87, prec_tst 0.78     sw = english, ng = (1, 2), mf = 2000, b = False, n = l1, ui = False, p = l2, c = 0.9\n",
      "prec_trn 0.49, prec_tst 0.5     sw = english, ng = (1, 2), mf = 5000, b = True, n = l2, ui = True, p = l1, c = 0.01\n",
      "prec_trn 0.55, prec_tst 0.57     sw = english, ng = (1, 2), mf = 5000, b = True, n = l2, ui = True, p = l1, c = 0.07\n",
      "prec_trn 0.55, prec_tst 0.57     sw = english, ng = (1, 2), mf = 5000, b = True, n = l2, ui = True, p = l1, c = 0.1\n",
      "prec_trn 0.61, prec_tst 0.64     sw = english, ng = (1, 2), mf = 5000, b = True, n = l2, ui = True, p = l1, c = 0.2\n",
      "prec_trn 0.77, prec_tst 0.75 *** sw = english, ng = (1, 2), mf = 5000, b = True, n = l2, ui = True, p = l1, c = 0.9\n",
      "prec_trn 0.58, prec_tst 0.58     sw = english, ng = (1, 2), mf = 5000, b = True, n = l2, ui = True, p = l2, c = 0.01\n",
      "prec_trn 0.92, prec_tst 0.8     sw = english, ng = (1, 2), mf = 5000, b = True, n = l2, ui = True, p = l2, c = 0.07\n",
      "prec_trn 0.92, prec_tst 0.8     sw = english, ng = (1, 2), mf = 5000, b = True, n = l2, ui = True, p = l2, c = 0.1\n",
      "prec_trn 0.93, prec_tst 0.81     sw = english, ng = (1, 2), mf = 5000, b = True, n = l2, ui = True, p = l2, c = 0.2\n",
      "prec_trn 0.95, prec_tst 0.81     sw = english, ng = (1, 2), mf = 5000, b = True, n = l2, ui = True, p = l2, c = 0.9\n",
      "prec_trn 0.49, prec_tst 0.5     sw = english, ng = (1, 2), mf = 5000, b = True, n = l2, ui = False, p = l1, c = 0.01\n",
      "prec_trn 0.59, prec_tst 0.6     sw = english, ng = (1, 2), mf = 5000, b = True, n = l2, ui = False, p = l1, c = 0.07\n",
      "prec_trn 0.59, prec_tst 0.6     sw = english, ng = (1, 2), mf = 5000, b = True, n = l2, ui = False, p = l1, c = 0.1\n",
      "prec_trn 0.63, prec_tst 0.65     sw = english, ng = (1, 2), mf = 5000, b = True, n = l2, ui = False, p = l1, c = 0.2\n",
      "prec_trn 0.77, prec_tst 0.75 *** sw = english, ng = (1, 2), mf = 5000, b = True, n = l2, ui = False, p = l1, c = 0.9\n",
      "prec_trn 0.66, prec_tst 0.63     sw = english, ng = (1, 2), mf = 5000, b = True, n = l2, ui = False, p = l2, c = 0.01\n",
      "prec_trn 0.87, prec_tst 0.78     sw = english, ng = (1, 2), mf = 5000, b = True, n = l2, ui = False, p = l2, c = 0.07\n",
      "prec_trn 0.87, prec_tst 0.79     sw = english, ng = (1, 2), mf = 5000, b = True, n = l2, ui = False, p = l2, c = 0.1\n",
      "prec_trn 0.88, prec_tst 0.79     sw = english, ng = (1, 2), mf = 5000, b = True, n = l2, ui = False, p = l2, c = 0.2\n",
      "prec_trn 0.93, prec_tst 0.81     sw = english, ng = (1, 2), mf = 5000, b = True, n = l2, ui = False, p = l2, c = 0.9\n",
      "prec_trn 0.49, prec_tst 0.5     sw = english, ng = (1, 2), mf = 5000, b = True, n = l1, ui = True, p = l1, c = 0.01\n",
      "prec_trn 0.49, prec_tst 0.5     sw = english, ng = (1, 2), mf = 5000, b = True, n = l1, ui = True, p = l1, c = 0.07\n",
      "prec_trn 0.51, prec_tst 0.5     sw = english, ng = (1, 2), mf = 5000, b = True, n = l1, ui = True, p = l1, c = 0.1\n",
      "prec_trn 0.55, prec_tst 0.57     sw = english, ng = (1, 2), mf = 5000, b = True, n = l1, ui = True, p = l1, c = 0.2\n",
      "prec_trn 0.69, prec_tst 0.71     sw = english, ng = (1, 2), mf = 5000, b = True, n = l1, ui = True, p = l1, c = 0.9\n",
      "prec_trn 0.51, prec_tst 0.5     sw = english, ng = (1, 2), mf = 5000, b = True, n = l1, ui = True, p = l2, c = 0.01\n",
      "prec_trn 0.68, prec_tst 0.66     sw = english, ng = (1, 2), mf = 5000, b = True, n = l1, ui = True, p = l2, c = 0.07\n",
      "prec_trn 0.75, prec_tst 0.7     sw = english, ng = (1, 2), mf = 5000, b = True, n = l1, ui = True, p = l2, c = 0.1\n",
      "prec_trn 0.88, prec_tst 0.76     sw = english, ng = (1, 2), mf = 5000, b = True, n = l1, ui = True, p = l2, c = 0.2\n",
      "prec_trn 0.91, prec_tst 0.8     sw = english, ng = (1, 2), mf = 5000, b = True, n = l1, ui = True, p = l2, c = 0.9\n",
      "prec_trn 0.49, prec_tst 0.5     sw = english, ng = (1, 2), mf = 5000, b = True, n = l1, ui = False, p = l1, c = 0.01\n",
      "prec_trn 0.49, prec_tst 0.5     sw = english, ng = (1, 2), mf = 5000, b = True, n = l1, ui = False, p = l1, c = 0.07\n",
      "prec_trn 0.55, prec_tst 0.57     sw = english, ng = (1, 2), mf = 5000, b = True, n = l1, ui = False, p = l1, c = 0.1\n",
      "prec_trn 0.59, prec_tst 0.6     sw = english, ng = (1, 2), mf = 5000, b = True, n = l1, ui = False, p = l1, c = 0.2\n",
      "prec_trn 0.69, prec_tst 0.7     sw = english, ng = (1, 2), mf = 5000, b = True, n = l1, ui = False, p = l1, c = 0.9\n",
      "prec_trn 0.52, prec_tst 0.51     sw = english, ng = (1, 2), mf = 5000, b = True, n = l1, ui = False, p = l2, c = 0.01\n",
      "prec_trn 0.76, prec_tst 0.7     sw = english, ng = (1, 2), mf = 5000, b = True, n = l1, ui = False, p = l2, c = 0.07\n",
      "prec_trn 0.83, prec_tst 0.75     sw = english, ng = (1, 2), mf = 5000, b = True, n = l1, ui = False, p = l2, c = 0.1\n",
      "prec_trn 0.86, prec_tst 0.78     sw = english, ng = (1, 2), mf = 5000, b = True, n = l1, ui = False, p = l2, c = 0.2\n",
      "prec_trn 0.88, prec_tst 0.78     sw = english, ng = (1, 2), mf = 5000, b = True, n = l1, ui = False, p = l2, c = 0.9\n",
      "prec_trn 0.49, prec_tst 0.5     sw = english, ng = (1, 2), mf = 5000, b = False, n = l2, ui = True, p = l1, c = 0.01\n",
      "prec_trn 0.55, prec_tst 0.57     sw = english, ng = (1, 2), mf = 5000, b = False, n = l2, ui = True, p = l1, c = 0.07\n",
      "prec_trn 0.55, prec_tst 0.57     sw = english, ng = (1, 2), mf = 5000, b = False, n = l2, ui = True, p = l1, c = 0.1\n",
      "prec_trn 0.61, prec_tst 0.63     sw = english, ng = (1, 2), mf = 5000, b = False, n = l2, ui = True, p = l1, c = 0.2\n",
      "prec_trn 0.76, prec_tst 0.75 *** sw = english, ng = (1, 2), mf = 5000, b = False, n = l2, ui = True, p = l1, c = 0.9\n",
      "prec_trn 0.59, prec_tst 0.58     sw = english, ng = (1, 2), mf = 5000, b = False, n = l2, ui = True, p = l2, c = 0.01\n",
      "prec_trn 0.91, prec_tst 0.8     sw = english, ng = (1, 2), mf = 5000, b = False, n = l2, ui = True, p = l2, c = 0.07\n",
      "prec_trn 0.92, prec_tst 0.8     sw = english, ng = (1, 2), mf = 5000, b = False, n = l2, ui = True, p = l2, c = 0.1\n",
      "prec_trn 0.92, prec_tst 0.8     sw = english, ng = (1, 2), mf = 5000, b = False, n = l2, ui = True, p = l2, c = 0.2\n",
      "prec_trn 0.95, prec_tst 0.81     sw = english, ng = (1, 2), mf = 5000, b = False, n = l2, ui = True, p = l2, c = 0.9\n",
      "prec_trn 0.49, prec_tst 0.5     sw = english, ng = (1, 2), mf = 5000, b = False, n = l2, ui = False, p = l1, c = 0.01\n",
      "prec_trn 0.59, prec_tst 0.6     sw = english, ng = (1, 2), mf = 5000, b = False, n = l2, ui = False, p = l1, c = 0.07\n",
      "prec_trn 0.59, prec_tst 0.6     sw = english, ng = (1, 2), mf = 5000, b = False, n = l2, ui = False, p = l1, c = 0.1\n",
      "prec_trn 0.63, prec_tst 0.65     sw = english, ng = (1, 2), mf = 5000, b = False, n = l2, ui = False, p = l1, c = 0.2\n",
      "prec_trn 0.77, prec_tst 0.75 *** sw = english, ng = (1, 2), mf = 5000, b = False, n = l2, ui = False, p = l1, c = 0.9\n",
      "prec_trn 0.67, prec_tst 0.63     sw = english, ng = (1, 2), mf = 5000, b = False, n = l2, ui = False, p = l2, c = 0.01\n",
      "prec_trn 0.87, prec_tst 0.78     sw = english, ng = (1, 2), mf = 5000, b = False, n = l2, ui = False, p = l2, c = 0.07\n",
      "prec_trn 0.87, prec_tst 0.78     sw = english, ng = (1, 2), mf = 5000, b = False, n = l2, ui = False, p = l2, c = 0.1\n",
      "prec_trn 0.88, prec_tst 0.79     sw = english, ng = (1, 2), mf = 5000, b = False, n = l2, ui = False, p = l2, c = 0.2\n",
      "prec_trn 0.93, prec_tst 0.8     sw = english, ng = (1, 2), mf = 5000, b = False, n = l2, ui = False, p = l2, c = 0.9\n",
      "prec_trn 0.49, prec_tst 0.5     sw = english, ng = (1, 2), mf = 5000, b = False, n = l1, ui = True, p = l1, c = 0.01\n",
      "prec_trn 0.49, prec_tst 0.5     sw = english, ng = (1, 2), mf = 5000, b = False, n = l1, ui = True, p = l1, c = 0.07\n",
      "prec_trn 0.51, prec_tst 0.5     sw = english, ng = (1, 2), mf = 5000, b = False, n = l1, ui = True, p = l1, c = 0.1\n",
      "prec_trn 0.55, prec_tst 0.57     sw = english, ng = (1, 2), mf = 5000, b = False, n = l1, ui = True, p = l1, c = 0.2\n",
      "prec_trn 0.69, prec_tst 0.7     sw = english, ng = (1, 2), mf = 5000, b = False, n = l1, ui = True, p = l1, c = 0.9\n",
      "prec_trn 0.51, prec_tst 0.5     sw = english, ng = (1, 2), mf = 5000, b = False, n = l1, ui = True, p = l2, c = 0.01\n",
      "prec_trn 0.68, prec_tst 0.66     sw = english, ng = (1, 2), mf = 5000, b = False, n = l1, ui = True, p = l2, c = 0.07\n",
      "prec_trn 0.76, prec_tst 0.71     sw = english, ng = (1, 2), mf = 5000, b = False, n = l1, ui = True, p = l2, c = 0.1\n",
      "prec_trn 0.88, prec_tst 0.78     sw = english, ng = (1, 2), mf = 5000, b = False, n = l1, ui = True, p = l2, c = 0.2\n",
      "prec_trn 0.91, prec_tst 0.8     sw = english, ng = (1, 2), mf = 5000, b = False, n = l1, ui = True, p = l2, c = 0.9\n",
      "prec_trn 0.49, prec_tst 0.5     sw = english, ng = (1, 2), mf = 5000, b = False, n = l1, ui = False, p = l1, c = 0.01\n",
      "prec_trn 0.49, prec_tst 0.5     sw = english, ng = (1, 2), mf = 5000, b = False, n = l1, ui = False, p = l1, c = 0.07\n",
      "prec_trn 0.55, prec_tst 0.57     sw = english, ng = (1, 2), mf = 5000, b = False, n = l1, ui = False, p = l1, c = 0.1\n",
      "prec_trn 0.59, prec_tst 0.6     sw = english, ng = (1, 2), mf = 5000, b = False, n = l1, ui = False, p = l1, c = 0.2\n",
      "prec_trn 0.7, prec_tst 0.7     sw = english, ng = (1, 2), mf = 5000, b = False, n = l1, ui = False, p = l1, c = 0.9\n",
      "prec_trn 0.52, prec_tst 0.51     sw = english, ng = (1, 2), mf = 5000, b = False, n = l1, ui = False, p = l2, c = 0.01\n",
      "prec_trn 0.76, prec_tst 0.71     sw = english, ng = (1, 2), mf = 5000, b = False, n = l1, ui = False, p = l2, c = 0.07\n",
      "prec_trn 0.83, prec_tst 0.76     sw = english, ng = (1, 2), mf = 5000, b = False, n = l1, ui = False, p = l2, c = 0.1\n",
      "prec_trn 0.86, prec_tst 0.78     sw = english, ng = (1, 2), mf = 5000, b = False, n = l1, ui = False, p = l2, c = 0.2\n",
      "prec_trn 0.87, prec_tst 0.78     sw = english, ng = (1, 2), mf = 5000, b = False, n = l1, ui = False, p = l2, c = 0.9\n",
      "prec_trn 0.49, prec_tst 0.5     sw = english, ng = (1, 2), mf = 60000, b = True, n = l2, ui = True, p = l1, c = 0.01\n",
      "prec_trn 0.49, prec_tst 0.5     sw = english, ng = (1, 2), mf = 60000, b = True, n = l2, ui = True, p = l1, c = 0.07\n",
      "prec_trn 0.55, prec_tst 0.57     sw = english, ng = (1, 2), mf = 60000, b = True, n = l2, ui = True, p = l1, c = 0.1\n",
      "prec_trn 0.59, prec_tst 0.6     sw = english, ng = (1, 2), mf = 60000, b = True, n = l2, ui = True, p = l1, c = 0.2\n",
      "prec_trn 0.74, prec_tst 0.74 *** sw = english, ng = (1, 2), mf = 60000, b = True, n = l2, ui = True, p = l1, c = 0.9\n",
      "prec_trn 0.53, prec_tst 0.53     sw = english, ng = (1, 2), mf = 60000, b = True, n = l2, ui = True, p = l2, c = 0.01\n",
      "prec_trn 0.94, prec_tst 0.79     sw = english, ng = (1, 2), mf = 60000, b = True, n = l2, ui = True, p = l2, c = 0.07\n",
      "prec_trn 0.95, prec_tst 0.8     sw = english, ng = (1, 2), mf = 60000, b = True, n = l2, ui = True, p = l2, c = 0.1\n",
      "prec_trn 0.96, prec_tst 0.81     sw = english, ng = (1, 2), mf = 60000, b = True, n = l2, ui = True, p = l2, c = 0.2\n",
      "prec_trn 0.98, prec_tst 0.81     sw = english, ng = (1, 2), mf = 60000, b = True, n = l2, ui = True, p = l2, c = 0.9\n",
      "prec_trn 0.49, prec_tst 0.5     sw = english, ng = (1, 2), mf = 60000, b = True, n = l2, ui = False, p = l1, c = 0.01\n",
      "prec_trn 0.55, prec_tst 0.57     sw = english, ng = (1, 2), mf = 60000, b = True, n = l2, ui = False, p = l1, c = 0.07\n",
      "prec_trn 0.59, prec_tst 0.6     sw = english, ng = (1, 2), mf = 60000, b = True, n = l2, ui = False, p = l1, c = 0.1\n",
      "prec_trn 0.61, prec_tst 0.64     sw = english, ng = (1, 2), mf = 60000, b = True, n = l2, ui = False, p = l1, c = 0.2\n",
      "prec_trn 0.75, prec_tst 0.74 *** sw = english, ng = (1, 2), mf = 60000, b = True, n = l2, ui = False, p = l1, c = 0.9\n",
      "prec_trn 0.6, prec_tst 0.59     sw = english, ng = (1, 2), mf = 60000, b = True, n = l2, ui = False, p = l2, c = 0.01\n",
      "prec_trn 0.91, prec_tst 0.79     sw = english, ng = (1, 2), mf = 60000, b = True, n = l2, ui = False, p = l2, c = 0.07\n",
      "prec_trn 0.91, prec_tst 0.78     sw = english, ng = (1, 2), mf = 60000, b = True, n = l2, ui = False, p = l2, c = 0.1\n",
      "prec_trn 0.92, prec_tst 0.79     sw = english, ng = (1, 2), mf = 60000, b = True, n = l2, ui = False, p = l2, c = 0.2\n",
      "prec_trn 0.96, prec_tst 0.81     sw = english, ng = (1, 2), mf = 60000, b = True, n = l2, ui = False, p = l2, c = 0.9\n",
      "prec_trn 0.49, prec_tst 0.5     sw = english, ng = (1, 2), mf = 60000, b = True, n = l1, ui = True, p = l1, c = 0.01\n",
      "prec_trn 0.49, prec_tst 0.5     sw = english, ng = (1, 2), mf = 60000, b = True, n = l1, ui = True, p = l1, c = 0.07\n",
      "prec_trn 0.51, prec_tst 0.5     sw = english, ng = (1, 2), mf = 60000, b = True, n = l1, ui = True, p = l1, c = 0.1\n",
      "prec_trn 0.51, prec_tst 0.5     sw = english, ng = (1, 2), mf = 60000, b = True, n = l1, ui = True, p = l1, c = 0.2\n",
      "prec_trn 0.65, prec_tst 0.67     sw = english, ng = (1, 2), mf = 60000, b = True, n = l1, ui = True, p = l1, c = 0.9\n",
      "prec_trn 0.51, prec_tst 0.5     sw = english, ng = (1, 2), mf = 60000, b = True, n = l1, ui = True, p = l2, c = 0.01\n",
      "prec_trn 0.58, prec_tst 0.57     sw = english, ng = (1, 2), mf = 60000, b = True, n = l1, ui = True, p = l2, c = 0.07\n",
      "prec_trn 0.61, prec_tst 0.62     sw = english, ng = (1, 2), mf = 60000, b = True, n = l1, ui = True, p = l2, c = 0.1\n",
      "prec_trn 0.75, prec_tst 0.7     sw = english, ng = (1, 2), mf = 60000, b = True, n = l1, ui = True, p = l2, c = 0.2\n",
      "prec_trn 0.95, prec_tst 0.79     sw = english, ng = (1, 2), mf = 60000, b = True, n = l1, ui = True, p = l2, c = 0.9\n",
      "prec_trn 0.49, prec_tst 0.5     sw = english, ng = (1, 2), mf = 60000, b = True, n = l1, ui = False, p = l1, c = 0.01\n",
      "prec_trn 0.49, prec_tst 0.5     sw = english, ng = (1, 2), mf = 60000, b = True, n = l1, ui = False, p = l1, c = 0.07\n",
      "prec_trn 0.51, prec_tst 0.5     sw = english, ng = (1, 2), mf = 60000, b = True, n = l1, ui = False, p = l1, c = 0.1\n",
      "prec_trn 0.55, prec_tst 0.57     sw = english, ng = (1, 2), mf = 60000, b = True, n = l1, ui = False, p = l1, c = 0.2\n",
      "prec_trn 0.67, prec_tst 0.69     sw = english, ng = (1, 2), mf = 60000, b = True, n = l1, ui = False, p = l1, c = 0.9\n",
      "prec_trn 0.51, prec_tst 0.5     sw = english, ng = (1, 2), mf = 60000, b = True, n = l1, ui = False, p = l2, c = 0.01\n",
      "prec_trn 0.62, prec_tst 0.63     sw = english, ng = (1, 2), mf = 60000, b = True, n = l1, ui = False, p = l2, c = 0.07\n",
      "prec_trn 0.69, prec_tst 0.68     sw = english, ng = (1, 2), mf = 60000, b = True, n = l1, ui = False, p = l2, c = 0.1\n",
      "prec_trn 0.86, prec_tst 0.75     sw = english, ng = (1, 2), mf = 60000, b = True, n = l1, ui = False, p = l2, c = 0.2\n",
      "prec_trn 0.89, prec_tst 0.78     sw = english, ng = (1, 2), mf = 60000, b = True, n = l1, ui = False, p = l2, c = 0.9\n",
      "prec_trn 0.49, prec_tst 0.5     sw = english, ng = (1, 2), mf = 60000, b = False, n = l2, ui = True, p = l1, c = 0.01\n",
      "prec_trn 0.49, prec_tst 0.5     sw = english, ng = (1, 2), mf = 60000, b = False, n = l2, ui = True, p = l1, c = 0.07\n",
      "prec_trn 0.55, prec_tst 0.57     sw = english, ng = (1, 2), mf = 60000, b = False, n = l2, ui = True, p = l1, c = 0.1\n",
      "prec_trn 0.59, prec_tst 0.61     sw = english, ng = (1, 2), mf = 60000, b = False, n = l2, ui = True, p = l1, c = 0.2\n",
      "prec_trn 0.74, prec_tst 0.74 *** sw = english, ng = (1, 2), mf = 60000, b = False, n = l2, ui = True, p = l1, c = 0.9\n",
      "prec_trn 0.54, prec_tst 0.53     sw = english, ng = (1, 2), mf = 60000, b = False, n = l2, ui = True, p = l2, c = 0.01\n",
      "prec_trn 0.94, prec_tst 0.78     sw = english, ng = (1, 2), mf = 60000, b = False, n = l2, ui = True, p = l2, c = 0.07\n",
      "prec_trn 0.95, prec_tst 0.8     sw = english, ng = (1, 2), mf = 60000, b = False, n = l2, ui = True, p = l2, c = 0.1\n",
      "prec_trn 0.96, prec_tst 0.8     sw = english, ng = (1, 2), mf = 60000, b = False, n = l2, ui = True, p = l2, c = 0.2\n",
      "prec_trn 0.98, prec_tst 0.8     sw = english, ng = (1, 2), mf = 60000, b = False, n = l2, ui = True, p = l2, c = 0.9\n",
      "prec_trn 0.49, prec_tst 0.5     sw = english, ng = (1, 2), mf = 60000, b = False, n = l2, ui = False, p = l1, c = 0.01\n",
      "prec_trn 0.55, prec_tst 0.57     sw = english, ng = (1, 2), mf = 60000, b = False, n = l2, ui = False, p = l1, c = 0.07\n",
      "prec_trn 0.59, prec_tst 0.6     sw = english, ng = (1, 2), mf = 60000, b = False, n = l2, ui = False, p = l1, c = 0.1\n",
      "prec_trn 0.61, prec_tst 0.63     sw = english, ng = (1, 2), mf = 60000, b = False, n = l2, ui = False, p = l1, c = 0.2\n",
      "prec_trn 0.75, prec_tst 0.75 *** sw = english, ng = (1, 2), mf = 60000, b = False, n = l2, ui = False, p = l1, c = 0.9\n",
      "prec_trn 0.6, prec_tst 0.59     sw = english, ng = (1, 2), mf = 60000, b = False, n = l2, ui = False, p = l2, c = 0.01\n",
      "prec_trn 0.91, prec_tst 0.79     sw = english, ng = (1, 2), mf = 60000, b = False, n = l2, ui = False, p = l2, c = 0.07\n",
      "prec_trn 0.91, prec_tst 0.79     sw = english, ng = (1, 2), mf = 60000, b = False, n = l2, ui = False, p = l2, c = 0.1\n",
      "prec_trn 0.91, prec_tst 0.79     sw = english, ng = (1, 2), mf = 60000, b = False, n = l2, ui = False, p = l2, c = 0.2\n",
      "prec_trn 0.96, prec_tst 0.81     sw = english, ng = (1, 2), mf = 60000, b = False, n = l2, ui = False, p = l2, c = 0.9\n",
      "prec_trn 0.49, prec_tst 0.5     sw = english, ng = (1, 2), mf = 60000, b = False, n = l1, ui = True, p = l1, c = 0.01\n",
      "prec_trn 0.49, prec_tst 0.5     sw = english, ng = (1, 2), mf = 60000, b = False, n = l1, ui = True, p = l1, c = 0.07\n",
      "prec_trn 0.51, prec_tst 0.5     sw = english, ng = (1, 2), mf = 60000, b = False, n = l1, ui = True, p = l1, c = 0.1\n",
      "prec_trn 0.51, prec_tst 0.5     sw = english, ng = (1, 2), mf = 60000, b = False, n = l1, ui = True, p = l1, c = 0.2\n",
      "prec_trn 0.65, prec_tst 0.67     sw = english, ng = (1, 2), mf = 60000, b = False, n = l1, ui = True, p = l1, c = 0.9\n",
      "prec_trn 0.51, prec_tst 0.5     sw = english, ng = (1, 2), mf = 60000, b = False, n = l1, ui = True, p = l2, c = 0.01\n",
      "prec_trn 0.58, prec_tst 0.58     sw = english, ng = (1, 2), mf = 60000, b = False, n = l1, ui = True, p = l2, c = 0.07\n",
      "prec_trn 0.62, prec_tst 0.63     sw = english, ng = (1, 2), mf = 60000, b = False, n = l1, ui = True, p = l2, c = 0.1\n",
      "prec_trn 0.76, prec_tst 0.71     sw = english, ng = (1, 2), mf = 60000, b = False, n = l1, ui = True, p = l2, c = 0.2\n",
      "prec_trn 0.95, prec_tst 0.79     sw = english, ng = (1, 2), mf = 60000, b = False, n = l1, ui = True, p = l2, c = 0.9\n",
      "prec_trn 0.49, prec_tst 0.5     sw = english, ng = (1, 2), mf = 60000, b = False, n = l1, ui = False, p = l1, c = 0.01\n",
      "prec_trn 0.49, prec_tst 0.5     sw = english, ng = (1, 2), mf = 60000, b = False, n = l1, ui = False, p = l1, c = 0.07\n",
      "prec_trn 0.51, prec_tst 0.5     sw = english, ng = (1, 2), mf = 60000, b = False, n = l1, ui = False, p = l1, c = 0.1\n",
      "prec_trn 0.55, prec_tst 0.57     sw = english, ng = (1, 2), mf = 60000, b = False, n = l1, ui = False, p = l1, c = 0.2\n",
      "prec_trn 0.67, prec_tst 0.69     sw = english, ng = (1, 2), mf = 60000, b = False, n = l1, ui = False, p = l1, c = 0.9\n",
      "prec_trn 0.51, prec_tst 0.5     sw = english, ng = (1, 2), mf = 60000, b = False, n = l1, ui = False, p = l2, c = 0.01\n",
      "prec_trn 0.62, prec_tst 0.63     sw = english, ng = (1, 2), mf = 60000, b = False, n = l1, ui = False, p = l2, c = 0.07\n",
      "prec_trn 0.69, prec_tst 0.68     sw = english, ng = (1, 2), mf = 60000, b = False, n = l1, ui = False, p = l2, c = 0.1\n",
      "prec_trn 0.87, prec_tst 0.76     sw = english, ng = (1, 2), mf = 60000, b = False, n = l1, ui = False, p = l2, c = 0.2\n",
      "prec_trn 0.89, prec_tst 0.78     sw = english, ng = (1, 2), mf = 60000, b = False, n = l1, ui = False, p = l2, c = 0.9\n",
      "prec_trn 0.49, prec_tst 0.5     sw = english, ng = (1, 3), mf = 2000, b = True, n = l2, ui = True, p = l1, c = 0.01\n",
      "prec_trn 0.55, prec_tst 0.57     sw = english, ng = (1, 3), mf = 2000, b = True, n = l2, ui = True, p = l1, c = 0.07\n",
      "prec_trn 0.59, prec_tst 0.6     sw = english, ng = (1, 3), mf = 2000, b = True, n = l2, ui = True, p = l1, c = 0.1\n",
      "prec_trn 0.63, prec_tst 0.65     sw = english, ng = (1, 3), mf = 2000, b = True, n = l2, ui = True, p = l1, c = 0.2\n",
      "prec_trn 0.78, prec_tst 0.76 *** sw = english, ng = (1, 3), mf = 2000, b = True, n = l2, ui = True, p = l1, c = 0.9\n",
      "prec_trn 0.62, prec_tst 0.61     sw = english, ng = (1, 3), mf = 2000, b = True, n = l2, ui = True, p = l2, c = 0.01\n",
      "prec_trn 0.88, prec_tst 0.79     sw = english, ng = (1, 3), mf = 2000, b = True, n = l2, ui = True, p = l2, c = 0.07\n",
      "prec_trn 0.88, prec_tst 0.81     sw = english, ng = (1, 3), mf = 2000, b = True, n = l2, ui = True, p = l2, c = 0.1\n",
      "prec_trn 0.89, prec_tst 0.81     sw = english, ng = (1, 3), mf = 2000, b = True, n = l2, ui = True, p = l2, c = 0.2\n",
      "prec_trn 0.92, prec_tst 0.81     sw = english, ng = (1, 3), mf = 2000, b = True, n = l2, ui = True, p = l2, c = 0.9\n",
      "prec_trn 0.49, prec_tst 0.5     sw = english, ng = (1, 3), mf = 2000, b = True, n = l2, ui = False, p = l1, c = 0.01\n",
      "prec_trn 0.59, prec_tst 0.6     sw = english, ng = (1, 3), mf = 2000, b = True, n = l2, ui = False, p = l1, c = 0.07\n",
      "prec_trn 0.59, prec_tst 0.6     sw = english, ng = (1, 3), mf = 2000, b = True, n = l2, ui = False, p = l1, c = 0.1\n",
      "prec_trn 0.65, prec_tst 0.67     sw = english, ng = (1, 3), mf = 2000, b = True, n = l2, ui = False, p = l1, c = 0.2\n",
      "prec_trn 0.78, prec_tst 0.75 *** sw = english, ng = (1, 3), mf = 2000, b = True, n = l2, ui = False, p = l1, c = 0.9\n",
      "prec_trn 0.71, prec_tst 0.66     sw = english, ng = (1, 3), mf = 2000, b = True, n = l2, ui = False, p = l2, c = 0.01\n",
      "prec_trn 0.85, prec_tst 0.79     sw = english, ng = (1, 3), mf = 2000, b = True, n = l2, ui = False, p = l2, c = 0.07\n",
      "prec_trn 0.85, prec_tst 0.79     sw = english, ng = (1, 3), mf = 2000, b = True, n = l2, ui = False, p = l2, c = 0.1\n",
      "prec_trn 0.86, prec_tst 0.8     sw = english, ng = (1, 3), mf = 2000, b = True, n = l2, ui = False, p = l2, c = 0.2\n",
      "prec_trn 0.9, prec_tst 0.81     sw = english, ng = (1, 3), mf = 2000, b = True, n = l2, ui = False, p = l2, c = 0.9\n",
      "prec_trn 0.49, prec_tst 0.5     sw = english, ng = (1, 3), mf = 2000, b = True, n = l1, ui = True, p = l1, c = 0.01\n",
      "prec_trn 0.49, prec_tst 0.5     sw = english, ng = (1, 3), mf = 2000, b = True, n = l1, ui = True, p = l1, c = 0.07\n",
      "prec_trn 0.51, prec_tst 0.5     sw = english, ng = (1, 3), mf = 2000, b = True, n = l1, ui = True, p = l1, c = 0.1\n",
      "prec_trn 0.59, prec_tst 0.61     sw = english, ng = (1, 3), mf = 2000, b = True, n = l1, ui = True, p = l1, c = 0.2\n",
      "prec_trn 0.7, prec_tst 0.71     sw = english, ng = (1, 3), mf = 2000, b = True, n = l1, ui = True, p = l1, c = 0.9\n",
      "prec_trn 0.52, prec_tst 0.51     sw = english, ng = (1, 3), mf = 2000, b = True, n = l1, ui = True, p = l2, c = 0.01\n",
      "prec_trn 0.76, prec_tst 0.7     sw = english, ng = (1, 3), mf = 2000, b = True, n = l1, ui = True, p = l2, c = 0.07\n",
      "prec_trn 0.82, prec_tst 0.74     sw = english, ng = (1, 3), mf = 2000, b = True, n = l1, ui = True, p = l2, c = 0.1\n",
      "prec_trn 0.87, prec_tst 0.78     sw = english, ng = (1, 3), mf = 2000, b = True, n = l1, ui = True, p = l2, c = 0.2\n",
      "prec_trn 0.89, prec_tst 0.79     sw = english, ng = (1, 3), mf = 2000, b = True, n = l1, ui = True, p = l2, c = 0.9\n",
      "prec_trn 0.49, prec_tst 0.5     sw = english, ng = (1, 3), mf = 2000, b = True, n = l1, ui = False, p = l1, c = 0.01\n",
      "prec_trn 0.49, prec_tst 0.5     sw = english, ng = (1, 3), mf = 2000, b = True, n = l1, ui = False, p = l1, c = 0.07\n",
      "prec_trn 0.55, prec_tst 0.57     sw = english, ng = (1, 3), mf = 2000, b = True, n = l1, ui = False, p = l1, c = 0.1\n",
      "prec_trn 0.59, prec_tst 0.61     sw = english, ng = (1, 3), mf = 2000, b = True, n = l1, ui = False, p = l1, c = 0.2\n",
      "prec_trn 0.71, prec_tst 0.71 *** sw = english, ng = (1, 3), mf = 2000, b = True, n = l1, ui = False, p = l1, c = 0.9\n",
      "prec_trn 0.52, prec_tst 0.51     sw = english, ng = (1, 3), mf = 2000, b = True, n = l1, ui = False, p = l2, c = 0.01\n",
      "prec_trn 0.81, prec_tst 0.73     sw = english, ng = (1, 3), mf = 2000, b = True, n = l1, ui = False, p = l2, c = 0.07\n",
      "prec_trn 0.84, prec_tst 0.77     sw = english, ng = (1, 3), mf = 2000, b = True, n = l1, ui = False, p = l2, c = 0.1\n",
      "prec_trn 0.85, prec_tst 0.78     sw = english, ng = (1, 3), mf = 2000, b = True, n = l1, ui = False, p = l2, c = 0.2\n",
      "prec_trn 0.87, prec_tst 0.79     sw = english, ng = (1, 3), mf = 2000, b = True, n = l1, ui = False, p = l2, c = 0.9\n",
      "prec_trn 0.49, prec_tst 0.5     sw = english, ng = (1, 3), mf = 2000, b = False, n = l2, ui = True, p = l1, c = 0.01\n",
      "prec_trn 0.55, prec_tst 0.57     sw = english, ng = (1, 3), mf = 2000, b = False, n = l2, ui = True, p = l1, c = 0.07\n",
      "prec_trn 0.59, prec_tst 0.6     sw = english, ng = (1, 3), mf = 2000, b = False, n = l2, ui = True, p = l1, c = 0.1\n",
      "prec_trn 0.63, prec_tst 0.65     sw = english, ng = (1, 3), mf = 2000, b = False, n = l2, ui = True, p = l1, c = 0.2\n",
      "prec_trn 0.78, prec_tst 0.76 *** sw = english, ng = (1, 3), mf = 2000, b = False, n = l2, ui = True, p = l1, c = 0.9\n",
      "prec_trn 0.63, prec_tst 0.61     sw = english, ng = (1, 3), mf = 2000, b = False, n = l2, ui = True, p = l2, c = 0.01\n",
      "prec_trn 0.88, prec_tst 0.79     sw = english, ng = (1, 3), mf = 2000, b = False, n = l2, ui = True, p = l2, c = 0.07\n",
      "prec_trn 0.88, prec_tst 0.8     sw = english, ng = (1, 3), mf = 2000, b = False, n = l2, ui = True, p = l2, c = 0.1\n",
      "prec_trn 0.89, prec_tst 0.81     sw = english, ng = (1, 3), mf = 2000, b = False, n = l2, ui = True, p = l2, c = 0.2\n",
      "prec_trn 0.92, prec_tst 0.81     sw = english, ng = (1, 3), mf = 2000, b = False, n = l2, ui = True, p = l2, c = 0.9\n",
      "prec_trn 0.49, prec_tst 0.5     sw = english, ng = (1, 3), mf = 2000, b = False, n = l2, ui = False, p = l1, c = 0.01\n",
      "prec_trn 0.59, prec_tst 0.6     sw = english, ng = (1, 3), mf = 2000, b = False, n = l2, ui = False, p = l1, c = 0.07\n",
      "prec_trn 0.59, prec_tst 0.61     sw = english, ng = (1, 3), mf = 2000, b = False, n = l2, ui = False, p = l1, c = 0.1\n",
      "prec_trn 0.65, prec_tst 0.67     sw = english, ng = (1, 3), mf = 2000, b = False, n = l2, ui = False, p = l1, c = 0.2\n",
      "prec_trn 0.78, prec_tst 0.76 *** sw = english, ng = (1, 3), mf = 2000, b = False, n = l2, ui = False, p = l1, c = 0.9\n",
      "prec_trn 0.71, prec_tst 0.67 *** sw = english, ng = (1, 3), mf = 2000, b = False, n = l2, ui = False, p = l2, c = 0.01\n",
      "prec_trn 0.85, prec_tst 0.79     sw = english, ng = (1, 3), mf = 2000, b = False, n = l2, ui = False, p = l2, c = 0.07\n",
      "prec_trn 0.85, prec_tst 0.79     sw = english, ng = (1, 3), mf = 2000, b = False, n = l2, ui = False, p = l2, c = 0.1\n",
      "prec_trn 0.86, prec_tst 0.79     sw = english, ng = (1, 3), mf = 2000, b = False, n = l2, ui = False, p = l2, c = 0.2\n",
      "prec_trn 0.9, prec_tst 0.81     sw = english, ng = (1, 3), mf = 2000, b = False, n = l2, ui = False, p = l2, c = 0.9\n",
      "prec_trn 0.49, prec_tst 0.5     sw = english, ng = (1, 3), mf = 2000, b = False, n = l1, ui = True, p = l1, c = 0.01\n",
      "prec_trn 0.49, prec_tst 0.5     sw = english, ng = (1, 3), mf = 2000, b = False, n = l1, ui = True, p = l1, c = 0.07\n",
      "prec_trn 0.51, prec_tst 0.5     sw = english, ng = (1, 3), mf = 2000, b = False, n = l1, ui = True, p = l1, c = 0.1\n",
      "prec_trn 0.59, prec_tst 0.61     sw = english, ng = (1, 3), mf = 2000, b = False, n = l1, ui = True, p = l1, c = 0.2\n",
      "prec_trn 0.71, prec_tst 0.72 *** sw = english, ng = (1, 3), mf = 2000, b = False, n = l1, ui = True, p = l1, c = 0.9\n",
      "prec_trn 0.52, prec_tst 0.51     sw = english, ng = (1, 3), mf = 2000, b = False, n = l1, ui = True, p = l2, c = 0.01\n",
      "prec_trn 0.77, prec_tst 0.7     sw = english, ng = (1, 3), mf = 2000, b = False, n = l1, ui = True, p = l2, c = 0.07\n",
      "prec_trn 0.83, prec_tst 0.74     sw = english, ng = (1, 3), mf = 2000, b = False, n = l1, ui = True, p = l2, c = 0.1\n",
      "prec_trn 0.87, prec_tst 0.78     sw = english, ng = (1, 3), mf = 2000, b = False, n = l1, ui = True, p = l2, c = 0.2\n",
      "prec_trn 0.89, prec_tst 0.8     sw = english, ng = (1, 3), mf = 2000, b = False, n = l1, ui = True, p = l2, c = 0.9\n",
      "prec_trn 0.49, prec_tst 0.5     sw = english, ng = (1, 3), mf = 2000, b = False, n = l1, ui = False, p = l1, c = 0.01\n",
      "prec_trn 0.49, prec_tst 0.5     sw = english, ng = (1, 3), mf = 2000, b = False, n = l1, ui = False, p = l1, c = 0.07\n",
      "prec_trn 0.55, prec_tst 0.57     sw = english, ng = (1, 3), mf = 2000, b = False, n = l1, ui = False, p = l1, c = 0.1\n",
      "prec_trn 0.59, prec_tst 0.61     sw = english, ng = (1, 3), mf = 2000, b = False, n = l1, ui = False, p = l1, c = 0.2\n",
      "prec_trn 0.71, prec_tst 0.72 *** sw = english, ng = (1, 3), mf = 2000, b = False, n = l1, ui = False, p = l1, c = 0.9\n",
      "prec_trn 0.52, prec_tst 0.51     sw = english, ng = (1, 3), mf = 2000, b = False, n = l1, ui = False, p = l2, c = 0.01\n",
      "prec_trn 0.82, prec_tst 0.74     sw = english, ng = (1, 3), mf = 2000, b = False, n = l1, ui = False, p = l2, c = 0.07\n",
      "prec_trn 0.84, prec_tst 0.78     sw = english, ng = (1, 3), mf = 2000, b = False, n = l1, ui = False, p = l2, c = 0.1\n",
      "prec_trn 0.85, prec_tst 0.78     sw = english, ng = (1, 3), mf = 2000, b = False, n = l1, ui = False, p = l2, c = 0.2\n",
      "prec_trn 0.87, prec_tst 0.79     sw = english, ng = (1, 3), mf = 2000, b = False, n = l1, ui = False, p = l2, c = 0.9\n",
      "prec_trn 0.49, prec_tst 0.5     sw = english, ng = (1, 3), mf = 5000, b = True, n = l2, ui = True, p = l1, c = 0.01\n",
      "prec_trn 0.55, prec_tst 0.57     sw = english, ng = (1, 3), mf = 5000, b = True, n = l2, ui = True, p = l1, c = 0.07\n",
      "prec_trn 0.55, prec_tst 0.57     sw = english, ng = (1, 3), mf = 5000, b = True, n = l2, ui = True, p = l1, c = 0.1\n",
      "prec_trn 0.6, prec_tst 0.62     sw = english, ng = (1, 3), mf = 5000, b = True, n = l2, ui = True, p = l1, c = 0.2\n",
      "prec_trn 0.76, prec_tst 0.75 *** sw = english, ng = (1, 3), mf = 5000, b = True, n = l2, ui = True, p = l1, c = 0.9\n",
      "prec_trn 0.58, prec_tst 0.58     sw = english, ng = (1, 3), mf = 5000, b = True, n = l2, ui = True, p = l2, c = 0.01\n",
      "prec_trn 0.91, prec_tst 0.79     sw = english, ng = (1, 3), mf = 5000, b = True, n = l2, ui = True, p = l2, c = 0.07\n",
      "prec_trn 0.91, prec_tst 0.8     sw = english, ng = (1, 3), mf = 5000, b = True, n = l2, ui = True, p = l2, c = 0.1\n",
      "prec_trn 0.92, prec_tst 0.81     sw = english, ng = (1, 3), mf = 5000, b = True, n = l2, ui = True, p = l2, c = 0.2\n",
      "prec_trn 0.95, prec_tst 0.81     sw = english, ng = (1, 3), mf = 5000, b = True, n = l2, ui = True, p = l2, c = 0.9\n",
      "prec_trn 0.49, prec_tst 0.5     sw = english, ng = (1, 3), mf = 5000, b = True, n = l2, ui = False, p = l1, c = 0.01\n",
      "prec_trn 0.59, prec_tst 0.6     sw = english, ng = (1, 3), mf = 5000, b = True, n = l2, ui = False, p = l1, c = 0.07\n",
      "prec_trn 0.59, prec_tst 0.6     sw = english, ng = (1, 3), mf = 5000, b = True, n = l2, ui = False, p = l1, c = 0.1\n",
      "prec_trn 0.63, prec_tst 0.65     sw = english, ng = (1, 3), mf = 5000, b = True, n = l2, ui = False, p = l1, c = 0.2\n",
      "prec_trn 0.77, prec_tst 0.76 *** sw = english, ng = (1, 3), mf = 5000, b = True, n = l2, ui = False, p = l1, c = 0.9\n",
      "prec_trn 0.66, prec_tst 0.63     sw = english, ng = (1, 3), mf = 5000, b = True, n = l2, ui = False, p = l2, c = 0.01\n",
      "prec_trn 0.87, prec_tst 0.78     sw = english, ng = (1, 3), mf = 5000, b = True, n = l2, ui = False, p = l2, c = 0.07\n",
      "prec_trn 0.87, prec_tst 0.78     sw = english, ng = (1, 3), mf = 5000, b = True, n = l2, ui = False, p = l2, c = 0.1\n",
      "prec_trn 0.88, prec_tst 0.79     sw = english, ng = (1, 3), mf = 5000, b = True, n = l2, ui = False, p = l2, c = 0.2\n",
      "prec_trn 0.92, prec_tst 0.8     sw = english, ng = (1, 3), mf = 5000, b = True, n = l2, ui = False, p = l2, c = 0.9\n",
      "prec_trn 0.49, prec_tst 0.5     sw = english, ng = (1, 3), mf = 5000, b = True, n = l1, ui = True, p = l1, c = 0.01\n",
      "prec_trn 0.49, prec_tst 0.5     sw = english, ng = (1, 3), mf = 5000, b = True, n = l1, ui = True, p = l1, c = 0.07\n",
      "prec_trn 0.51, prec_tst 0.5     sw = english, ng = (1, 3), mf = 5000, b = True, n = l1, ui = True, p = l1, c = 0.1\n",
      "prec_trn 0.55, prec_tst 0.57     sw = english, ng = (1, 3), mf = 5000, b = True, n = l1, ui = True, p = l1, c = 0.2\n",
      "prec_trn 0.7, prec_tst 0.71     sw = english, ng = (1, 3), mf = 5000, b = True, n = l1, ui = True, p = l1, c = 0.9\n",
      "prec_trn 0.51, prec_tst 0.5     sw = english, ng = (1, 3), mf = 5000, b = True, n = l1, ui = True, p = l2, c = 0.01\n",
      "prec_trn 0.68, prec_tst 0.65     sw = english, ng = (1, 3), mf = 5000, b = True, n = l1, ui = True, p = l2, c = 0.07\n",
      "prec_trn 0.74, prec_tst 0.7 *** sw = english, ng = (1, 3), mf = 5000, b = True, n = l1, ui = True, p = l2, c = 0.1\n",
      "prec_trn 0.86, prec_tst 0.75     sw = english, ng = (1, 3), mf = 5000, b = True, n = l1, ui = True, p = l2, c = 0.2\n",
      "prec_trn 0.9, prec_tst 0.79     sw = english, ng = (1, 3), mf = 5000, b = True, n = l1, ui = True, p = l2, c = 0.9\n",
      "prec_trn 0.49, prec_tst 0.5     sw = english, ng = (1, 3), mf = 5000, b = True, n = l1, ui = False, p = l1, c = 0.01\n",
      "prec_trn 0.49, prec_tst 0.5     sw = english, ng = (1, 3), mf = 5000, b = True, n = l1, ui = False, p = l1, c = 0.07\n",
      "prec_trn 0.55, prec_tst 0.57     sw = english, ng = (1, 3), mf = 5000, b = True, n = l1, ui = False, p = l1, c = 0.1\n",
      "prec_trn 0.59, prec_tst 0.61     sw = english, ng = (1, 3), mf = 5000, b = True, n = l1, ui = False, p = l1, c = 0.2\n",
      "prec_trn 0.7, prec_tst 0.7     sw = english, ng = (1, 3), mf = 5000, b = True, n = l1, ui = False, p = l1, c = 0.9\n",
      "prec_trn 0.52, prec_tst 0.51     sw = english, ng = (1, 3), mf = 5000, b = True, n = l1, ui = False, p = l2, c = 0.01\n",
      "prec_trn 0.74, prec_tst 0.69     sw = english, ng = (1, 3), mf = 5000, b = True, n = l1, ui = False, p = l2, c = 0.07\n",
      "prec_trn 0.8, prec_tst 0.73     sw = english, ng = (1, 3), mf = 5000, b = True, n = l1, ui = False, p = l2, c = 0.1\n",
      "prec_trn 0.86, prec_tst 0.77     sw = english, ng = (1, 3), mf = 5000, b = True, n = l1, ui = False, p = l2, c = 0.2\n",
      "prec_trn 0.88, prec_tst 0.78     sw = english, ng = (1, 3), mf = 5000, b = True, n = l1, ui = False, p = l2, c = 0.9\n",
      "prec_trn 0.49, prec_tst 0.5     sw = english, ng = (1, 3), mf = 5000, b = False, n = l2, ui = True, p = l1, c = 0.01\n",
      "prec_trn 0.55, prec_tst 0.57     sw = english, ng = (1, 3), mf = 5000, b = False, n = l2, ui = True, p = l1, c = 0.07\n",
      "prec_trn 0.55, prec_tst 0.57     sw = english, ng = (1, 3), mf = 5000, b = False, n = l2, ui = True, p = l1, c = 0.1\n",
      "prec_trn 0.59, prec_tst 0.61     sw = english, ng = (1, 3), mf = 5000, b = False, n = l2, ui = True, p = l1, c = 0.2\n",
      "prec_trn 0.76, prec_tst 0.75 *** sw = english, ng = (1, 3), mf = 5000, b = False, n = l2, ui = True, p = l1, c = 0.9\n",
      "prec_trn 0.59, prec_tst 0.58     sw = english, ng = (1, 3), mf = 5000, b = False, n = l2, ui = True, p = l2, c = 0.01\n",
      "prec_trn 0.91, prec_tst 0.78     sw = english, ng = (1, 3), mf = 5000, b = False, n = l2, ui = True, p = l2, c = 0.07\n",
      "prec_trn 0.91, prec_tst 0.8     sw = english, ng = (1, 3), mf = 5000, b = False, n = l2, ui = True, p = l2, c = 0.1\n",
      "prec_trn 0.91, prec_tst 0.8     sw = english, ng = (1, 3), mf = 5000, b = False, n = l2, ui = True, p = l2, c = 0.2\n",
      "prec_trn 0.95, prec_tst 0.81     sw = english, ng = (1, 3), mf = 5000, b = False, n = l2, ui = True, p = l2, c = 0.9\n",
      "prec_trn 0.49, prec_tst 0.5     sw = english, ng = (1, 3), mf = 5000, b = False, n = l2, ui = False, p = l1, c = 0.01\n",
      "prec_trn 0.59, prec_tst 0.6     sw = english, ng = (1, 3), mf = 5000, b = False, n = l2, ui = False, p = l1, c = 0.07\n",
      "prec_trn 0.59, prec_tst 0.6     sw = english, ng = (1, 3), mf = 5000, b = False, n = l2, ui = False, p = l1, c = 0.1\n",
      "prec_trn 0.64, prec_tst 0.65     sw = english, ng = (1, 3), mf = 5000, b = False, n = l2, ui = False, p = l1, c = 0.2\n",
      "prec_trn 0.77, prec_tst 0.76 *** sw = english, ng = (1, 3), mf = 5000, b = False, n = l2, ui = False, p = l1, c = 0.9\n",
      "prec_trn 0.67, prec_tst 0.63     sw = english, ng = (1, 3), mf = 5000, b = False, n = l2, ui = False, p = l2, c = 0.01\n",
      "prec_trn 0.87, prec_tst 0.78     sw = english, ng = (1, 3), mf = 5000, b = False, n = l2, ui = False, p = l2, c = 0.07\n",
      "prec_trn 0.87, prec_tst 0.78     sw = english, ng = (1, 3), mf = 5000, b = False, n = l2, ui = False, p = l2, c = 0.1\n",
      "prec_trn 0.88, prec_tst 0.79     sw = english, ng = (1, 3), mf = 5000, b = False, n = l2, ui = False, p = l2, c = 0.2\n",
      "prec_trn 0.92, prec_tst 0.8     sw = english, ng = (1, 3), mf = 5000, b = False, n = l2, ui = False, p = l2, c = 0.9\n",
      "prec_trn 0.49, prec_tst 0.5     sw = english, ng = (1, 3), mf = 5000, b = False, n = l1, ui = True, p = l1, c = 0.01\n",
      "prec_trn 0.49, prec_tst 0.5     sw = english, ng = (1, 3), mf = 5000, b = False, n = l1, ui = True, p = l1, c = 0.07\n",
      "prec_trn 0.51, prec_tst 0.5     sw = english, ng = (1, 3), mf = 5000, b = False, n = l1, ui = True, p = l1, c = 0.1\n",
      "prec_trn 0.55, prec_tst 0.57     sw = english, ng = (1, 3), mf = 5000, b = False, n = l1, ui = True, p = l1, c = 0.2\n",
      "prec_trn 0.69, prec_tst 0.71     sw = english, ng = (1, 3), mf = 5000, b = False, n = l1, ui = True, p = l1, c = 0.9\n",
      "prec_trn 0.51, prec_tst 0.5     sw = english, ng = (1, 3), mf = 5000, b = False, n = l1, ui = True, p = l2, c = 0.01\n",
      "prec_trn 0.69, prec_tst 0.65     sw = english, ng = (1, 3), mf = 5000, b = False, n = l1, ui = True, p = l2, c = 0.07\n",
      "prec_trn 0.74, prec_tst 0.71 *** sw = english, ng = (1, 3), mf = 5000, b = False, n = l1, ui = True, p = l2, c = 0.1\n",
      "prec_trn 0.86, prec_tst 0.77     sw = english, ng = (1, 3), mf = 5000, b = False, n = l1, ui = True, p = l2, c = 0.2\n",
      "prec_trn 0.91, prec_tst 0.79     sw = english, ng = (1, 3), mf = 5000, b = False, n = l1, ui = True, p = l2, c = 0.9\n",
      "prec_trn 0.49, prec_tst 0.5     sw = english, ng = (1, 3), mf = 5000, b = False, n = l1, ui = False, p = l1, c = 0.01\n",
      "prec_trn 0.49, prec_tst 0.5     sw = english, ng = (1, 3), mf = 5000, b = False, n = l1, ui = False, p = l1, c = 0.07\n",
      "prec_trn 0.55, prec_tst 0.57     sw = english, ng = (1, 3), mf = 5000, b = False, n = l1, ui = False, p = l1, c = 0.1\n",
      "prec_trn 0.59, prec_tst 0.61     sw = english, ng = (1, 3), mf = 5000, b = False, n = l1, ui = False, p = l1, c = 0.2\n",
      "prec_trn 0.7, prec_tst 0.7     sw = english, ng = (1, 3), mf = 5000, b = False, n = l1, ui = False, p = l1, c = 0.9\n",
      "prec_trn 0.52, prec_tst 0.51     sw = english, ng = (1, 3), mf = 5000, b = False, n = l1, ui = False, p = l2, c = 0.01\n",
      "prec_trn 0.75, prec_tst 0.7     sw = english, ng = (1, 3), mf = 5000, b = False, n = l1, ui = False, p = l2, c = 0.07\n",
      "prec_trn 0.81, prec_tst 0.74     sw = english, ng = (1, 3), mf = 5000, b = False, n = l1, ui = False, p = l2, c = 0.1\n",
      "prec_trn 0.86, prec_tst 0.78     sw = english, ng = (1, 3), mf = 5000, b = False, n = l1, ui = False, p = l2, c = 0.2\n",
      "prec_trn 0.87, prec_tst 0.78     sw = english, ng = (1, 3), mf = 5000, b = False, n = l1, ui = False, p = l2, c = 0.9\n",
      "prec_trn 0.49, prec_tst 0.5     sw = english, ng = (1, 3), mf = 60000, b = True, n = l2, ui = True, p = l1, c = 0.01\n",
      "prec_trn 0.49, prec_tst 0.5     sw = english, ng = (1, 3), mf = 60000, b = True, n = l2, ui = True, p = l1, c = 0.07\n",
      "prec_trn 0.55, prec_tst 0.57     sw = english, ng = (1, 3), mf = 60000, b = True, n = l2, ui = True, p = l1, c = 0.1\n",
      "prec_trn 0.59, prec_tst 0.6     sw = english, ng = (1, 3), mf = 60000, b = True, n = l2, ui = True, p = l1, c = 0.2\n",
      "prec_trn 0.73, prec_tst 0.73 *** sw = english, ng = (1, 3), mf = 60000, b = True, n = l2, ui = True, p = l1, c = 0.9\n",
      "prec_trn 0.53, prec_tst 0.52     sw = english, ng = (1, 3), mf = 60000, b = True, n = l2, ui = True, p = l2, c = 0.01\n",
      "prec_trn 0.95, prec_tst 0.77     sw = english, ng = (1, 3), mf = 60000, b = True, n = l2, ui = True, p = l2, c = 0.07\n",
      "prec_trn 0.96, prec_tst 0.78     sw = english, ng = (1, 3), mf = 60000, b = True, n = l2, ui = True, p = l2, c = 0.1\n",
      "prec_trn 0.97, prec_tst 0.81     sw = english, ng = (1, 3), mf = 60000, b = True, n = l2, ui = True, p = l2, c = 0.2\n",
      "prec_trn 0.99, prec_tst 0.81     sw = english, ng = (1, 3), mf = 60000, b = True, n = l2, ui = True, p = l2, c = 0.9\n",
      "prec_trn 0.49, prec_tst 0.5     sw = english, ng = (1, 3), mf = 60000, b = True, n = l2, ui = False, p = l1, c = 0.01\n",
      "prec_trn 0.55, prec_tst 0.57     sw = english, ng = (1, 3), mf = 60000, b = True, n = l2, ui = False, p = l1, c = 0.07\n",
      "prec_trn 0.59, prec_tst 0.6     sw = english, ng = (1, 3), mf = 60000, b = True, n = l2, ui = False, p = l1, c = 0.1\n",
      "prec_trn 0.59, prec_tst 0.61     sw = english, ng = (1, 3), mf = 60000, b = True, n = l2, ui = False, p = l1, c = 0.2\n",
      "prec_trn 0.74, prec_tst 0.74 *** sw = english, ng = (1, 3), mf = 60000, b = True, n = l2, ui = False, p = l1, c = 0.9\n",
      "prec_trn 0.57, prec_tst 0.57     sw = english, ng = (1, 3), mf = 60000, b = True, n = l2, ui = False, p = l2, c = 0.01\n",
      "prec_trn 0.93, prec_tst 0.79     sw = english, ng = (1, 3), mf = 60000, b = True, n = l2, ui = False, p = l2, c = 0.07\n",
      "prec_trn 0.93, prec_tst 0.79     sw = english, ng = (1, 3), mf = 60000, b = True, n = l2, ui = False, p = l2, c = 0.1\n",
      "prec_trn 0.93, prec_tst 0.79     sw = english, ng = (1, 3), mf = 60000, b = True, n = l2, ui = False, p = l2, c = 0.2\n",
      "prec_trn 0.97, prec_tst 0.81     sw = english, ng = (1, 3), mf = 60000, b = True, n = l2, ui = False, p = l2, c = 0.9\n",
      "prec_trn 0.49, prec_tst 0.5     sw = english, ng = (1, 3), mf = 60000, b = True, n = l1, ui = True, p = l1, c = 0.01\n",
      "prec_trn 0.49, prec_tst 0.5     sw = english, ng = (1, 3), mf = 60000, b = True, n = l1, ui = True, p = l1, c = 0.07\n",
      "prec_trn 0.51, prec_tst 0.5     sw = english, ng = (1, 3), mf = 60000, b = True, n = l1, ui = True, p = l1, c = 0.1\n",
      "prec_trn 0.51, prec_tst 0.5     sw = english, ng = (1, 3), mf = 60000, b = True, n = l1, ui = True, p = l1, c = 0.2\n",
      "prec_trn 0.63, prec_tst 0.66     sw = english, ng = (1, 3), mf = 60000, b = True, n = l1, ui = True, p = l1, c = 0.9\n",
      "prec_trn 0.51, prec_tst 0.5     sw = english, ng = (1, 3), mf = 60000, b = True, n = l1, ui = True, p = l2, c = 0.01\n",
      "prec_trn 0.56, prec_tst 0.56     sw = english, ng = (1, 3), mf = 60000, b = True, n = l1, ui = True, p = l2, c = 0.07\n",
      "prec_trn 0.59, prec_tst 0.59     sw = english, ng = (1, 3), mf = 60000, b = True, n = l1, ui = True, p = l2, c = 0.1\n",
      "prec_trn 0.68, prec_tst 0.69     sw = english, ng = (1, 3), mf = 60000, b = True, n = l1, ui = True, p = l2, c = 0.2\n",
      "prec_trn 0.95, prec_tst 0.78     sw = english, ng = (1, 3), mf = 60000, b = True, n = l1, ui = True, p = l2, c = 0.9\n",
      "prec_trn 0.49, prec_tst 0.5     sw = english, ng = (1, 3), mf = 60000, b = True, n = l1, ui = False, p = l1, c = 0.01\n",
      "prec_trn 0.49, prec_tst 0.5     sw = english, ng = (1, 3), mf = 60000, b = True, n = l1, ui = False, p = l1, c = 0.07\n",
      "prec_trn 0.51, prec_tst 0.5     sw = english, ng = (1, 3), mf = 60000, b = True, n = l1, ui = False, p = l1, c = 0.1\n",
      "prec_trn 0.55, prec_tst 0.57     sw = english, ng = (1, 3), mf = 60000, b = True, n = l1, ui = False, p = l1, c = 0.2\n",
      "prec_trn 0.65, prec_tst 0.67     sw = english, ng = (1, 3), mf = 60000, b = True, n = l1, ui = False, p = l1, c = 0.9\n",
      "prec_trn 0.51, prec_tst 0.5     sw = english, ng = (1, 3), mf = 60000, b = True, n = l1, ui = False, p = l2, c = 0.01\n",
      "prec_trn 0.59, prec_tst 0.59     sw = english, ng = (1, 3), mf = 60000, b = True, n = l1, ui = False, p = l2, c = 0.07\n",
      "prec_trn 0.62, prec_tst 0.65     sw = english, ng = (1, 3), mf = 60000, b = True, n = l1, ui = False, p = l2, c = 0.1\n",
      "prec_trn 0.79, prec_tst 0.71     sw = english, ng = (1, 3), mf = 60000, b = True, n = l1, ui = False, p = l2, c = 0.2\n",
      "prec_trn 0.9, prec_tst 0.77     sw = english, ng = (1, 3), mf = 60000, b = True, n = l1, ui = False, p = l2, c = 0.9\n",
      "prec_trn 0.49, prec_tst 0.5     sw = english, ng = (1, 3), mf = 60000, b = False, n = l2, ui = True, p = l1, c = 0.01\n",
      "prec_trn 0.49, prec_tst 0.5     sw = english, ng = (1, 3), mf = 60000, b = False, n = l2, ui = True, p = l1, c = 0.07\n",
      "prec_trn 0.55, prec_tst 0.57     sw = english, ng = (1, 3), mf = 60000, b = False, n = l2, ui = True, p = l1, c = 0.1\n",
      "prec_trn 0.59, prec_tst 0.61     sw = english, ng = (1, 3), mf = 60000, b = False, n = l2, ui = True, p = l1, c = 0.2\n",
      "prec_trn 0.73, prec_tst 0.73 *** sw = english, ng = (1, 3), mf = 60000, b = False, n = l2, ui = True, p = l1, c = 0.9\n",
      "prec_trn 0.53, prec_tst 0.52     sw = english, ng = (1, 3), mf = 60000, b = False, n = l2, ui = True, p = l2, c = 0.01\n",
      "prec_trn 0.95, prec_tst 0.78     sw = english, ng = (1, 3), mf = 60000, b = False, n = l2, ui = True, p = l2, c = 0.07\n",
      "prec_trn 0.96, prec_tst 0.79     sw = english, ng = (1, 3), mf = 60000, b = False, n = l2, ui = True, p = l2, c = 0.1\n",
      "prec_trn 0.97, prec_tst 0.81     sw = english, ng = (1, 3), mf = 60000, b = False, n = l2, ui = True, p = l2, c = 0.2\n",
      "prec_trn 0.99, prec_tst 0.8     sw = english, ng = (1, 3), mf = 60000, b = False, n = l2, ui = True, p = l2, c = 0.9\n",
      "prec_trn 0.49, prec_tst 0.5     sw = english, ng = (1, 3), mf = 60000, b = False, n = l2, ui = False, p = l1, c = 0.01\n",
      "prec_trn 0.55, prec_tst 0.57     sw = english, ng = (1, 3), mf = 60000, b = False, n = l2, ui = False, p = l1, c = 0.07\n",
      "prec_trn 0.59, prec_tst 0.6     sw = english, ng = (1, 3), mf = 60000, b = False, n = l2, ui = False, p = l1, c = 0.1\n",
      "prec_trn 0.59, prec_tst 0.61     sw = english, ng = (1, 3), mf = 60000, b = False, n = l2, ui = False, p = l1, c = 0.2\n",
      "prec_trn 0.74, prec_tst 0.74 *** sw = english, ng = (1, 3), mf = 60000, b = False, n = l2, ui = False, p = l1, c = 0.9\n",
      "prec_trn 0.58, prec_tst 0.57     sw = english, ng = (1, 3), mf = 60000, b = False, n = l2, ui = False, p = l2, c = 0.01\n",
      "prec_trn 0.93, prec_tst 0.79     sw = english, ng = (1, 3), mf = 60000, b = False, n = l2, ui = False, p = l2, c = 0.07\n",
      "prec_trn 0.92, prec_tst 0.79     sw = english, ng = (1, 3), mf = 60000, b = False, n = l2, ui = False, p = l2, c = 0.1\n",
      "prec_trn 0.93, prec_tst 0.8     sw = english, ng = (1, 3), mf = 60000, b = False, n = l2, ui = False, p = l2, c = 0.2\n",
      "prec_trn 0.97, prec_tst 0.81     sw = english, ng = (1, 3), mf = 60000, b = False, n = l2, ui = False, p = l2, c = 0.9\n",
      "prec_trn 0.49, prec_tst 0.5     sw = english, ng = (1, 3), mf = 60000, b = False, n = l1, ui = True, p = l1, c = 0.01\n",
      "prec_trn 0.49, prec_tst 0.5     sw = english, ng = (1, 3), mf = 60000, b = False, n = l1, ui = True, p = l1, c = 0.07\n",
      "prec_trn 0.51, prec_tst 0.5     sw = english, ng = (1, 3), mf = 60000, b = False, n = l1, ui = True, p = l1, c = 0.1\n",
      "prec_trn 0.51, prec_tst 0.5     sw = english, ng = (1, 3), mf = 60000, b = False, n = l1, ui = True, p = l1, c = 0.2\n",
      "prec_trn 0.63, prec_tst 0.66     sw = english, ng = (1, 3), mf = 60000, b = False, n = l1, ui = True, p = l1, c = 0.9\n",
      "prec_trn 0.51, prec_tst 0.5     sw = english, ng = (1, 3), mf = 60000, b = False, n = l1, ui = True, p = l2, c = 0.01\n",
      "prec_trn 0.56, prec_tst 0.56     sw = english, ng = (1, 3), mf = 60000, b = False, n = l1, ui = True, p = l2, c = 0.07\n",
      "prec_trn 0.59, prec_tst 0.6     sw = english, ng = (1, 3), mf = 60000, b = False, n = l1, ui = True, p = l2, c = 0.1\n",
      "prec_trn 0.68, prec_tst 0.69     sw = english, ng = (1, 3), mf = 60000, b = False, n = l1, ui = True, p = l2, c = 0.2\n",
      "prec_trn 0.95, prec_tst 0.78     sw = english, ng = (1, 3), mf = 60000, b = False, n = l1, ui = True, p = l2, c = 0.9\n",
      "prec_trn 0.49, prec_tst 0.5     sw = english, ng = (1, 3), mf = 60000, b = False, n = l1, ui = False, p = l1, c = 0.01\n",
      "prec_trn 0.49, prec_tst 0.5     sw = english, ng = (1, 3), mf = 60000, b = False, n = l1, ui = False, p = l1, c = 0.07\n",
      "prec_trn 0.51, prec_tst 0.5     sw = english, ng = (1, 3), mf = 60000, b = False, n = l1, ui = False, p = l1, c = 0.1\n",
      "prec_trn 0.55, prec_tst 0.57     sw = english, ng = (1, 3), mf = 60000, b = False, n = l1, ui = False, p = l1, c = 0.2\n",
      "prec_trn 0.65, prec_tst 0.67     sw = english, ng = (1, 3), mf = 60000, b = False, n = l1, ui = False, p = l1, c = 0.9\n",
      "prec_trn 0.51, prec_tst 0.5     sw = english, ng = (1, 3), mf = 60000, b = False, n = l1, ui = False, p = l2, c = 0.01\n",
      "prec_trn 0.59, prec_tst 0.6     sw = english, ng = (1, 3), mf = 60000, b = False, n = l1, ui = False, p = l2, c = 0.07\n",
      "prec_trn 0.63, prec_tst 0.65     sw = english, ng = (1, 3), mf = 60000, b = False, n = l1, ui = False, p = l2, c = 0.1\n",
      "prec_trn 0.79, prec_tst 0.72     sw = english, ng = (1, 3), mf = 60000, b = False, n = l1, ui = False, p = l2, c = 0.2\n",
      "prec_trn 0.9, prec_tst 0.77     sw = english, ng = (1, 3), mf = 60000, b = False, n = l1, ui = False, p = l2, c = 0.9\n",
      "prec_trn 0.49, prec_tst 0.5     sw = None, ng = (1, 2), mf = 2000, b = True, n = l2, ui = True, p = l1, c = 0.01\n",
      "prec_trn 0.55, prec_tst 0.57     sw = None, ng = (1, 2), mf = 2000, b = True, n = l2, ui = True, p = l1, c = 0.07\n",
      "prec_trn 0.55, prec_tst 0.57     sw = None, ng = (1, 2), mf = 2000, b = True, n = l2, ui = True, p = l1, c = 0.1\n",
      "prec_trn 0.65, prec_tst 0.67     sw = None, ng = (1, 2), mf = 2000, b = True, n = l2, ui = True, p = l1, c = 0.2\n",
      "prec_trn 0.79, prec_tst 0.78 *** sw = None, ng = (1, 2), mf = 2000, b = True, n = l2, ui = True, p = l1, c = 0.9\n",
      "prec_trn 0.67, prec_tst 0.6     sw = None, ng = (1, 2), mf = 2000, b = True, n = l2, ui = True, p = l2, c = 0.01\n",
      "prec_trn 0.86, prec_tst 0.78     sw = None, ng = (1, 2), mf = 2000, b = True, n = l2, ui = True, p = l2, c = 0.07\n",
      "prec_trn 0.88, prec_tst 0.79     sw = None, ng = (1, 2), mf = 2000, b = True, n = l2, ui = True, p = l2, c = 0.1\n",
      "prec_trn 0.89, prec_tst 0.8     sw = None, ng = (1, 2), mf = 2000, b = True, n = l2, ui = True, p = l2, c = 0.2\n",
      "prec_trn 0.93, prec_tst 0.81     sw = None, ng = (1, 2), mf = 2000, b = True, n = l2, ui = True, p = l2, c = 0.9\n",
      "prec_trn 0.49, prec_tst 0.5     sw = None, ng = (1, 2), mf = 2000, b = True, n = l2, ui = False, p = l1, c = 0.01\n",
      "prec_trn 0.61, prec_tst 0.62     sw = None, ng = (1, 2), mf = 2000, b = True, n = l2, ui = False, p = l1, c = 0.07\n",
      "prec_trn 0.63, prec_tst 0.65     sw = None, ng = (1, 2), mf = 2000, b = True, n = l2, ui = False, p = l1, c = 0.1\n",
      "prec_trn 0.65, prec_tst 0.67     sw = None, ng = (1, 2), mf = 2000, b = True, n = l2, ui = False, p = l1, c = 0.2\n",
      "prec_trn 0.79, prec_tst 0.75 *** sw = None, ng = (1, 2), mf = 2000, b = True, n = l2, ui = False, p = l1, c = 0.9\n",
      "prec_trn 0.72, prec_tst 0.67     sw = None, ng = (1, 2), mf = 2000, b = True, n = l2, ui = False, p = l2, c = 0.01\n",
      "prec_trn 0.77, prec_tst 0.73 *** sw = None, ng = (1, 2), mf = 2000, b = True, n = l2, ui = False, p = l2, c = 0.07\n",
      "prec_trn 0.78, prec_tst 0.73 *** sw = None, ng = (1, 2), mf = 2000, b = True, n = l2, ui = False, p = l2, c = 0.1\n",
      "prec_trn 0.81, prec_tst 0.76 *** sw = None, ng = (1, 2), mf = 2000, b = True, n = l2, ui = False, p = l2, c = 0.2\n",
      "prec_trn 0.89, prec_tst 0.79     sw = None, ng = (1, 2), mf = 2000, b = True, n = l2, ui = False, p = l2, c = 0.9\n",
      "prec_trn 0.49, prec_tst 0.5     sw = None, ng = (1, 2), mf = 2000, b = True, n = l1, ui = True, p = l1, c = 0.01\n",
      "prec_trn 0.49, prec_tst 0.5     sw = None, ng = (1, 2), mf = 2000, b = True, n = l1, ui = True, p = l1, c = 0.07\n",
      "prec_trn 0.51, prec_tst 0.5     sw = None, ng = (1, 2), mf = 2000, b = True, n = l1, ui = True, p = l1, c = 0.1\n",
      "prec_trn 0.55, prec_tst 0.57     sw = None, ng = (1, 2), mf = 2000, b = True, n = l1, ui = True, p = l1, c = 0.2\n",
      "prec_trn 0.69, prec_tst 0.7     sw = None, ng = (1, 2), mf = 2000, b = True, n = l1, ui = True, p = l1, c = 0.9\n",
      "prec_trn 0.51, prec_tst 0.5     sw = None, ng = (1, 2), mf = 2000, b = True, n = l1, ui = True, p = l2, c = 0.01\n",
      "prec_trn 0.62, prec_tst 0.59     sw = None, ng = (1, 2), mf = 2000, b = True, n = l1, ui = True, p = l2, c = 0.07\n",
      "prec_trn 0.7, prec_tst 0.65     sw = None, ng = (1, 2), mf = 2000, b = True, n = l1, ui = True, p = l2, c = 0.1\n",
      "prec_trn 0.82, prec_tst 0.74     sw = None, ng = (1, 2), mf = 2000, b = True, n = l1, ui = True, p = l2, c = 0.2\n",
      "prec_trn 0.88, prec_tst 0.79     sw = None, ng = (1, 2), mf = 2000, b = True, n = l1, ui = True, p = l2, c = 0.9\n",
      "prec_trn 0.49, prec_tst 0.5     sw = None, ng = (1, 2), mf = 2000, b = True, n = l1, ui = False, p = l1, c = 0.01\n",
      "prec_trn 0.49, prec_tst 0.5     sw = None, ng = (1, 2), mf = 2000, b = True, n = l1, ui = False, p = l1, c = 0.07\n",
      "prec_trn 0.51, prec_tst 0.5     sw = None, ng = (1, 2), mf = 2000, b = True, n = l1, ui = False, p = l1, c = 0.1\n",
      "prec_trn 0.57, prec_tst 0.56     sw = None, ng = (1, 2), mf = 2000, b = True, n = l1, ui = False, p = l1, c = 0.2\n",
      "prec_trn 0.69, prec_tst 0.69     sw = None, ng = (1, 2), mf = 2000, b = True, n = l1, ui = False, p = l1, c = 0.9\n",
      "prec_trn 0.51, prec_tst 0.5     sw = None, ng = (1, 2), mf = 2000, b = True, n = l1, ui = False, p = l2, c = 0.01\n",
      "prec_trn 0.68, prec_tst 0.64     sw = None, ng = (1, 2), mf = 2000, b = True, n = l1, ui = False, p = l2, c = 0.07\n",
      "prec_trn 0.73, prec_tst 0.68     sw = None, ng = (1, 2), mf = 2000, b = True, n = l1, ui = False, p = l2, c = 0.1\n",
      "prec_trn 0.77, prec_tst 0.72 *** sw = None, ng = (1, 2), mf = 2000, b = True, n = l1, ui = False, p = l2, c = 0.2\n",
      "prec_trn 0.8, prec_tst 0.74     sw = None, ng = (1, 2), mf = 2000, b = True, n = l1, ui = False, p = l2, c = 0.9\n",
      "prec_trn 0.49, prec_tst 0.5     sw = None, ng = (1, 2), mf = 2000, b = False, n = l2, ui = True, p = l1, c = 0.01\n",
      "prec_trn 0.55, prec_tst 0.57     sw = None, ng = (1, 2), mf = 2000, b = False, n = l2, ui = True, p = l1, c = 0.07\n",
      "prec_trn 0.55, prec_tst 0.57     sw = None, ng = (1, 2), mf = 2000, b = False, n = l2, ui = True, p = l1, c = 0.1\n",
      "prec_trn 0.65, prec_tst 0.67     sw = None, ng = (1, 2), mf = 2000, b = False, n = l2, ui = True, p = l1, c = 0.2\n",
      "prec_trn 0.79, prec_tst 0.78 *** sw = None, ng = (1, 2), mf = 2000, b = False, n = l2, ui = True, p = l1, c = 0.9\n",
      "prec_trn 0.68, prec_tst 0.62     sw = None, ng = (1, 2), mf = 2000, b = False, n = l2, ui = True, p = l2, c = 0.01\n",
      "prec_trn 0.86, prec_tst 0.78     sw = None, ng = (1, 2), mf = 2000, b = False, n = l2, ui = True, p = l2, c = 0.07\n",
      "prec_trn 0.86, prec_tst 0.79     sw = None, ng = (1, 2), mf = 2000, b = False, n = l2, ui = True, p = l2, c = 0.1\n",
      "prec_trn 0.88, prec_tst 0.79     sw = None, ng = (1, 2), mf = 2000, b = False, n = l2, ui = True, p = l2, c = 0.2\n",
      "prec_trn 0.92, prec_tst 0.81     sw = None, ng = (1, 2), mf = 2000, b = False, n = l2, ui = True, p = l2, c = 0.9\n",
      "prec_trn 0.49, prec_tst 0.5     sw = None, ng = (1, 2), mf = 2000, b = False, n = l2, ui = False, p = l1, c = 0.01\n",
      "prec_trn 0.61, prec_tst 0.62     sw = None, ng = (1, 2), mf = 2000, b = False, n = l2, ui = False, p = l1, c = 0.07\n",
      "prec_trn 0.63, prec_tst 0.65     sw = None, ng = (1, 2), mf = 2000, b = False, n = l2, ui = False, p = l1, c = 0.1\n",
      "prec_trn 0.65, prec_tst 0.67     sw = None, ng = (1, 2), mf = 2000, b = False, n = l2, ui = False, p = l1, c = 0.2\n",
      "prec_trn 0.77, prec_tst 0.76 *** sw = None, ng = (1, 2), mf = 2000, b = False, n = l2, ui = False, p = l1, c = 0.9\n",
      "prec_trn 0.71, prec_tst 0.67 *** sw = None, ng = (1, 2), mf = 2000, b = False, n = l2, ui = False, p = l2, c = 0.01\n",
      "prec_trn 0.76, prec_tst 0.71     sw = None, ng = (1, 2), mf = 2000, b = False, n = l2, ui = False, p = l2, c = 0.07\n",
      "prec_trn 0.77, prec_tst 0.73 *** sw = None, ng = (1, 2), mf = 2000, b = False, n = l2, ui = False, p = l2, c = 0.1\n",
      "prec_trn 0.79, prec_tst 0.75 *** sw = None, ng = (1, 2), mf = 2000, b = False, n = l2, ui = False, p = l2, c = 0.2\n",
      "prec_trn 0.88, prec_tst 0.8     sw = None, ng = (1, 2), mf = 2000, b = False, n = l2, ui = False, p = l2, c = 0.9\n",
      "prec_trn 0.49, prec_tst 0.5     sw = None, ng = (1, 2), mf = 2000, b = False, n = l1, ui = True, p = l1, c = 0.01\n",
      "prec_trn 0.49, prec_tst 0.5     sw = None, ng = (1, 2), mf = 2000, b = False, n = l1, ui = True, p = l1, c = 0.07\n",
      "prec_trn 0.51, prec_tst 0.5     sw = None, ng = (1, 2), mf = 2000, b = False, n = l1, ui = True, p = l1, c = 0.1\n",
      "prec_trn 0.55, prec_tst 0.57     sw = None, ng = (1, 2), mf = 2000, b = False, n = l1, ui = True, p = l1, c = 0.2\n",
      "prec_trn 0.69, prec_tst 0.7     sw = None, ng = (1, 2), mf = 2000, b = False, n = l1, ui = True, p = l1, c = 0.9\n",
      "prec_trn 0.51, prec_tst 0.5     sw = None, ng = (1, 2), mf = 2000, b = False, n = l1, ui = True, p = l2, c = 0.01\n",
      "prec_trn 0.63, prec_tst 0.59     sw = None, ng = (1, 2), mf = 2000, b = False, n = l1, ui = True, p = l2, c = 0.07\n",
      "prec_trn 0.71, prec_tst 0.66     sw = None, ng = (1, 2), mf = 2000, b = False, n = l1, ui = True, p = l2, c = 0.1\n",
      "prec_trn 0.81, prec_tst 0.74     sw = None, ng = (1, 2), mf = 2000, b = False, n = l1, ui = True, p = l2, c = 0.2\n",
      "prec_trn 0.87, prec_tst 0.78     sw = None, ng = (1, 2), mf = 2000, b = False, n = l1, ui = True, p = l2, c = 0.9\n",
      "prec_trn 0.49, prec_tst 0.5     sw = None, ng = (1, 2), mf = 2000, b = False, n = l1, ui = False, p = l1, c = 0.01\n",
      "prec_trn 0.49, prec_tst 0.5     sw = None, ng = (1, 2), mf = 2000, b = False, n = l1, ui = False, p = l1, c = 0.07\n",
      "prec_trn 0.51, prec_tst 0.5     sw = None, ng = (1, 2), mf = 2000, b = False, n = l1, ui = False, p = l1, c = 0.1\n",
      "prec_trn 0.63, prec_tst 0.65     sw = None, ng = (1, 2), mf = 2000, b = False, n = l1, ui = False, p = l1, c = 0.2\n",
      "prec_trn 0.69, prec_tst 0.7     sw = None, ng = (1, 2), mf = 2000, b = False, n = l1, ui = False, p = l1, c = 0.9\n",
      "prec_trn 0.51, prec_tst 0.5     sw = None, ng = (1, 2), mf = 2000, b = False, n = l1, ui = False, p = l2, c = 0.01\n",
      "prec_trn 0.69, prec_tst 0.65     sw = None, ng = (1, 2), mf = 2000, b = False, n = l1, ui = False, p = l2, c = 0.07\n",
      "prec_trn 0.73, prec_tst 0.69 *** sw = None, ng = (1, 2), mf = 2000, b = False, n = l1, ui = False, p = l2, c = 0.1\n",
      "prec_trn 0.75, prec_tst 0.72 *** sw = None, ng = (1, 2), mf = 2000, b = False, n = l1, ui = False, p = l2, c = 0.2\n",
      "prec_trn 0.79, prec_tst 0.74 *** sw = None, ng = (1, 2), mf = 2000, b = False, n = l1, ui = False, p = l2, c = 0.9\n",
      "prec_trn 0.49, prec_tst 0.5     sw = None, ng = (1, 2), mf = 5000, b = True, n = l2, ui = True, p = l1, c = 0.01\n",
      "prec_trn 0.49, prec_tst 0.5     sw = None, ng = (1, 2), mf = 5000, b = True, n = l2, ui = True, p = l1, c = 0.07\n",
      "prec_trn 0.55, prec_tst 0.57     sw = None, ng = (1, 2), mf = 5000, b = True, n = l2, ui = True, p = l1, c = 0.1\n",
      "prec_trn 0.59, prec_tst 0.61     sw = None, ng = (1, 2), mf = 5000, b = True, n = l2, ui = True, p = l1, c = 0.2\n",
      "prec_trn 0.78, prec_tst 0.77 *** sw = None, ng = (1, 2), mf = 5000, b = True, n = l2, ui = True, p = l1, c = 0.9\n",
      "prec_trn 0.62, prec_tst 0.57     sw = None, ng = (1, 2), mf = 5000, b = True, n = l2, ui = True, p = l2, c = 0.01\n",
      "prec_trn 0.89, prec_tst 0.78     sw = None, ng = (1, 2), mf = 5000, b = True, n = l2, ui = True, p = l2, c = 0.07\n",
      "prec_trn 0.89, prec_tst 0.79     sw = None, ng = (1, 2), mf = 5000, b = True, n = l2, ui = True, p = l2, c = 0.1\n",
      "prec_trn 0.91, prec_tst 0.8     sw = None, ng = (1, 2), mf = 5000, b = True, n = l2, ui = True, p = l2, c = 0.2\n",
      "prec_trn 0.95, prec_tst 0.82     sw = None, ng = (1, 2), mf = 5000, b = True, n = l2, ui = True, p = l2, c = 0.9\n",
      "prec_trn 0.49, prec_tst 0.5     sw = None, ng = (1, 2), mf = 5000, b = True, n = l2, ui = False, p = l1, c = 0.01\n",
      "prec_trn 0.55, prec_tst 0.57     sw = None, ng = (1, 2), mf = 5000, b = True, n = l2, ui = False, p = l1, c = 0.07\n",
      "prec_trn 0.63, prec_tst 0.65     sw = None, ng = (1, 2), mf = 5000, b = True, n = l2, ui = False, p = l1, c = 0.1\n",
      "prec_trn 0.65, prec_tst 0.67     sw = None, ng = (1, 2), mf = 5000, b = True, n = l2, ui = False, p = l1, c = 0.2\n",
      "prec_trn 0.77, prec_tst 0.75 *** sw = None, ng = (1, 2), mf = 5000, b = True, n = l2, ui = False, p = l1, c = 0.9\n",
      "prec_trn 0.7, prec_tst 0.66     sw = None, ng = (1, 2), mf = 5000, b = True, n = l2, ui = False, p = l2, c = 0.01\n",
      "prec_trn 0.79, prec_tst 0.73     sw = None, ng = (1, 2), mf = 5000, b = True, n = l2, ui = False, p = l2, c = 0.07\n",
      "prec_trn 0.79, prec_tst 0.74 *** sw = None, ng = (1, 2), mf = 5000, b = True, n = l2, ui = False, p = l2, c = 0.1\n",
      "prec_trn 0.83, prec_tst 0.76     sw = None, ng = (1, 2), mf = 5000, b = True, n = l2, ui = False, p = l2, c = 0.2\n",
      "prec_trn 0.91, prec_tst 0.79     sw = None, ng = (1, 2), mf = 5000, b = True, n = l2, ui = False, p = l2, c = 0.9\n",
      "prec_trn 0.49, prec_tst 0.5     sw = None, ng = (1, 2), mf = 5000, b = True, n = l1, ui = True, p = l1, c = 0.01\n",
      "prec_trn 0.49, prec_tst 0.5     sw = None, ng = (1, 2), mf = 5000, b = True, n = l1, ui = True, p = l1, c = 0.07\n",
      "prec_trn 0.51, prec_tst 0.5     sw = None, ng = (1, 2), mf = 5000, b = True, n = l1, ui = True, p = l1, c = 0.1\n",
      "prec_trn 0.51, prec_tst 0.5     sw = None, ng = (1, 2), mf = 5000, b = True, n = l1, ui = True, p = l1, c = 0.2\n",
      "prec_trn 0.68, prec_tst 0.69     sw = None, ng = (1, 2), mf = 5000, b = True, n = l1, ui = True, p = l1, c = 0.9\n",
      "prec_trn 0.51, prec_tst 0.5     sw = None, ng = (1, 2), mf = 5000, b = True, n = l1, ui = True, p = l2, c = 0.01\n",
      "prec_trn 0.57, prec_tst 0.56     sw = None, ng = (1, 2), mf = 5000, b = True, n = l1, ui = True, p = l2, c = 0.07\n",
      "prec_trn 0.63, prec_tst 0.59     sw = None, ng = (1, 2), mf = 5000, b = True, n = l1, ui = True, p = l2, c = 0.1\n",
      "prec_trn 0.78, prec_tst 0.71     sw = None, ng = (1, 2), mf = 5000, b = True, n = l1, ui = True, p = l2, c = 0.2\n",
      "prec_trn 0.9, prec_tst 0.8     sw = None, ng = (1, 2), mf = 5000, b = True, n = l1, ui = True, p = l2, c = 0.9\n",
      "prec_trn 0.49, prec_tst 0.5     sw = None, ng = (1, 2), mf = 5000, b = True, n = l1, ui = False, p = l1, c = 0.01\n",
      "prec_trn 0.49, prec_tst 0.5     sw = None, ng = (1, 2), mf = 5000, b = True, n = l1, ui = False, p = l1, c = 0.07\n",
      "prec_trn 0.51, prec_tst 0.5     sw = None, ng = (1, 2), mf = 5000, b = True, n = l1, ui = False, p = l1, c = 0.1\n",
      "prec_trn 0.55, prec_tst 0.57     sw = None, ng = (1, 2), mf = 5000, b = True, n = l1, ui = False, p = l1, c = 0.2\n",
      "prec_trn 0.68, prec_tst 0.69     sw = None, ng = (1, 2), mf = 5000, b = True, n = l1, ui = False, p = l1, c = 0.9\n",
      "prec_trn 0.51, prec_tst 0.5     sw = None, ng = (1, 2), mf = 5000, b = True, n = l1, ui = False, p = l2, c = 0.01\n",
      "prec_trn 0.63, prec_tst 0.6     sw = None, ng = (1, 2), mf = 5000, b = True, n = l1, ui = False, p = l2, c = 0.07\n",
      "prec_trn 0.7, prec_tst 0.65     sw = None, ng = (1, 2), mf = 5000, b = True, n = l1, ui = False, p = l2, c = 0.1\n",
      "prec_trn 0.76, prec_tst 0.7     sw = None, ng = (1, 2), mf = 5000, b = True, n = l1, ui = False, p = l2, c = 0.2\n",
      "prec_trn 0.81, prec_tst 0.75     sw = None, ng = (1, 2), mf = 5000, b = True, n = l1, ui = False, p = l2, c = 0.9\n",
      "prec_trn 0.49, prec_tst 0.5     sw = None, ng = (1, 2), mf = 5000, b = False, n = l2, ui = True, p = l1, c = 0.01\n",
      "prec_trn 0.49, prec_tst 0.5     sw = None, ng = (1, 2), mf = 5000, b = False, n = l2, ui = True, p = l1, c = 0.07\n",
      "prec_trn 0.55, prec_tst 0.57     sw = None, ng = (1, 2), mf = 5000, b = False, n = l2, ui = True, p = l1, c = 0.1\n",
      "prec_trn 0.64, prec_tst 0.66     sw = None, ng = (1, 2), mf = 5000, b = False, n = l2, ui = True, p = l1, c = 0.2\n",
      "prec_trn 0.77, prec_tst 0.77 *** sw = None, ng = (1, 2), mf = 5000, b = False, n = l2, ui = True, p = l1, c = 0.9\n",
      "prec_trn 0.62, prec_tst 0.58     sw = None, ng = (1, 2), mf = 5000, b = False, n = l2, ui = True, p = l2, c = 0.01\n",
      "prec_trn 0.88, prec_tst 0.79     sw = None, ng = (1, 2), mf = 5000, b = False, n = l2, ui = True, p = l2, c = 0.07\n",
      "prec_trn 0.89, prec_tst 0.79     sw = None, ng = (1, 2), mf = 5000, b = False, n = l2, ui = True, p = l2, c = 0.1\n",
      "prec_trn 0.9, prec_tst 0.8     sw = None, ng = (1, 2), mf = 5000, b = False, n = l2, ui = True, p = l2, c = 0.2\n",
      "prec_trn 0.95, prec_tst 0.82     sw = None, ng = (1, 2), mf = 5000, b = False, n = l2, ui = True, p = l2, c = 0.9\n",
      "prec_trn 0.49, prec_tst 0.5     sw = None, ng = (1, 2), mf = 5000, b = False, n = l2, ui = False, p = l1, c = 0.01\n",
      "prec_trn 0.61, prec_tst 0.62     sw = None, ng = (1, 2), mf = 5000, b = False, n = l2, ui = False, p = l1, c = 0.07\n",
      "prec_trn 0.63, prec_tst 0.65     sw = None, ng = (1, 2), mf = 5000, b = False, n = l2, ui = False, p = l1, c = 0.1\n",
      "prec_trn 0.64, prec_tst 0.66     sw = None, ng = (1, 2), mf = 5000, b = False, n = l2, ui = False, p = l1, c = 0.2\n",
      "prec_trn 0.76, prec_tst 0.75 *** sw = None, ng = (1, 2), mf = 5000, b = False, n = l2, ui = False, p = l1, c = 0.9\n",
      "prec_trn 0.71, prec_tst 0.66     sw = None, ng = (1, 2), mf = 5000, b = False, n = l2, ui = False, p = l2, c = 0.01\n",
      "prec_trn 0.77, prec_tst 0.72 *** sw = None, ng = (1, 2), mf = 5000, b = False, n = l2, ui = False, p = l2, c = 0.07\n",
      "prec_trn 0.78, prec_tst 0.73 *** sw = None, ng = (1, 2), mf = 5000, b = False, n = l2, ui = False, p = l2, c = 0.1\n",
      "prec_trn 0.82, prec_tst 0.76     sw = None, ng = (1, 2), mf = 5000, b = False, n = l2, ui = False, p = l2, c = 0.2\n",
      "prec_trn 0.89, prec_tst 0.8     sw = None, ng = (1, 2), mf = 5000, b = False, n = l2, ui = False, p = l2, c = 0.9\n",
      "prec_trn 0.49, prec_tst 0.5     sw = None, ng = (1, 2), mf = 5000, b = False, n = l1, ui = True, p = l1, c = 0.01\n",
      "prec_trn 0.49, prec_tst 0.5     sw = None, ng = (1, 2), mf = 5000, b = False, n = l1, ui = True, p = l1, c = 0.07\n",
      "prec_trn 0.51, prec_tst 0.5     sw = None, ng = (1, 2), mf = 5000, b = False, n = l1, ui = True, p = l1, c = 0.1\n",
      "prec_trn 0.51, prec_tst 0.5     sw = None, ng = (1, 2), mf = 5000, b = False, n = l1, ui = True, p = l1, c = 0.2\n",
      "prec_trn 0.67, prec_tst 0.69     sw = None, ng = (1, 2), mf = 5000, b = False, n = l1, ui = True, p = l1, c = 0.9\n",
      "prec_trn 0.51, prec_tst 0.5     sw = None, ng = (1, 2), mf = 5000, b = False, n = l1, ui = True, p = l2, c = 0.01\n",
      "prec_trn 0.57, prec_tst 0.56     sw = None, ng = (1, 2), mf = 5000, b = False, n = l1, ui = True, p = l2, c = 0.07\n",
      "prec_trn 0.63, prec_tst 0.6     sw = None, ng = (1, 2), mf = 5000, b = False, n = l1, ui = True, p = l2, c = 0.1\n",
      "prec_trn 0.78, prec_tst 0.71     sw = None, ng = (1, 2), mf = 5000, b = False, n = l1, ui = True, p = l2, c = 0.2\n",
      "prec_trn 0.89, prec_tst 0.79     sw = None, ng = (1, 2), mf = 5000, b = False, n = l1, ui = True, p = l2, c = 0.9\n",
      "prec_trn 0.49, prec_tst 0.5     sw = None, ng = (1, 2), mf = 5000, b = False, n = l1, ui = False, p = l1, c = 0.01\n",
      "prec_trn 0.49, prec_tst 0.5     sw = None, ng = (1, 2), mf = 5000, b = False, n = l1, ui = False, p = l1, c = 0.07\n",
      "prec_trn 0.51, prec_tst 0.5     sw = None, ng = (1, 2), mf = 5000, b = False, n = l1, ui = False, p = l1, c = 0.1\n",
      "prec_trn 0.55, prec_tst 0.57     sw = None, ng = (1, 2), mf = 5000, b = False, n = l1, ui = False, p = l1, c = 0.2\n",
      "prec_trn 0.67, prec_tst 0.69     sw = None, ng = (1, 2), mf = 5000, b = False, n = l1, ui = False, p = l1, c = 0.9\n",
      "prec_trn 0.51, prec_tst 0.5     sw = None, ng = (1, 2), mf = 5000, b = False, n = l1, ui = False, p = l2, c = 0.01\n",
      "prec_trn 0.64, prec_tst 0.61     sw = None, ng = (1, 2), mf = 5000, b = False, n = l1, ui = False, p = l2, c = 0.07\n",
      "prec_trn 0.7, prec_tst 0.66     sw = None, ng = (1, 2), mf = 5000, b = False, n = l1, ui = False, p = l2, c = 0.1\n",
      "prec_trn 0.76, prec_tst 0.72 *** sw = None, ng = (1, 2), mf = 5000, b = False, n = l1, ui = False, p = l2, c = 0.2\n",
      "prec_trn 0.79, prec_tst 0.74 *** sw = None, ng = (1, 2), mf = 5000, b = False, n = l1, ui = False, p = l2, c = 0.9\n",
      "prec_trn 0.49, prec_tst 0.5     sw = None, ng = (1, 2), mf = 60000, b = True, n = l2, ui = True, p = l1, c = 0.01\n",
      "prec_trn 0.49, prec_tst 0.5     sw = None, ng = (1, 2), mf = 60000, b = True, n = l2, ui = True, p = l1, c = 0.07\n",
      "prec_trn 0.55, prec_tst 0.57     sw = None, ng = (1, 2), mf = 60000, b = True, n = l2, ui = True, p = l1, c = 0.1\n",
      "prec_trn 0.57, prec_tst 0.56     sw = None, ng = (1, 2), mf = 60000, b = True, n = l2, ui = True, p = l1, c = 0.2\n",
      "prec_trn 0.75, prec_tst 0.74 *** sw = None, ng = (1, 2), mf = 60000, b = True, n = l2, ui = True, p = l1, c = 0.9\n",
      "prec_trn 0.55, prec_tst 0.53     sw = None, ng = (1, 2), mf = 60000, b = True, n = l2, ui = True, p = l2, c = 0.01\n",
      "prec_trn 0.92, prec_tst 0.77     sw = None, ng = (1, 2), mf = 60000, b = True, n = l2, ui = True, p = l2, c = 0.07\n",
      "prec_trn 0.93, prec_tst 0.79     sw = None, ng = (1, 2), mf = 60000, b = True, n = l2, ui = True, p = l2, c = 0.1\n",
      "prec_trn 0.95, prec_tst 0.8     sw = None, ng = (1, 2), mf = 60000, b = True, n = l2, ui = True, p = l2, c = 0.2\n",
      "prec_trn 0.98, prec_tst 0.82     sw = None, ng = (1, 2), mf = 60000, b = True, n = l2, ui = True, p = l2, c = 0.9\n",
      "prec_trn 0.49, prec_tst 0.5     sw = None, ng = (1, 2), mf = 60000, b = True, n = l2, ui = False, p = l1, c = 0.01\n",
      "prec_trn 0.55, prec_tst 0.57     sw = None, ng = (1, 2), mf = 60000, b = True, n = l2, ui = False, p = l1, c = 0.07\n",
      "prec_trn 0.63, prec_tst 0.65     sw = None, ng = (1, 2), mf = 60000, b = True, n = l2, ui = False, p = l1, c = 0.1\n",
      "prec_trn 0.63, prec_tst 0.65     sw = None, ng = (1, 2), mf = 60000, b = True, n = l2, ui = False, p = l1, c = 0.2\n",
      "prec_trn 0.76, prec_tst 0.73 *** sw = None, ng = (1, 2), mf = 60000, b = True, n = l2, ui = False, p = l1, c = 0.9\n",
      "prec_trn 0.67, prec_tst 0.61     sw = None, ng = (1, 2), mf = 60000, b = True, n = l2, ui = False, p = l2, c = 0.01\n",
      "prec_trn 0.81, prec_tst 0.73     sw = None, ng = (1, 2), mf = 60000, b = True, n = l2, ui = False, p = l2, c = 0.07\n",
      "prec_trn 0.82, prec_tst 0.72     sw = None, ng = (1, 2), mf = 60000, b = True, n = l2, ui = False, p = l2, c = 0.1\n",
      "prec_trn 0.85, prec_tst 0.75     sw = None, ng = (1, 2), mf = 60000, b = True, n = l2, ui = False, p = l2, c = 0.2\n",
      "prec_trn 0.94, prec_tst 0.79     sw = None, ng = (1, 2), mf = 60000, b = True, n = l2, ui = False, p = l2, c = 0.9\n",
      "prec_trn 0.49, prec_tst 0.5     sw = None, ng = (1, 2), mf = 60000, b = True, n = l1, ui = True, p = l1, c = 0.01\n",
      "prec_trn 0.49, prec_tst 0.5     sw = None, ng = (1, 2), mf = 60000, b = True, n = l1, ui = True, p = l1, c = 0.07\n",
      "prec_trn 0.51, prec_tst 0.5     sw = None, ng = (1, 2), mf = 60000, b = True, n = l1, ui = True, p = l1, c = 0.1\n",
      "prec_trn 0.51, prec_tst 0.5     sw = None, ng = (1, 2), mf = 60000, b = True, n = l1, ui = True, p = l1, c = 0.2\n",
      "prec_trn 0.63, prec_tst 0.65     sw = None, ng = (1, 2), mf = 60000, b = True, n = l1, ui = True, p = l1, c = 0.9\n",
      "prec_trn 0.51, prec_tst 0.5     sw = None, ng = (1, 2), mf = 60000, b = True, n = l1, ui = True, p = l2, c = 0.01\n",
      "prec_trn 0.53, prec_tst 0.52     sw = None, ng = (1, 2), mf = 60000, b = True, n = l1, ui = True, p = l2, c = 0.07\n",
      "prec_trn 0.55, prec_tst 0.54     sw = None, ng = (1, 2), mf = 60000, b = True, n = l1, ui = True, p = l2, c = 0.1\n",
      "prec_trn 0.63, prec_tst 0.61     sw = None, ng = (1, 2), mf = 60000, b = True, n = l1, ui = True, p = l2, c = 0.2\n",
      "prec_trn 0.92, prec_tst 0.78     sw = None, ng = (1, 2), mf = 60000, b = True, n = l1, ui = True, p = l2, c = 0.9\n",
      "prec_trn 0.49, prec_tst 0.5     sw = None, ng = (1, 2), mf = 60000, b = True, n = l1, ui = False, p = l1, c = 0.01\n",
      "prec_trn 0.49, prec_tst 0.5     sw = None, ng = (1, 2), mf = 60000, b = True, n = l1, ui = False, p = l1, c = 0.07\n",
      "prec_trn 0.51, prec_tst 0.5     sw = None, ng = (1, 2), mf = 60000, b = True, n = l1, ui = False, p = l1, c = 0.1\n",
      "prec_trn 0.51, prec_tst 0.5     sw = None, ng = (1, 2), mf = 60000, b = True, n = l1, ui = False, p = l1, c = 0.2\n",
      "prec_trn 0.66, prec_tst 0.67     sw = None, ng = (1, 2), mf = 60000, b = True, n = l1, ui = False, p = l1, c = 0.9\n",
      "prec_trn 0.51, prec_tst 0.5     sw = None, ng = (1, 2), mf = 60000, b = True, n = l1, ui = False, p = l2, c = 0.01\n",
      "prec_trn 0.56, prec_tst 0.55     sw = None, ng = (1, 2), mf = 60000, b = True, n = l1, ui = False, p = l2, c = 0.07\n",
      "prec_trn 0.6, prec_tst 0.58     sw = None, ng = (1, 2), mf = 60000, b = True, n = l1, ui = False, p = l2, c = 0.1\n",
      "prec_trn 0.72, prec_tst 0.67     sw = None, ng = (1, 2), mf = 60000, b = True, n = l1, ui = False, p = l2, c = 0.2\n",
      "prec_trn 0.81, prec_tst 0.73     sw = None, ng = (1, 2), mf = 60000, b = True, n = l1, ui = False, p = l2, c = 0.9\n",
      "prec_trn 0.49, prec_tst 0.5     sw = None, ng = (1, 2), mf = 60000, b = False, n = l2, ui = True, p = l1, c = 0.01\n",
      "prec_trn 0.49, prec_tst 0.5     sw = None, ng = (1, 2), mf = 60000, b = False, n = l2, ui = True, p = l1, c = 0.07\n",
      "prec_trn 0.55, prec_tst 0.57     sw = None, ng = (1, 2), mf = 60000, b = False, n = l2, ui = True, p = l1, c = 0.1\n",
      "prec_trn 0.59, prec_tst 0.62     sw = None, ng = (1, 2), mf = 60000, b = False, n = l2, ui = True, p = l1, c = 0.2\n",
      "prec_trn 0.75, prec_tst 0.74 *** sw = None, ng = (1, 2), mf = 60000, b = False, n = l2, ui = True, p = l1, c = 0.9\n",
      "prec_trn 0.55, prec_tst 0.53     sw = None, ng = (1, 2), mf = 60000, b = False, n = l2, ui = True, p = l2, c = 0.01\n",
      "prec_trn 0.91, prec_tst 0.77     sw = None, ng = (1, 2), mf = 60000, b = False, n = l2, ui = True, p = l2, c = 0.07\n",
      "prec_trn 0.92, prec_tst 0.78     sw = None, ng = (1, 2), mf = 60000, b = False, n = l2, ui = True, p = l2, c = 0.1\n",
      "prec_trn 0.95, prec_tst 0.8     sw = None, ng = (1, 2), mf = 60000, b = False, n = l2, ui = True, p = l2, c = 0.2\n",
      "prec_trn 0.98, prec_tst 0.82     sw = None, ng = (1, 2), mf = 60000, b = False, n = l2, ui = True, p = l2, c = 0.9\n",
      "prec_trn 0.49, prec_tst 0.5     sw = None, ng = (1, 2), mf = 60000, b = False, n = l2, ui = False, p = l1, c = 0.01\n",
      "prec_trn 0.55, prec_tst 0.57     sw = None, ng = (1, 2), mf = 60000, b = False, n = l2, ui = False, p = l1, c = 0.07\n",
      "prec_trn 0.63, prec_tst 0.65     sw = None, ng = (1, 2), mf = 60000, b = False, n = l2, ui = False, p = l1, c = 0.1\n",
      "prec_trn 0.63, prec_tst 0.66     sw = None, ng = (1, 2), mf = 60000, b = False, n = l2, ui = False, p = l1, c = 0.2\n",
      "prec_trn 0.74, prec_tst 0.73 *** sw = None, ng = (1, 2), mf = 60000, b = False, n = l2, ui = False, p = l1, c = 0.9\n",
      "prec_trn 0.67, prec_tst 0.63     sw = None, ng = (1, 2), mf = 60000, b = False, n = l2, ui = False, p = l2, c = 0.01\n",
      "prec_trn 0.79, prec_tst 0.72     sw = None, ng = (1, 2), mf = 60000, b = False, n = l2, ui = False, p = l2, c = 0.07\n",
      "prec_trn 0.8, prec_tst 0.72     sw = None, ng = (1, 2), mf = 60000, b = False, n = l2, ui = False, p = l2, c = 0.1\n",
      "prec_trn 0.83, prec_tst 0.74     sw = None, ng = (1, 2), mf = 60000, b = False, n = l2, ui = False, p = l2, c = 0.2\n",
      "prec_trn 0.92, prec_tst 0.79     sw = None, ng = (1, 2), mf = 60000, b = False, n = l2, ui = False, p = l2, c = 0.9\n",
      "prec_trn 0.49, prec_tst 0.5     sw = None, ng = (1, 2), mf = 60000, b = False, n = l1, ui = True, p = l1, c = 0.01\n",
      "prec_trn 0.49, prec_tst 0.5     sw = None, ng = (1, 2), mf = 60000, b = False, n = l1, ui = True, p = l1, c = 0.07\n",
      "prec_trn 0.51, prec_tst 0.5     sw = None, ng = (1, 2), mf = 60000, b = False, n = l1, ui = True, p = l1, c = 0.1\n",
      "prec_trn 0.51, prec_tst 0.5     sw = None, ng = (1, 2), mf = 60000, b = False, n = l1, ui = True, p = l1, c = 0.2\n",
      "prec_trn 0.63, prec_tst 0.65     sw = None, ng = (1, 2), mf = 60000, b = False, n = l1, ui = True, p = l1, c = 0.9\n",
      "prec_trn 0.51, prec_tst 0.5     sw = None, ng = (1, 2), mf = 60000, b = False, n = l1, ui = True, p = l2, c = 0.01\n",
      "prec_trn 0.53, prec_tst 0.52     sw = None, ng = (1, 2), mf = 60000, b = False, n = l1, ui = True, p = l2, c = 0.07\n",
      "prec_trn 0.55, prec_tst 0.54     sw = None, ng = (1, 2), mf = 60000, b = False, n = l1, ui = True, p = l2, c = 0.1\n",
      "prec_trn 0.63, prec_tst 0.62     sw = None, ng = (1, 2), mf = 60000, b = False, n = l1, ui = True, p = l2, c = 0.2\n",
      "prec_trn 0.91, prec_tst 0.78     sw = None, ng = (1, 2), mf = 60000, b = False, n = l1, ui = True, p = l2, c = 0.9\n",
      "prec_trn 0.49, prec_tst 0.5     sw = None, ng = (1, 2), mf = 60000, b = False, n = l1, ui = False, p = l1, c = 0.01\n",
      "prec_trn 0.49, prec_tst 0.5     sw = None, ng = (1, 2), mf = 60000, b = False, n = l1, ui = False, p = l1, c = 0.07\n",
      "prec_trn 0.51, prec_tst 0.5     sw = None, ng = (1, 2), mf = 60000, b = False, n = l1, ui = False, p = l1, c = 0.1\n",
      "prec_trn 0.51, prec_tst 0.5     sw = None, ng = (1, 2), mf = 60000, b = False, n = l1, ui = False, p = l1, c = 0.2\n",
      "prec_trn 0.65, prec_tst 0.67     sw = None, ng = (1, 2), mf = 60000, b = False, n = l1, ui = False, p = l1, c = 0.9\n",
      "prec_trn 0.51, prec_tst 0.5     sw = None, ng = (1, 2), mf = 60000, b = False, n = l1, ui = False, p = l2, c = 0.01\n",
      "prec_trn 0.56, prec_tst 0.56     sw = None, ng = (1, 2), mf = 60000, b = False, n = l1, ui = False, p = l2, c = 0.07\n",
      "prec_trn 0.6, prec_tst 0.58     sw = None, ng = (1, 2), mf = 60000, b = False, n = l1, ui = False, p = l2, c = 0.1\n",
      "prec_trn 0.72, prec_tst 0.67     sw = None, ng = (1, 2), mf = 60000, b = False, n = l1, ui = False, p = l2, c = 0.2\n",
      "prec_trn 0.8, prec_tst 0.74     sw = None, ng = (1, 2), mf = 60000, b = False, n = l1, ui = False, p = l2, c = 0.9\n",
      "prec_trn 0.49, prec_tst 0.5     sw = None, ng = (1, 3), mf = 2000, b = True, n = l2, ui = True, p = l1, c = 0.01\n",
      "prec_trn 0.55, prec_tst 0.57     sw = None, ng = (1, 3), mf = 2000, b = True, n = l2, ui = True, p = l1, c = 0.07\n",
      "prec_trn 0.55, prec_tst 0.57     sw = None, ng = (1, 3), mf = 2000, b = True, n = l2, ui = True, p = l1, c = 0.1\n",
      "prec_trn 0.65, prec_tst 0.67     sw = None, ng = (1, 3), mf = 2000, b = True, n = l2, ui = True, p = l1, c = 0.2\n",
      "prec_trn 0.79, prec_tst 0.78 *** sw = None, ng = (1, 3), mf = 2000, b = True, n = l2, ui = True, p = l1, c = 0.9\n",
      "prec_trn 0.67, prec_tst 0.61     sw = None, ng = (1, 3), mf = 2000, b = True, n = l2, ui = True, p = l2, c = 0.01\n",
      "prec_trn 0.87, prec_tst 0.78     sw = None, ng = (1, 3), mf = 2000, b = True, n = l2, ui = True, p = l2, c = 0.07\n",
      "prec_trn 0.88, prec_tst 0.79     sw = None, ng = (1, 3), mf = 2000, b = True, n = l2, ui = True, p = l2, c = 0.1\n",
      "prec_trn 0.88, prec_tst 0.79     sw = None, ng = (1, 3), mf = 2000, b = True, n = l2, ui = True, p = l2, c = 0.2\n",
      "prec_trn 0.93, prec_tst 0.81     sw = None, ng = (1, 3), mf = 2000, b = True, n = l2, ui = True, p = l2, c = 0.9\n",
      "prec_trn 0.49, prec_tst 0.5     sw = None, ng = (1, 3), mf = 2000, b = True, n = l2, ui = False, p = l1, c = 0.01\n",
      "prec_trn 0.61, prec_tst 0.62     sw = None, ng = (1, 3), mf = 2000, b = True, n = l2, ui = False, p = l1, c = 0.07\n",
      "prec_trn 0.63, prec_tst 0.65     sw = None, ng = (1, 3), mf = 2000, b = True, n = l2, ui = False, p = l1, c = 0.1\n",
      "prec_trn 0.65, prec_tst 0.67     sw = None, ng = (1, 3), mf = 2000, b = True, n = l2, ui = False, p = l1, c = 0.2\n",
      "prec_trn 0.79, prec_tst 0.75 *** sw = None, ng = (1, 3), mf = 2000, b = True, n = l2, ui = False, p = l1, c = 0.9\n",
      "prec_trn 0.72, prec_tst 0.67     sw = None, ng = (1, 3), mf = 2000, b = True, n = l2, ui = False, p = l2, c = 0.01\n",
      "prec_trn 0.77, prec_tst 0.73 *** sw = None, ng = (1, 3), mf = 2000, b = True, n = l2, ui = False, p = l2, c = 0.07\n",
      "prec_trn 0.78, prec_tst 0.73 *** sw = None, ng = (1, 3), mf = 2000, b = True, n = l2, ui = False, p = l2, c = 0.1\n",
      "prec_trn 0.81, prec_tst 0.76 *** sw = None, ng = (1, 3), mf = 2000, b = True, n = l2, ui = False, p = l2, c = 0.2\n",
      "prec_trn 0.89, prec_tst 0.79     sw = None, ng = (1, 3), mf = 2000, b = True, n = l2, ui = False, p = l2, c = 0.9\n",
      "prec_trn 0.49, prec_tst 0.5     sw = None, ng = (1, 3), mf = 2000, b = True, n = l1, ui = True, p = l1, c = 0.01\n",
      "prec_trn 0.49, prec_tst 0.5     sw = None, ng = (1, 3), mf = 2000, b = True, n = l1, ui = True, p = l1, c = 0.07\n",
      "prec_trn 0.51, prec_tst 0.5     sw = None, ng = (1, 3), mf = 2000, b = True, n = l1, ui = True, p = l1, c = 0.1\n",
      "prec_trn 0.55, prec_tst 0.57     sw = None, ng = (1, 3), mf = 2000, b = True, n = l1, ui = True, p = l1, c = 0.2\n",
      "prec_trn 0.69, prec_tst 0.7     sw = None, ng = (1, 3), mf = 2000, b = True, n = l1, ui = True, p = l1, c = 0.9\n",
      "prec_trn 0.51, prec_tst 0.5     sw = None, ng = (1, 3), mf = 2000, b = True, n = l1, ui = True, p = l2, c = 0.01\n",
      "prec_trn 0.62, prec_tst 0.58     sw = None, ng = (1, 3), mf = 2000, b = True, n = l1, ui = True, p = l2, c = 0.07\n",
      "prec_trn 0.7, prec_tst 0.65     sw = None, ng = (1, 3), mf = 2000, b = True, n = l1, ui = True, p = l2, c = 0.1\n",
      "prec_trn 0.83, prec_tst 0.74     sw = None, ng = (1, 3), mf = 2000, b = True, n = l1, ui = True, p = l2, c = 0.2\n",
      "prec_trn 0.87, prec_tst 0.79     sw = None, ng = (1, 3), mf = 2000, b = True, n = l1, ui = True, p = l2, c = 0.9\n",
      "prec_trn 0.49, prec_tst 0.5     sw = None, ng = (1, 3), mf = 2000, b = True, n = l1, ui = False, p = l1, c = 0.01\n",
      "prec_trn 0.49, prec_tst 0.5     sw = None, ng = (1, 3), mf = 2000, b = True, n = l1, ui = False, p = l1, c = 0.07\n",
      "prec_trn 0.51, prec_tst 0.5     sw = None, ng = (1, 3), mf = 2000, b = True, n = l1, ui = False, p = l1, c = 0.1\n",
      "prec_trn 0.57, prec_tst 0.56     sw = None, ng = (1, 3), mf = 2000, b = True, n = l1, ui = False, p = l1, c = 0.2\n",
      "prec_trn 0.69, prec_tst 0.69     sw = None, ng = (1, 3), mf = 2000, b = True, n = l1, ui = False, p = l1, c = 0.9\n",
      "prec_trn 0.51, prec_tst 0.5     sw = None, ng = (1, 3), mf = 2000, b = True, n = l1, ui = False, p = l2, c = 0.01\n",
      "prec_trn 0.68, prec_tst 0.64     sw = None, ng = (1, 3), mf = 2000, b = True, n = l1, ui = False, p = l2, c = 0.07\n",
      "prec_trn 0.72, prec_tst 0.67     sw = None, ng = (1, 3), mf = 2000, b = True, n = l1, ui = False, p = l2, c = 0.1\n",
      "prec_trn 0.77, prec_tst 0.72 *** sw = None, ng = (1, 3), mf = 2000, b = True, n = l1, ui = False, p = l2, c = 0.2\n",
      "prec_trn 0.8, prec_tst 0.74     sw = None, ng = (1, 3), mf = 2000, b = True, n = l1, ui = False, p = l2, c = 0.9\n",
      "prec_trn 0.49, prec_tst 0.5     sw = None, ng = (1, 3), mf = 2000, b = False, n = l2, ui = True, p = l1, c = 0.01\n",
      "prec_trn 0.55, prec_tst 0.57     sw = None, ng = (1, 3), mf = 2000, b = False, n = l2, ui = True, p = l1, c = 0.07\n",
      "prec_trn 0.55, prec_tst 0.57     sw = None, ng = (1, 3), mf = 2000, b = False, n = l2, ui = True, p = l1, c = 0.1\n",
      "prec_trn 0.65, prec_tst 0.67     sw = None, ng = (1, 3), mf = 2000, b = False, n = l2, ui = True, p = l1, c = 0.2\n",
      "prec_trn 0.79, prec_tst 0.78 *** sw = None, ng = (1, 3), mf = 2000, b = False, n = l2, ui = True, p = l1, c = 0.9\n",
      "prec_trn 0.67, prec_tst 0.63     sw = None, ng = (1, 3), mf = 2000, b = False, n = l2, ui = True, p = l2, c = 0.01\n",
      "prec_trn 0.85, prec_tst 0.78     sw = None, ng = (1, 3), mf = 2000, b = False, n = l2, ui = True, p = l2, c = 0.07\n",
      "prec_trn 0.86, prec_tst 0.79     sw = None, ng = (1, 3), mf = 2000, b = False, n = l2, ui = True, p = l2, c = 0.1\n",
      "prec_trn 0.88, prec_tst 0.79     sw = None, ng = (1, 3), mf = 2000, b = False, n = l2, ui = True, p = l2, c = 0.2\n",
      "prec_trn 0.92, prec_tst 0.81     sw = None, ng = (1, 3), mf = 2000, b = False, n = l2, ui = True, p = l2, c = 0.9\n",
      "prec_trn 0.49, prec_tst 0.5     sw = None, ng = (1, 3), mf = 2000, b = False, n = l2, ui = False, p = l1, c = 0.01\n",
      "prec_trn 0.61, prec_tst 0.62     sw = None, ng = (1, 3), mf = 2000, b = False, n = l2, ui = False, p = l1, c = 0.07\n",
      "prec_trn 0.63, prec_tst 0.65     sw = None, ng = (1, 3), mf = 2000, b = False, n = l2, ui = False, p = l1, c = 0.1\n",
      "prec_trn 0.65, prec_tst 0.67     sw = None, ng = (1, 3), mf = 2000, b = False, n = l2, ui = False, p = l1, c = 0.2\n",
      "prec_trn 0.77, prec_tst 0.76 *** sw = None, ng = (1, 3), mf = 2000, b = False, n = l2, ui = False, p = l1, c = 0.9\n",
      "prec_trn 0.72, prec_tst 0.67     sw = None, ng = (1, 3), mf = 2000, b = False, n = l2, ui = False, p = l2, c = 0.01\n",
      "prec_trn 0.76, prec_tst 0.71     sw = None, ng = (1, 3), mf = 2000, b = False, n = l2, ui = False, p = l2, c = 0.07\n",
      "prec_trn 0.77, prec_tst 0.73 *** sw = None, ng = (1, 3), mf = 2000, b = False, n = l2, ui = False, p = l2, c = 0.1\n",
      "prec_trn 0.8, prec_tst 0.75 *** sw = None, ng = (1, 3), mf = 2000, b = False, n = l2, ui = False, p = l2, c = 0.2\n",
      "prec_trn 0.88, prec_tst 0.79     sw = None, ng = (1, 3), mf = 2000, b = False, n = l2, ui = False, p = l2, c = 0.9\n",
      "prec_trn 0.49, prec_tst 0.5     sw = None, ng = (1, 3), mf = 2000, b = False, n = l1, ui = True, p = l1, c = 0.01\n",
      "prec_trn 0.49, prec_tst 0.5     sw = None, ng = (1, 3), mf = 2000, b = False, n = l1, ui = True, p = l1, c = 0.07\n",
      "prec_trn 0.51, prec_tst 0.5     sw = None, ng = (1, 3), mf = 2000, b = False, n = l1, ui = True, p = l1, c = 0.1\n",
      "prec_trn 0.55, prec_tst 0.57     sw = None, ng = (1, 3), mf = 2000, b = False, n = l1, ui = True, p = l1, c = 0.2\n",
      "prec_trn 0.7, prec_tst 0.7     sw = None, ng = (1, 3), mf = 2000, b = False, n = l1, ui = True, p = l1, c = 0.9\n",
      "prec_trn 0.51, prec_tst 0.5     sw = None, ng = (1, 3), mf = 2000, b = False, n = l1, ui = True, p = l2, c = 0.01\n",
      "prec_trn 0.63, prec_tst 0.59     sw = None, ng = (1, 3), mf = 2000, b = False, n = l1, ui = True, p = l2, c = 0.07\n",
      "prec_trn 0.71, prec_tst 0.66     sw = None, ng = (1, 3), mf = 2000, b = False, n = l1, ui = True, p = l2, c = 0.1\n",
      "prec_trn 0.82, prec_tst 0.74     sw = None, ng = (1, 3), mf = 2000, b = False, n = l1, ui = True, p = l2, c = 0.2\n",
      "prec_trn 0.87, prec_tst 0.78     sw = None, ng = (1, 3), mf = 2000, b = False, n = l1, ui = True, p = l2, c = 0.9\n",
      "prec_trn 0.49, prec_tst 0.5     sw = None, ng = (1, 3), mf = 2000, b = False, n = l1, ui = False, p = l1, c = 0.01\n",
      "prec_trn 0.49, prec_tst 0.5     sw = None, ng = (1, 3), mf = 2000, b = False, n = l1, ui = False, p = l1, c = 0.07\n",
      "prec_trn 0.51, prec_tst 0.5     sw = None, ng = (1, 3), mf = 2000, b = False, n = l1, ui = False, p = l1, c = 0.1\n",
      "prec_trn 0.63, prec_tst 0.65     sw = None, ng = (1, 3), mf = 2000, b = False, n = l1, ui = False, p = l1, c = 0.2\n",
      "prec_trn 0.69, prec_tst 0.69     sw = None, ng = (1, 3), mf = 2000, b = False, n = l1, ui = False, p = l1, c = 0.9\n",
      "prec_trn 0.51, prec_tst 0.5     sw = None, ng = (1, 3), mf = 2000, b = False, n = l1, ui = False, p = l2, c = 0.01\n",
      "prec_trn 0.69, prec_tst 0.65     sw = None, ng = (1, 3), mf = 2000, b = False, n = l1, ui = False, p = l2, c = 0.07\n",
      "prec_trn 0.73, prec_tst 0.68     sw = None, ng = (1, 3), mf = 2000, b = False, n = l1, ui = False, p = l2, c = 0.1\n",
      "prec_trn 0.76, prec_tst 0.73 *** sw = None, ng = (1, 3), mf = 2000, b = False, n = l1, ui = False, p = l2, c = 0.2\n",
      "prec_trn 0.79, prec_tst 0.75 *** sw = None, ng = (1, 3), mf = 2000, b = False, n = l1, ui = False, p = l2, c = 0.9\n",
      "prec_trn 0.49, prec_tst 0.5     sw = None, ng = (1, 3), mf = 5000, b = True, n = l2, ui = True, p = l1, c = 0.01\n",
      "prec_trn 0.49, prec_tst 0.5     sw = None, ng = (1, 3), mf = 5000, b = True, n = l2, ui = True, p = l1, c = 0.07\n",
      "prec_trn 0.55, prec_tst 0.57     sw = None, ng = (1, 3), mf = 5000, b = True, n = l2, ui = True, p = l1, c = 0.1\n",
      "prec_trn 0.59, prec_tst 0.61     sw = None, ng = (1, 3), mf = 5000, b = True, n = l2, ui = True, p = l1, c = 0.2\n",
      "prec_trn 0.78, prec_tst 0.76 *** sw = None, ng = (1, 3), mf = 5000, b = True, n = l2, ui = True, p = l1, c = 0.9\n",
      "prec_trn 0.61, prec_tst 0.56     sw = None, ng = (1, 3), mf = 5000, b = True, n = l2, ui = True, p = l2, c = 0.01\n",
      "prec_trn 0.89, prec_tst 0.78     sw = None, ng = (1, 3), mf = 5000, b = True, n = l2, ui = True, p = l2, c = 0.07\n",
      "prec_trn 0.9, prec_tst 0.8     sw = None, ng = (1, 3), mf = 5000, b = True, n = l2, ui = True, p = l2, c = 0.1\n",
      "prec_trn 0.91, prec_tst 0.8     sw = None, ng = (1, 3), mf = 5000, b = True, n = l2, ui = True, p = l2, c = 0.2\n",
      "prec_trn 0.96, prec_tst 0.82     sw = None, ng = (1, 3), mf = 5000, b = True, n = l2, ui = True, p = l2, c = 0.9\n",
      "prec_trn 0.49, prec_tst 0.5     sw = None, ng = (1, 3), mf = 5000, b = True, n = l2, ui = False, p = l1, c = 0.01\n",
      "prec_trn 0.55, prec_tst 0.57     sw = None, ng = (1, 3), mf = 5000, b = True, n = l2, ui = False, p = l1, c = 0.07\n",
      "prec_trn 0.63, prec_tst 0.65     sw = None, ng = (1, 3), mf = 5000, b = True, n = l2, ui = False, p = l1, c = 0.1\n",
      "prec_trn 0.64, prec_tst 0.66     sw = None, ng = (1, 3), mf = 5000, b = True, n = l2, ui = False, p = l1, c = 0.2\n",
      "prec_trn 0.77, prec_tst 0.75 *** sw = None, ng = (1, 3), mf = 5000, b = True, n = l2, ui = False, p = l1, c = 0.9\n",
      "prec_trn 0.7, prec_tst 0.65     sw = None, ng = (1, 3), mf = 5000, b = True, n = l2, ui = False, p = l2, c = 0.01\n",
      "prec_trn 0.79, prec_tst 0.73     sw = None, ng = (1, 3), mf = 5000, b = True, n = l2, ui = False, p = l2, c = 0.07\n",
      "prec_trn 0.8, prec_tst 0.73     sw = None, ng = (1, 3), mf = 5000, b = True, n = l2, ui = False, p = l2, c = 0.1\n",
      "prec_trn 0.83, prec_tst 0.76     sw = None, ng = (1, 3), mf = 5000, b = True, n = l2, ui = False, p = l2, c = 0.2\n",
      "prec_trn 0.91, prec_tst 0.79     sw = None, ng = (1, 3), mf = 5000, b = True, n = l2, ui = False, p = l2, c = 0.9\n",
      "prec_trn 0.49, prec_tst 0.5     sw = None, ng = (1, 3), mf = 5000, b = True, n = l1, ui = True, p = l1, c = 0.01\n",
      "prec_trn 0.49, prec_tst 0.5     sw = None, ng = (1, 3), mf = 5000, b = True, n = l1, ui = True, p = l1, c = 0.07\n",
      "prec_trn 0.51, prec_tst 0.5     sw = None, ng = (1, 3), mf = 5000, b = True, n = l1, ui = True, p = l1, c = 0.1\n",
      "prec_trn 0.51, prec_tst 0.5     sw = None, ng = (1, 3), mf = 5000, b = True, n = l1, ui = True, p = l1, c = 0.2\n",
      "prec_trn 0.67, prec_tst 0.69     sw = None, ng = (1, 3), mf = 5000, b = True, n = l1, ui = True, p = l1, c = 0.9\n",
      "prec_trn 0.51, prec_tst 0.5     sw = None, ng = (1, 3), mf = 5000, b = True, n = l1, ui = True, p = l2, c = 0.01\n",
      "prec_trn 0.57, prec_tst 0.55     sw = None, ng = (1, 3), mf = 5000, b = True, n = l1, ui = True, p = l2, c = 0.07\n",
      "prec_trn 0.62, prec_tst 0.59     sw = None, ng = (1, 3), mf = 5000, b = True, n = l1, ui = True, p = l2, c = 0.1\n",
      "prec_trn 0.77, prec_tst 0.69     sw = None, ng = (1, 3), mf = 5000, b = True, n = l1, ui = True, p = l2, c = 0.2\n",
      "prec_trn 0.9, prec_tst 0.79     sw = None, ng = (1, 3), mf = 5000, b = True, n = l1, ui = True, p = l2, c = 0.9\n",
      "prec_trn 0.49, prec_tst 0.5     sw = None, ng = (1, 3), mf = 5000, b = True, n = l1, ui = False, p = l1, c = 0.01\n",
      "prec_trn 0.49, prec_tst 0.5     sw = None, ng = (1, 3), mf = 5000, b = True, n = l1, ui = False, p = l1, c = 0.07\n",
      "prec_trn 0.51, prec_tst 0.5     sw = None, ng = (1, 3), mf = 5000, b = True, n = l1, ui = False, p = l1, c = 0.1\n",
      "prec_trn 0.55, prec_tst 0.57     sw = None, ng = (1, 3), mf = 5000, b = True, n = l1, ui = False, p = l1, c = 0.2\n",
      "prec_trn 0.67, prec_tst 0.69     sw = None, ng = (1, 3), mf = 5000, b = True, n = l1, ui = False, p = l1, c = 0.9\n",
      "prec_trn 0.51, prec_tst 0.5     sw = None, ng = (1, 3), mf = 5000, b = True, n = l1, ui = False, p = l2, c = 0.01\n",
      "prec_trn 0.62, prec_tst 0.59     sw = None, ng = (1, 3), mf = 5000, b = True, n = l1, ui = False, p = l2, c = 0.07\n",
      "prec_trn 0.69, prec_tst 0.65     sw = None, ng = (1, 3), mf = 5000, b = True, n = l1, ui = False, p = l2, c = 0.1\n",
      "prec_trn 0.76, prec_tst 0.7     sw = None, ng = (1, 3), mf = 5000, b = True, n = l1, ui = False, p = l2, c = 0.2\n",
      "prec_trn 0.81, prec_tst 0.74     sw = None, ng = (1, 3), mf = 5000, b = True, n = l1, ui = False, p = l2, c = 0.9\n",
      "prec_trn 0.49, prec_tst 0.5     sw = None, ng = (1, 3), mf = 5000, b = False, n = l2, ui = True, p = l1, c = 0.01\n",
      "prec_trn 0.49, prec_tst 0.5     sw = None, ng = (1, 3), mf = 5000, b = False, n = l2, ui = True, p = l1, c = 0.07\n",
      "prec_trn 0.55, prec_tst 0.57     sw = None, ng = (1, 3), mf = 5000, b = False, n = l2, ui = True, p = l1, c = 0.1\n",
      "prec_trn 0.64, prec_tst 0.66     sw = None, ng = (1, 3), mf = 5000, b = False, n = l2, ui = True, p = l1, c = 0.2\n",
      "prec_trn 0.77, prec_tst 0.77 *** sw = None, ng = (1, 3), mf = 5000, b = False, n = l2, ui = True, p = l1, c = 0.9\n",
      "prec_trn 0.62, prec_tst 0.57     sw = None, ng = (1, 3), mf = 5000, b = False, n = l2, ui = True, p = l2, c = 0.01\n",
      "prec_trn 0.88, prec_tst 0.78     sw = None, ng = (1, 3), mf = 5000, b = False, n = l2, ui = True, p = l2, c = 0.07\n",
      "prec_trn 0.89, prec_tst 0.79     sw = None, ng = (1, 3), mf = 5000, b = False, n = l2, ui = True, p = l2, c = 0.1\n",
      "prec_trn 0.91, prec_tst 0.8     sw = None, ng = (1, 3), mf = 5000, b = False, n = l2, ui = True, p = l2, c = 0.2\n",
      "prec_trn 0.96, prec_tst 0.82     sw = None, ng = (1, 3), mf = 5000, b = False, n = l2, ui = True, p = l2, c = 0.9\n",
      "prec_trn 0.49, prec_tst 0.5     sw = None, ng = (1, 3), mf = 5000, b = False, n = l2, ui = False, p = l1, c = 0.01\n",
      "prec_trn 0.61, prec_tst 0.62     sw = None, ng = (1, 3), mf = 5000, b = False, n = l2, ui = False, p = l1, c = 0.07\n",
      "prec_trn 0.63, prec_tst 0.65     sw = None, ng = (1, 3), mf = 5000, b = False, n = l2, ui = False, p = l1, c = 0.1\n",
      "prec_trn 0.64, prec_tst 0.66     sw = None, ng = (1, 3), mf = 5000, b = False, n = l2, ui = False, p = l1, c = 0.2\n",
      "prec_trn 0.76, prec_tst 0.75 *** sw = None, ng = (1, 3), mf = 5000, b = False, n = l2, ui = False, p = l1, c = 0.9\n",
      "prec_trn 0.71, prec_tst 0.66     sw = None, ng = (1, 3), mf = 5000, b = False, n = l2, ui = False, p = l2, c = 0.01\n",
      "prec_trn 0.77, prec_tst 0.71     sw = None, ng = (1, 3), mf = 5000, b = False, n = l2, ui = False, p = l2, c = 0.07\n",
      "prec_trn 0.78, prec_tst 0.73 *** sw = None, ng = (1, 3), mf = 5000, b = False, n = l2, ui = False, p = l2, c = 0.1\n",
      "prec_trn 0.82, prec_tst 0.76     sw = None, ng = (1, 3), mf = 5000, b = False, n = l2, ui = False, p = l2, c = 0.2\n",
      "prec_trn 0.9, prec_tst 0.8     sw = None, ng = (1, 3), mf = 5000, b = False, n = l2, ui = False, p = l2, c = 0.9\n",
      "prec_trn 0.49, prec_tst 0.5     sw = None, ng = (1, 3), mf = 5000, b = False, n = l1, ui = True, p = l1, c = 0.01\n",
      "prec_trn 0.49, prec_tst 0.5     sw = None, ng = (1, 3), mf = 5000, b = False, n = l1, ui = True, p = l1, c = 0.07\n",
      "prec_trn 0.51, prec_tst 0.5     sw = None, ng = (1, 3), mf = 5000, b = False, n = l1, ui = True, p = l1, c = 0.1\n",
      "prec_trn 0.51, prec_tst 0.5     sw = None, ng = (1, 3), mf = 5000, b = False, n = l1, ui = True, p = l1, c = 0.2\n",
      "prec_trn 0.67, prec_tst 0.69     sw = None, ng = (1, 3), mf = 5000, b = False, n = l1, ui = True, p = l1, c = 0.9\n",
      "prec_trn 0.51, prec_tst 0.5     sw = None, ng = (1, 3), mf = 5000, b = False, n = l1, ui = True, p = l2, c = 0.01\n",
      "prec_trn 0.57, prec_tst 0.56     sw = None, ng = (1, 3), mf = 5000, b = False, n = l1, ui = True, p = l2, c = 0.07\n",
      "prec_trn 0.62, prec_tst 0.59     sw = None, ng = (1, 3), mf = 5000, b = False, n = l1, ui = True, p = l2, c = 0.1\n",
      "prec_trn 0.77, prec_tst 0.7     sw = None, ng = (1, 3), mf = 5000, b = False, n = l1, ui = True, p = l2, c = 0.2\n",
      "prec_trn 0.89, prec_tst 0.79     sw = None, ng = (1, 3), mf = 5000, b = False, n = l1, ui = True, p = l2, c = 0.9\n",
      "prec_trn 0.49, prec_tst 0.5     sw = None, ng = (1, 3), mf = 5000, b = False, n = l1, ui = False, p = l1, c = 0.01\n",
      "prec_trn 0.49, prec_tst 0.5     sw = None, ng = (1, 3), mf = 5000, b = False, n = l1, ui = False, p = l1, c = 0.07\n",
      "prec_trn 0.51, prec_tst 0.5     sw = None, ng = (1, 3), mf = 5000, b = False, n = l1, ui = False, p = l1, c = 0.1\n",
      "prec_trn 0.55, prec_tst 0.57     sw = None, ng = (1, 3), mf = 5000, b = False, n = l1, ui = False, p = l1, c = 0.2\n",
      "prec_trn 0.67, prec_tst 0.69     sw = None, ng = (1, 3), mf = 5000, b = False, n = l1, ui = False, p = l1, c = 0.9\n",
      "prec_trn 0.51, prec_tst 0.5     sw = None, ng = (1, 3), mf = 5000, b = False, n = l1, ui = False, p = l2, c = 0.01\n",
      "prec_trn 0.63, prec_tst 0.61     sw = None, ng = (1, 3), mf = 5000, b = False, n = l1, ui = False, p = l2, c = 0.07\n",
      "prec_trn 0.7, prec_tst 0.65     sw = None, ng = (1, 3), mf = 5000, b = False, n = l1, ui = False, p = l2, c = 0.1\n",
      "prec_trn 0.76, prec_tst 0.71     sw = None, ng = (1, 3), mf = 5000, b = False, n = l1, ui = False, p = l2, c = 0.2\n",
      "prec_trn 0.79, prec_tst 0.74 *** sw = None, ng = (1, 3), mf = 5000, b = False, n = l1, ui = False, p = l2, c = 0.9\n",
      "prec_trn 0.49, prec_tst 0.5     sw = None, ng = (1, 3), mf = 60000, b = True, n = l2, ui = True, p = l1, c = 0.01\n",
      "prec_trn 0.49, prec_tst 0.5     sw = None, ng = (1, 3), mf = 60000, b = True, n = l2, ui = True, p = l1, c = 0.07\n",
      "prec_trn 0.51, prec_tst 0.5     sw = None, ng = (1, 3), mf = 60000, b = True, n = l2, ui = True, p = l1, c = 0.1\n",
      "prec_trn 0.57, prec_tst 0.56     sw = None, ng = (1, 3), mf = 60000, b = True, n = l2, ui = True, p = l1, c = 0.2\n",
      "prec_trn 0.74, prec_tst 0.73 *** sw = None, ng = (1, 3), mf = 60000, b = True, n = l2, ui = True, p = l1, c = 0.9\n",
      "prec_trn 0.52, prec_tst 0.51     sw = None, ng = (1, 3), mf = 60000, b = True, n = l2, ui = True, p = l2, c = 0.01\n",
      "prec_trn 0.94, prec_tst 0.75     sw = None, ng = (1, 3), mf = 60000, b = True, n = l2, ui = True, p = l2, c = 0.07\n",
      "prec_trn 0.96, prec_tst 0.78     sw = None, ng = (1, 3), mf = 60000, b = True, n = l2, ui = True, p = l2, c = 0.1\n",
      "prec_trn 0.98, prec_tst 0.79     sw = None, ng = (1, 3), mf = 60000, b = True, n = l2, ui = True, p = l2, c = 0.2\n",
      "prec_trn 0.99, prec_tst 0.82     sw = None, ng = (1, 3), mf = 60000, b = True, n = l2, ui = True, p = l2, c = 0.9\n",
      "prec_trn 0.49, prec_tst 0.5     sw = None, ng = (1, 3), mf = 60000, b = True, n = l2, ui = False, p = l1, c = 0.01\n",
      "prec_trn 0.55, prec_tst 0.57     sw = None, ng = (1, 3), mf = 60000, b = True, n = l2, ui = False, p = l1, c = 0.07\n",
      "prec_trn 0.57, prec_tst 0.56     sw = None, ng = (1, 3), mf = 60000, b = True, n = l2, ui = False, p = l1, c = 0.1\n",
      "prec_trn 0.63, prec_tst 0.65     sw = None, ng = (1, 3), mf = 60000, b = True, n = l2, ui = False, p = l1, c = 0.2\n",
      "prec_trn 0.75, prec_tst 0.72 *** sw = None, ng = (1, 3), mf = 60000, b = True, n = l2, ui = False, p = l1, c = 0.9\n",
      "prec_trn 0.62, prec_tst 0.59     sw = None, ng = (1, 3), mf = 60000, b = True, n = l2, ui = False, p = l2, c = 0.01\n",
      "prec_trn 0.83, prec_tst 0.72     sw = None, ng = (1, 3), mf = 60000, b = True, n = l2, ui = False, p = l2, c = 0.07\n",
      "prec_trn 0.84, prec_tst 0.73     sw = None, ng = (1, 3), mf = 60000, b = True, n = l2, ui = False, p = l2, c = 0.1\n",
      "prec_trn 0.87, prec_tst 0.74     sw = None, ng = (1, 3), mf = 60000, b = True, n = l2, ui = False, p = l2, c = 0.2\n",
      "prec_trn 0.95, prec_tst 0.78     sw = None, ng = (1, 3), mf = 60000, b = True, n = l2, ui = False, p = l2, c = 0.9\n",
      "prec_trn 0.49, prec_tst 0.5     sw = None, ng = (1, 3), mf = 60000, b = True, n = l1, ui = True, p = l1, c = 0.01\n",
      "prec_trn 0.49, prec_tst 0.5     sw = None, ng = (1, 3), mf = 60000, b = True, n = l1, ui = True, p = l1, c = 0.07\n",
      "prec_trn 0.51, prec_tst 0.5     sw = None, ng = (1, 3), mf = 60000, b = True, n = l1, ui = True, p = l1, c = 0.1\n",
      "prec_trn 0.51, prec_tst 0.5     sw = None, ng = (1, 3), mf = 60000, b = True, n = l1, ui = True, p = l1, c = 0.2\n",
      "prec_trn 0.58, prec_tst 0.58     sw = None, ng = (1, 3), mf = 60000, b = True, n = l1, ui = True, p = l1, c = 0.9\n",
      "prec_trn 0.51, prec_tst 0.5     sw = None, ng = (1, 3), mf = 60000, b = True, n = l1, ui = True, p = l2, c = 0.01\n",
      "prec_trn 0.52, prec_tst 0.51     sw = None, ng = (1, 3), mf = 60000, b = True, n = l1, ui = True, p = l2, c = 0.07\n",
      "prec_trn 0.53, prec_tst 0.52     sw = None, ng = (1, 3), mf = 60000, b = True, n = l1, ui = True, p = l2, c = 0.1\n",
      "prec_trn 0.57, prec_tst 0.57     sw = None, ng = (1, 3), mf = 60000, b = True, n = l1, ui = True, p = l2, c = 0.2\n",
      "prec_trn 0.87, prec_tst 0.75     sw = None, ng = (1, 3), mf = 60000, b = True, n = l1, ui = True, p = l2, c = 0.9\n",
      "prec_trn 0.49, prec_tst 0.5     sw = None, ng = (1, 3), mf = 60000, b = True, n = l1, ui = False, p = l1, c = 0.01\n",
      "prec_trn 0.49, prec_tst 0.5     sw = None, ng = (1, 3), mf = 60000, b = True, n = l1, ui = False, p = l1, c = 0.07\n",
      "prec_trn 0.51, prec_tst 0.5     sw = None, ng = (1, 3), mf = 60000, b = True, n = l1, ui = False, p = l1, c = 0.1\n",
      "prec_trn 0.51, prec_tst 0.5     sw = None, ng = (1, 3), mf = 60000, b = True, n = l1, ui = False, p = l1, c = 0.2\n",
      "prec_trn 0.65, prec_tst 0.66     sw = None, ng = (1, 3), mf = 60000, b = True, n = l1, ui = False, p = l1, c = 0.9\n",
      "prec_trn 0.51, prec_tst 0.5     sw = None, ng = (1, 3), mf = 60000, b = True, n = l1, ui = False, p = l2, c = 0.01\n",
      "prec_trn 0.53, prec_tst 0.53     sw = None, ng = (1, 3), mf = 60000, b = True, n = l1, ui = False, p = l2, c = 0.07\n",
      "prec_trn 0.55, prec_tst 0.55     sw = None, ng = (1, 3), mf = 60000, b = True, n = l1, ui = False, p = l2, c = 0.1\n",
      "prec_trn 0.63, prec_tst 0.62     sw = None, ng = (1, 3), mf = 60000, b = True, n = l1, ui = False, p = l2, c = 0.2\n",
      "prec_trn 0.82, prec_tst 0.71     sw = None, ng = (1, 3), mf = 60000, b = True, n = l1, ui = False, p = l2, c = 0.9\n",
      "prec_trn 0.49, prec_tst 0.5     sw = None, ng = (1, 3), mf = 60000, b = False, n = l2, ui = True, p = l1, c = 0.01\n",
      "prec_trn 0.49, prec_tst 0.5     sw = None, ng = (1, 3), mf = 60000, b = False, n = l2, ui = True, p = l1, c = 0.07\n",
      "prec_trn 0.51, prec_tst 0.5     sw = None, ng = (1, 3), mf = 60000, b = False, n = l2, ui = True, p = l1, c = 0.1\n",
      "prec_trn 0.57, prec_tst 0.56     sw = None, ng = (1, 3), mf = 60000, b = False, n = l2, ui = True, p = l1, c = 0.2\n",
      "prec_trn 0.74, prec_tst 0.73 *** sw = None, ng = (1, 3), mf = 60000, b = False, n = l2, ui = True, p = l1, c = 0.9\n",
      "prec_trn 0.52, prec_tst 0.51     sw = None, ng = (1, 3), mf = 60000, b = False, n = l2, ui = True, p = l2, c = 0.01\n",
      "prec_trn 0.93, prec_tst 0.76     sw = None, ng = (1, 3), mf = 60000, b = False, n = l2, ui = True, p = l2, c = 0.07\n",
      "prec_trn 0.96, prec_tst 0.77     sw = None, ng = (1, 3), mf = 60000, b = False, n = l2, ui = True, p = l2, c = 0.1\n",
      "prec_trn 0.97, prec_tst 0.8     sw = None, ng = (1, 3), mf = 60000, b = False, n = l2, ui = True, p = l2, c = 0.2\n",
      "prec_trn 0.99, prec_tst 0.82     sw = None, ng = (1, 3), mf = 60000, b = False, n = l2, ui = True, p = l2, c = 0.9\n",
      "prec_trn 0.49, prec_tst 0.5     sw = None, ng = (1, 3), mf = 60000, b = False, n = l2, ui = False, p = l1, c = 0.01\n",
      "prec_trn 0.55, prec_tst 0.57     sw = None, ng = (1, 3), mf = 60000, b = False, n = l2, ui = False, p = l1, c = 0.07\n",
      "prec_trn 0.61, prec_tst 0.62     sw = None, ng = (1, 3), mf = 60000, b = False, n = l2, ui = False, p = l1, c = 0.1\n",
      "prec_trn 0.63, prec_tst 0.65     sw = None, ng = (1, 3), mf = 60000, b = False, n = l2, ui = False, p = l1, c = 0.2\n",
      "prec_trn 0.73, prec_tst 0.72 *** sw = None, ng = (1, 3), mf = 60000, b = False, n = l2, ui = False, p = l1, c = 0.9\n",
      "prec_trn 0.63, prec_tst 0.59     sw = None, ng = (1, 3), mf = 60000, b = False, n = l2, ui = False, p = l2, c = 0.01\n",
      "prec_trn 0.81, prec_tst 0.72     sw = None, ng = (1, 3), mf = 60000, b = False, n = l2, ui = False, p = l2, c = 0.07\n",
      "prec_trn 0.82, prec_tst 0.73     sw = None, ng = (1, 3), mf = 60000, b = False, n = l2, ui = False, p = l2, c = 0.1\n",
      "prec_trn 0.85, prec_tst 0.73     sw = None, ng = (1, 3), mf = 60000, b = False, n = l2, ui = False, p = l2, c = 0.2\n",
      "prec_trn 0.95, prec_tst 0.78     sw = None, ng = (1, 3), mf = 60000, b = False, n = l2, ui = False, p = l2, c = 0.9\n",
      "prec_trn 0.49, prec_tst 0.5     sw = None, ng = (1, 3), mf = 60000, b = False, n = l1, ui = True, p = l1, c = 0.01\n",
      "prec_trn 0.49, prec_tst 0.5     sw = None, ng = (1, 3), mf = 60000, b = False, n = l1, ui = True, p = l1, c = 0.07\n",
      "prec_trn 0.51, prec_tst 0.5     sw = None, ng = (1, 3), mf = 60000, b = False, n = l1, ui = True, p = l1, c = 0.1\n",
      "prec_trn 0.51, prec_tst 0.5     sw = None, ng = (1, 3), mf = 60000, b = False, n = l1, ui = True, p = l1, c = 0.2\n",
      "prec_trn 0.6, prec_tst 0.6     sw = None, ng = (1, 3), mf = 60000, b = False, n = l1, ui = True, p = l1, c = 0.9\n",
      "prec_trn 0.51, prec_tst 0.5     sw = None, ng = (1, 3), mf = 60000, b = False, n = l1, ui = True, p = l2, c = 0.01\n",
      "prec_trn 0.52, prec_tst 0.51     sw = None, ng = (1, 3), mf = 60000, b = False, n = l1, ui = True, p = l2, c = 0.07\n",
      "prec_trn 0.53, prec_tst 0.52     sw = None, ng = (1, 3), mf = 60000, b = False, n = l1, ui = True, p = l2, c = 0.1\n",
      "prec_trn 0.57, prec_tst 0.57     sw = None, ng = (1, 3), mf = 60000, b = False, n = l1, ui = True, p = l2, c = 0.2\n",
      "prec_trn 0.87, prec_tst 0.75     sw = None, ng = (1, 3), mf = 60000, b = False, n = l1, ui = True, p = l2, c = 0.9\n",
      "prec_trn 0.49, prec_tst 0.5     sw = None, ng = (1, 3), mf = 60000, b = False, n = l1, ui = False, p = l1, c = 0.01\n",
      "prec_trn 0.49, prec_tst 0.5     sw = None, ng = (1, 3), mf = 60000, b = False, n = l1, ui = False, p = l1, c = 0.07\n",
      "prec_trn 0.51, prec_tst 0.5     sw = None, ng = (1, 3), mf = 60000, b = False, n = l1, ui = False, p = l1, c = 0.1\n",
      "prec_trn 0.51, prec_tst 0.5     sw = None, ng = (1, 3), mf = 60000, b = False, n = l1, ui = False, p = l1, c = 0.2\n",
      "prec_trn 0.65, prec_tst 0.67     sw = None, ng = (1, 3), mf = 60000, b = False, n = l1, ui = False, p = l1, c = 0.9\n",
      "prec_trn 0.51, prec_tst 0.5     sw = None, ng = (1, 3), mf = 60000, b = False, n = l1, ui = False, p = l2, c = 0.01\n",
      "prec_trn 0.53, prec_tst 0.53     sw = None, ng = (1, 3), mf = 60000, b = False, n = l1, ui = False, p = l2, c = 0.07\n",
      "prec_trn 0.56, prec_tst 0.56     sw = None, ng = (1, 3), mf = 60000, b = False, n = l1, ui = False, p = l2, c = 0.1\n",
      "prec_trn 0.64, prec_tst 0.63     sw = None, ng = (1, 3), mf = 60000, b = False, n = l1, ui = False, p = l2, c = 0.2\n",
      "prec_trn 0.81, prec_tst 0.72     sw = None, ng = (1, 3), mf = 60000, b = False, n = l1, ui = False, p = l2, c = 0.9\n"
     ]
    }
   ],
   "source": [
    "grid_search(stop_words_list=['english', None], ngram_ranges_list=[(1,2), (1,3)], max_features_list=[2000, 5000, 60000], binary_list=[True, False],\n",
    "            norm_list=['l2', 'l1'], use_idf_list=[True, False],\n",
    "            penalty_list=['l1', 'l2'], C_list=[.01, 0.07, 0.1, 0.2, 0.9])"
   ]
  },
  {
   "cell_type": "markdown",
   "metadata": {},
   "source": [
    "One possible good model: `prec_trn 0.79, prec_tst 0.78 *** sw = None, ng = (1, 2), mf = 2000, b = False, n = l2, ui = True, p = l1, c = 0.9`"
   ]
  },
  {
   "cell_type": "code",
   "execution_count": null,
   "metadata": {
    "collapsed": true
   },
   "outputs": [],
   "source": []
  },
  {
   "cell_type": "code",
   "execution_count": null,
   "metadata": {
    "collapsed": true
   },
   "outputs": [],
   "source": []
  },
  {
   "cell_type": "code",
   "execution_count": null,
   "metadata": {
    "collapsed": true
   },
   "outputs": [],
   "source": []
  },
  {
   "cell_type": "code",
   "execution_count": null,
   "metadata": {
    "collapsed": true
   },
   "outputs": [],
   "source": []
  }
 ],
 "metadata": {
  "kernelspec": {
   "display_name": "Python 3",
   "language": "python",
   "name": "python3"
  }
 },
 "nbformat": 4,
 "nbformat_minor": 2
}
