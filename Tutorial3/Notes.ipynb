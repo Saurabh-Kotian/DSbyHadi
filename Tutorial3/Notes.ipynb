{
 "cells": [
  {
   "cell_type": "markdown",
   "metadata": {},
   "source": [
    "# NLP: Natural Language Processing"
   ]
  },
  {
   "cell_type": "markdown",
   "metadata": {},
   "source": [
    "Deals with `unstructured` data(e.g. text) vs. `structured` data (e.g. tabular data)"
   ]
  },
  {
   "cell_type": "markdown",
   "metadata": {},
   "source": [
    "It's *natural* language --> there are a variety of problems in this area.\n",
    "\n",
    "* Named Entity Recognition\n",
    "* Part Of Speech (POS) tagging\n",
    "* Machine Translation\n",
    "* Text Summarization \n",
    "* Sentiment Analysis\n",
    "* ...\n",
    "\n",
    "(of course `you don't need to be a lingustic expert!`)"
   ]
  },
  {
   "cell_type": "markdown",
   "metadata": {},
   "source": [
    "## Sentiment Analysis"
   ]
  },
  {
   "cell_type": "markdown",
   "metadata": {},
   "source": [
    "It's an example of Text Classification Problem and by this we are going to cover:\n",
    "\n",
    "* Binary Classificaiton (The document is + or -)\n",
    "* Multi-Class Classification (The document is + or neutral or -) or ( The document is ++ or + or . or - or --)\n",
    "* Multi-label Classification (The document has profanity or hate speech or insult, i.e. each document could have multiple labels at the same time)"
   ]
  },
  {
   "cell_type": "markdown",
   "metadata": {},
   "source": [
    "## Approaches\n",
    "* Bag of Words (BOW)\n",
    "* Embedding"
   ]
  },
  {
   "cell_type": "markdown",
   "metadata": {},
   "source": [
    "** Packages/Tools **\n",
    "* sklearn \n",
    "* spaCy\n",
    "* NLTK\n",
    "* StanfordNLP\n",
    "* spark NLP (John Snow Labs)\n",
    "* FastText\n",
    "* .."
   ]
  },
  {
   "cell_type": "markdown",
   "metadata": {},
   "source": [
    "****"
   ]
  },
  {
   "cell_type": "markdown",
   "metadata": {},
   "source": [
    "#### BOW"
   ]
  },
  {
   "cell_type": "markdown",
   "metadata": {},
   "source": [
    "#### Embedding"
   ]
  },
  {
   "cell_type": "markdown",
   "metadata": {},
   "source": [
    "#### Challenges:\n",
    "\n",
    "- Good enough (realistic) vs. Best (Kaggle)\n",
    "- Skewed training data\n",
    "- Normalizing text depending on the source\n",
    " * Twitter's text data --> abbreviations/hashtags/etc.    \n",
    " * SMS Text --> smileys/Capital case matters.\n",
    "- Encountering other languages --> remove them/translate them\n",
    "- Converging to a good set of metrics\n",
    " * eyeball some examples of the test set at the end\n"
   ]
  },
  {
   "cell_type": "markdown",
   "metadata": {},
   "source": [
    "##### Remember: \n",
    "All models are wrong, some are useful!"
   ]
  },
  {
   "cell_type": "code",
   "execution_count": null,
   "metadata": {
    "collapsed": true
   },
   "outputs": [],
   "source": []
  }
 ],
 "metadata": {
  "kernelspec": {
   "display_name": "Python 3",
   "language": "python",
   "name": "python3"
  },
  "language_info": {
   "codemirror_mode": {
    "name": "ipython",
    "version": 3
   },
   "file_extension": ".py",
   "mimetype": "text/x-python",
   "name": "python",
   "nbconvert_exporter": "python",
   "pygments_lexer": "ipython3",
   "version": "3.5.0"
  }
 },
 "nbformat": 4,
 "nbformat_minor": 2
}
