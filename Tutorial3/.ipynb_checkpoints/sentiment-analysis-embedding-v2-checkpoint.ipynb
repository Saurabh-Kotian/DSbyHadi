{
 "cells": [
  {
   "cell_type": "code",
   "execution_count": 1,
   "metadata": {
    "collapsed": false
   },
   "outputs": [],
   "source": [
    "import fastText #\n",
    "import pandas as pd\n",
    "import os\n",
    "from fastText import train_supervised\n",
    "import numpy as np"
   ]
  },
  {
   "cell_type": "code",
   "execution_count": 2,
   "metadata": {
    "collapsed": true
   },
   "outputs": [],
   "source": [
    "# To show the output of all lines in a cell rather that just the last line\n",
    "from IPython.core.interactiveshell import InteractiveShell\n",
    "InteractiveShell.ast_node_interactivity = \"all\""
   ]
  },
  {
   "cell_type": "markdown",
   "metadata": {},
   "source": [
    "`The architecture of fasttext supervised learning is like word2vec CBOW where the target word is replaced with the label.`"
   ]
  },
  {
   "cell_type": "code",
   "execution_count": 3,
   "metadata": {
    "collapsed": true
   },
   "outputs": [],
   "source": [
    "def print_results(N, p, r):\n",
    "    print(\"N\\t\" + str(N))\n",
    "    print(\"P@{}\\t{:.3f}\".format(1, p))\n",
    "    print(\"R@{}\\t{:.3f}\".format(1, r))"
   ]
  },
  {
   "cell_type": "code",
   "execution_count": 4,
   "metadata": {
    "collapsed": true
   },
   "outputs": [],
   "source": [
    "DATA_DIR = \"~/Downloads/ft_amazon/\""
   ]
  },
  {
   "cell_type": "markdown",
   "metadata": {},
   "source": [
    "Source: https://www.kaggle.com/bittlingmayer/amazonreviews#train.ft.txt.bz2"
   ]
  },
  {
   "cell_type": "code",
   "execution_count": 16,
   "metadata": {
    "collapsed": false
   },
   "outputs": [
    {
     "data": {
      "text/plain": [
       "(3600000, 1)"
      ]
     },
     "execution_count": 16,
     "metadata": {},
     "output_type": "execute_result"
    }
   ],
   "source": [
    "train_data = pd.read_table(DATA_DIR+\"train.ft.txt\", header=None, names=['sentence'])\n",
    "train_data.shape"
   ]
  },
  {
   "cell_type": "code",
   "execution_count": 6,
   "metadata": {
    "collapsed": false
   },
   "outputs": [
    {
     "data": {
      "text/html": [
       "<div>\n",
       "<table border=\"1\" class=\"dataframe\">\n",
       "  <thead>\n",
       "    <tr style=\"text-align: right;\">\n",
       "      <th></th>\n",
       "      <th>sentence</th>\n",
       "    </tr>\n",
       "  </thead>\n",
       "  <tbody>\n",
       "    <tr>\n",
       "      <th>0</th>\n",
       "      <td>__label__2 Stuning even for the non-gamer: Thi...</td>\n",
       "    </tr>\n",
       "    <tr>\n",
       "      <th>1</th>\n",
       "      <td>__label__2 The best soundtrack ever to anythin...</td>\n",
       "    </tr>\n",
       "    <tr>\n",
       "      <th>2</th>\n",
       "      <td>__label__2 Amazing!: This soundtrack is my fav...</td>\n",
       "    </tr>\n",
       "    <tr>\n",
       "      <th>3</th>\n",
       "      <td>__label__2 Excellent Soundtrack: I truly like ...</td>\n",
       "    </tr>\n",
       "    <tr>\n",
       "      <th>4</th>\n",
       "      <td>__label__2 Remember, Pull Your Jaw Off The Flo...</td>\n",
       "    </tr>\n",
       "    <tr>\n",
       "      <th>5</th>\n",
       "      <td>__label__2 an absolute masterpiece: I am quite...</td>\n",
       "    </tr>\n",
       "    <tr>\n",
       "      <th>6</th>\n",
       "      <td>__label__1 Buyer beware: This is a self-publis...</td>\n",
       "    </tr>\n",
       "    <tr>\n",
       "      <th>7</th>\n",
       "      <td>__label__2 Glorious story: I loved Whisper of ...</td>\n",
       "    </tr>\n",
       "    <tr>\n",
       "      <th>8</th>\n",
       "      <td>__label__2 A FIVE STAR BOOK: I just finished r...</td>\n",
       "    </tr>\n",
       "    <tr>\n",
       "      <th>9</th>\n",
       "      <td>__label__2 Whispers of the Wicked Saints: This...</td>\n",
       "    </tr>\n",
       "  </tbody>\n",
       "</table>\n",
       "</div>"
      ],
      "text/plain": [
       "                                            sentence\n",
       "0  __label__2 Stuning even for the non-gamer: Thi...\n",
       "1  __label__2 The best soundtrack ever to anythin...\n",
       "2  __label__2 Amazing!: This soundtrack is my fav...\n",
       "3  __label__2 Excellent Soundtrack: I truly like ...\n",
       "4  __label__2 Remember, Pull Your Jaw Off The Flo...\n",
       "5  __label__2 an absolute masterpiece: I am quite...\n",
       "6  __label__1 Buyer beware: This is a self-publis...\n",
       "7  __label__2 Glorious story: I loved Whisper of ...\n",
       "8  __label__2 A FIVE STAR BOOK: I just finished r...\n",
       "9  __label__2 Whispers of the Wicked Saints: This..."
      ]
     },
     "execution_count": 6,
     "metadata": {},
     "output_type": "execute_result"
    }
   ],
   "source": [
    "train_data.head(10)"
   ]
  },
  {
   "cell_type": "markdown",
   "metadata": {},
   "source": [
    "`__label__1` is negative sentiment and `__label__2` is positive sentiment"
   ]
  },
  {
   "cell_type": "code",
   "execution_count": 15,
   "metadata": {
    "collapsed": false
   },
   "outputs": [
    {
     "data": {
      "text/plain": [
       "(400000, 1)"
      ]
     },
     "execution_count": 15,
     "metadata": {},
     "output_type": "execute_result"
    }
   ],
   "source": [
    "test_data = pd.read_table(DATA_DIR+\"test.ft.txt\", header=None, names=['sentence'])\n",
    "test_data.shape"
   ]
  },
  {
   "cell_type": "markdown",
   "metadata": {},
   "source": [
    "train_data is too large for our case. So I'm going to use test_data only."
   ]
  },
  {
   "cell_type": "code",
   "execution_count": 17,
   "metadata": {
    "collapsed": false
   },
   "outputs": [],
   "source": [
    "import re\n",
    "\n",
    "def normalize(row):\n",
    "    lower = row['sentence'].lower()\n",
    "    #correct all multiple white spaces to a single white space\n",
    "    no_mult_ws = re.sub('[\\s]+', ' ', lower)\n",
    "    text = no_mult_ws.strip()\n",
    "    return text"
   ]
  },
  {
   "cell_type": "code",
   "execution_count": 18,
   "metadata": {
    "collapsed": false
   },
   "outputs": [],
   "source": [
    "test_data['normalized_sentence'] = test_data.apply(normalize, axis=1)"
   ]
  },
  {
   "cell_type": "code",
   "execution_count": 19,
   "metadata": {
    "collapsed": false
   },
   "outputs": [
    {
     "data": {
      "text/plain": [
       "<matplotlib.axes._subplots.AxesSubplot at 0x1a209a1d0>"
      ]
     },
     "execution_count": 19,
     "metadata": {},
     "output_type": "execute_result"
    },
    {
     "data": {
      "image/png": "[encoded data removed]",
      "text/plain": [
       "<matplotlib.figure.Figure at 0x10e995908>"
      ]
     },
     "metadata": {},
     "output_type": "display_data"
    }
   ],
   "source": [
    "test_data['label'] = test_data['normalized_sentence'].apply(lambda row: row[0:10])\n",
    "test_data['just_sentence'] = test_data['normalized_sentence'].apply(lambda row: row[10:])\n",
    "test_data.drop(['sentence', 'normalized_sentence'], axis=1, inplace=True)\n",
    "%matplotlib inline\n",
    "test_data['label'].value_counts().plot(kind='bar')"
   ]
  },
  {
   "cell_type": "code",
   "execution_count": 20,
   "metadata": {
    "collapsed": false
   },
   "outputs": [
    {
     "data": {
      "text/html": [
       "<div>\n",
       "<table border=\"1\" class=\"dataframe\">\n",
       "  <thead>\n",
       "    <tr style=\"text-align: right;\">\n",
       "      <th></th>\n",
       "      <th>label</th>\n",
       "      <th>just_sentence</th>\n",
       "    </tr>\n",
       "  </thead>\n",
       "  <tbody>\n",
       "    <tr>\n",
       "      <th>0</th>\n",
       "      <td>__label__2</td>\n",
       "      <td>great cd: my lovely pat has one of the great ...</td>\n",
       "    </tr>\n",
       "    <tr>\n",
       "      <th>1</th>\n",
       "      <td>__label__2</td>\n",
       "      <td>one of the best game music soundtracks - for ...</td>\n",
       "    </tr>\n",
       "    <tr>\n",
       "      <th>2</th>\n",
       "      <td>__label__1</td>\n",
       "      <td>batteries died within a year ...: i bought th...</td>\n",
       "    </tr>\n",
       "  </tbody>\n",
       "</table>\n",
       "</div>"
      ],
      "text/plain": [
       "        label                                      just_sentence\n",
       "0  __label__2   great cd: my lovely pat has one of the great ...\n",
       "1  __label__2   one of the best game music soundtracks - for ...\n",
       "2  __label__1   batteries died within a year ...: i bought th..."
      ]
     },
     "execution_count": 20,
     "metadata": {},
     "output_type": "execute_result"
    }
   ],
   "source": [
    "test_data.head(3)"
   ]
  },
  {
   "cell_type": "code",
   "execution_count": 21,
   "metadata": {
    "collapsed": false
   },
   "outputs": [],
   "source": [
    "from sklearn.model_selection import train_test_split\n",
    "\n",
    "dummy_train_data, dummy_test_data = train_test_split(test_data, test_size=0.35, random_state=4)"
   ]
  },
  {
   "cell_type": "code",
   "execution_count": 22,
   "metadata": {
    "collapsed": false
   },
   "outputs": [
    {
     "data": {
      "text/plain": [
       "(260000, 2)"
      ]
     },
     "execution_count": 22,
     "metadata": {},
     "output_type": "execute_result"
    },
    {
     "data": {
      "text/plain": [
       "(140000, 2)"
      ]
     },
     "execution_count": 22,
     "metadata": {},
     "output_type": "execute_result"
    }
   ],
   "source": [
    "dummy_train_data.shape\n",
    "dummy_test_data.shape"
   ]
  },
  {
   "cell_type": "code",
   "execution_count": 34,
   "metadata": {
    "collapsed": true
   },
   "outputs": [],
   "source": [
    "dummy_train_data.to_csv(path_or_buf=os.path.join(DATA_DIR, 'dummy_ft_amazon.train'), header=False, index=False, sep='\\t')\n",
    "dummy_test_data.to_csv(path_or_buf=os.path.join(DATA_DIR, 'dummy_ft_amazon.test'), header=False, index=False, sep='\\t')"
   ]
  },
  {
   "cell_type": "code",
   "execution_count": 12,
   "metadata": {
    "collapsed": false
   },
   "outputs": [
    {
     "name": "stdout",
     "output_type": "stream",
     "text": [
      "CPU times: user 8min 34s, sys: 4.34 s, total: 8min 39s\n",
      "Wall time: 1min 27s\n",
      "On train\n",
      "N\t260000\n",
      "P@1\t0.904\n",
      "R@1\t0.904\n",
      "On test\n",
      "N\t140000\n",
      "P@1\t0.897\n",
      "R@1\t0.897\n"
     ]
    }
   ],
   "source": [
    "train_data_path = '/Users/hadi.minooei/Downloads/ft_amazon/dummy_ft_amazon.train'#os.path.join(DATA_DIR, 'ft_amazon.train')\n",
    "test_data_path = '/Users/hadi.minooei/Downloads/ft_amazon/dummy_ft_amazon.test' #os.path.join(DATA_DIR, 'ft_amazon.test')\n",
    "\n",
    "%time amazon_sentiment_model = train_supervised(input=train_data_path, lr=0.9, dim=200, ws=5, epoch=2, minn=3, maxn=4, neg=5, wordNgrams=1, loss=\"ns\", bucket=200000)\n",
    "\n",
    "print(\"On train\")\n",
    "print_results(*amazon_sentiment_model.test(train_data_path))\n",
    "print(\"On test\")\n",
    "print_results(*amazon_sentiment_model.test(test_data_path))\n",
    "amazon_sentiment_model.save_model(\"amazon_sentiment_model.bin\")"
   ]
  },
  {
   "cell_type": "code",
   "execution_count": 13,
   "metadata": {
    "collapsed": false
   },
   "outputs": [
    {
     "name": "stdout",
     "output_type": "stream",
     "text": [
      "CPU times: user 5min 38s, sys: 8.93 s, total: 5min 47s\n",
      "Wall time: 4min 24s\n",
      "On train\n",
      "N\t260000\n",
      "P@1\t0.910\n",
      "R@1\t0.910\n",
      "On test\n",
      "N\t140000\n",
      "P@1\t0.894\n",
      "R@1\t0.894\n"
     ]
    }
   ],
   "source": [
    "%time amazon_sentiment_model_transfer = train_supervised(input=train_data_path, lr=0.1, dim=300, epoch=2, loss='ns', bucket=200000, label=\"__label__\", pretrainedVectors=\"/Users/hadi.minooei/Downloads/wiki-news-300d-1M.vec\")\n",
    "print(\"On train\")\n",
    "print_results(*amazon_sentiment_model_transfer.test(train_data_path))\n",
    "print(\"On test\")\n",
    "print_results(*amazon_sentiment_model_transfer.test(test_data_path))\n",
    "# amazon_sentiment_model_transfer.save_model(\"sentiment_model_all.bin\")"
   ]
  },
  {
   "cell_type": "code",
   "execution_count": 14,
   "metadata": {
    "collapsed": false
   },
   "outputs": [
    {
     "name": "stdout",
     "output_type": "stream",
     "text": [
      "CPU times: user 5min 34s, sys: 8.32 s, total: 5min 42s\n",
      "Wall time: 4min 20s\n",
      "On train\n",
      "N\t260000\n",
      "P@1\t0.909\n",
      "R@1\t0.909\n",
      "On test\n",
      "N\t140000\n",
      "P@1\t0.893\n",
      "R@1\t0.893\n"
     ]
    }
   ],
   "source": [
    "%time amazon_sentiment_model_transfer = train_supervised(input=train_data_path, lr=0.9, dim=300, epoch=2, loss='ns', bucket=200000, label=\"__label__\", pretrainedVectors=\"/Users/hadi.minooei/Downloads/wiki-news-300d-1M.vec\")\n",
    "print(\"On train\")\n",
    "print_results(*amazon_sentiment_model_transfer.test(train_data_path))\n",
    "print(\"On test\")\n",
    "print_results(*amazon_sentiment_model_transfer.test(test_data_path))\n",
    "# amazon_sentiment_model_transfer.save_model(\"sentiment_model_all.bin\")"
   ]
  },
  {
   "cell_type": "code",
   "execution_count": null,
   "metadata": {
    "collapsed": true
   },
   "outputs": [],
   "source": []
  },
  {
   "cell_type": "code",
   "execution_count": null,
   "metadata": {
    "collapsed": true
   },
   "outputs": [],
   "source": []
  }
 ],
 "metadata": {
  "kernelspec": {
   "display_name": "Python 3",
   "language": "python",
   "name": "python3"
  },
  "language_info": {
   "codemirror_mode": {
    "name": "ipython",
    "version": 3
   },
   "file_extension": ".py",
   "mimetype": "text/x-python",
   "name": "python",
   "nbconvert_exporter": "python",
   "pygments_lexer": "ipython3",
   "version": "3.5.0"
  }
 },
 "nbformat": 4,
 "nbformat_minor": 2
}
