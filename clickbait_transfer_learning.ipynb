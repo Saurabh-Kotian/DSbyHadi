{
  "nbformat": 4,
  "nbformat_minor": 0,
  "metadata": {
    "colab": {
      "name": "clickbait-transfer-learning.ipynb",
      "provenance": [],
      "collapsed_sections": [],
      "include_colab_link": true
    },
    "kernelspec": {
      "name": "python3",
      "display_name": "Python 3"
    }
  },
  "cells": [
    {
      "cell_type": "markdown",
      "metadata": {
        "id": "view-in-github",
        "colab_type": "text"
      },
      "source": [
        "<a href=\"https://colab.research.google.com/github/hminooei/DSbyHadi/blob/master/clickbait_transfer_learning.ipynb\" target=\"_parent\"><img src=\"https://colab.research.google.com/assets/colab-badge.svg\" alt=\"Open In Colab\"/></a>"
      ]
    },
    {
      "cell_type": "code",
      "metadata": {
        "id": "CRMHZxVoDefX",
        "colab_type": "code",
        "colab": {}
      },
      "source": [
        "import pandas as pd\n",
        "import numpy as np\n",
        "import warnings\n",
        "\n",
        "from sklearn import metrics\n",
        "from sklearn.feature_extraction.text import CountVectorizer\n",
        "from sklearn.feature_extraction.text import TfidfTransformer\n",
        "from sklearn.pipeline import Pipeline\n",
        "from sklearn.linear_model import LogisticRegression\n",
        "from sklearn.model_selection import train_test_split\n",
        "\n",
        "import tensorflow as tf\n",
        "import tensorflow_hub as hub"
      ],
      "execution_count": 0,
      "outputs": []
    },
    {
      "cell_type": "markdown",
      "metadata": {
        "id": "t6NhLifdyVyr",
        "colab_type": "text"
      },
      "source": [
        "The dataset is on Kaggle https://www.kaggle.com/amananandrai/clickbait-dataset however you can downloaded the file directly from the link below."
      ]
    },
    {
      "cell_type": "code",
      "metadata": {
        "id": "VB3BqE_vHTRe",
        "colab_type": "code",
        "colab": {
          "base_uri": "https://localhost:8080/",
          "height": 34
        },
        "outputId": "dafd5cb1-1e1c-424b-e2f9-881493d9a4c8"
      },
      "source": [
        "df = pd.read_csv(\"https://raw.github.com/hminooei/DSbyHadi/master/data/clickbait_data.csv.zip\")\n",
        "df.shape"
      ],
      "execution_count": 2,
      "outputs": [
        {
          "output_type": "execute_result",
          "data": {
            "text/plain": [
              "(32000, 2)"
            ]
          },
          "metadata": {
            "tags": []
          },
          "execution_count": 2
        }
      ]
    },
    {
      "cell_type": "code",
      "metadata": {
        "id": "9LaqhWZ-akj2",
        "colab_type": "code",
        "outputId": "d92c932a-d11c-40fb-b05d-73e44ea8d1fa",
        "colab": {
          "base_uri": "https://localhost:8080/",
          "height": 136
        }
      },
      "source": [
        "pd.set_option('display.max_colwidth', 100)\n",
        "df.head(3)"
      ],
      "execution_count": 3,
      "outputs": [
        {
          "output_type": "execute_result",
          "data": {
            "text/html": [
              "<div>\n",
              "<style scoped>\n",
              "    .dataframe tbody tr th:only-of-type {\n",
              "        vertical-align: middle;\n",
              "    }\n",
              "\n",
              "    .dataframe tbody tr th {\n",
              "        vertical-align: top;\n",
              "    }\n",
              "\n",
              "    .dataframe thead th {\n",
              "        text-align: right;\n",
              "    }\n",
              "</style>\n",
              "<table border=\"1\" class=\"dataframe\">\n",
              "  <thead>\n",
              "    <tr style=\"text-align: right;\">\n",
              "      <th></th>\n",
              "      <th>headline</th>\n",
              "      <th>clickbait</th>\n",
              "    </tr>\n",
              "  </thead>\n",
              "  <tbody>\n",
              "    <tr>\n",
              "      <th>0</th>\n",
              "      <td>Should I Get Bings</td>\n",
              "      <td>1</td>\n",
              "    </tr>\n",
              "    <tr>\n",
              "      <th>1</th>\n",
              "      <td>Which TV Female Friend Group Do You Belong In</td>\n",
              "      <td>1</td>\n",
              "    </tr>\n",
              "    <tr>\n",
              "      <th>2</th>\n",
              "      <td>The New \"Star Wars: The Force Awakens\" Trailer Is Here To Give You Chills</td>\n",
              "      <td>1</td>\n",
              "    </tr>\n",
              "  </tbody>\n",
              "</table>\n",
              "</div>"
            ],
            "text/plain": [
              "                                                                    headline  clickbait\n",
              "0                                                         Should I Get Bings          1\n",
              "1                              Which TV Female Friend Group Do You Belong In          1\n",
              "2  The New \"Star Wars: The Force Awakens\" Trailer Is Here To Give You Chills          1"
            ]
          },
          "metadata": {
            "tags": []
          },
          "execution_count": 3
        }
      ]
    },
    {
      "cell_type": "code",
      "metadata": {
        "id": "KomhXhbUWW6m",
        "colab_type": "code",
        "outputId": "bf725b75-ee8e-45e0-e479-8f6369087454",
        "colab": {
          "base_uri": "https://localhost:8080/",
          "height": 278
        }
      },
      "source": [
        "import matplotlib.pyplot as plt\n",
        "\n",
        "percentages = round(df[\"clickbait\"].value_counts()*100/len(df), 1)\n",
        "percentages.plot(kind=\"bar\", title=\"labels' distribution\")\n",
        "\n",
        "plt.show()"
      ],
      "execution_count": 4,
      "outputs": [
        {
          "output_type": "display_data",
          "data": {
            "image/png": "[encoded data removed]",
            "text/plain": [
              "<Figure size 432x288 with 1 Axes>"
            ]
          },
          "metadata": {
            "tags": [],
            "needs_background": "light"
          }
        }
      ]
    },
    {
      "cell_type": "markdown",
      "metadata": {
        "id": "dGQqz906XEgU",
        "colab_type": "text"
      },
      "source": [
        "So the labels are equaly distributed."
      ]
    },
    {
      "cell_type": "code",
      "metadata": {
        "id": "FOiEQkAKWW9i",
        "colab_type": "code",
        "colab": {}
      },
      "source": [
        "text_train_val, text_test, label_train_val, label_test = train_test_split(\n",
        "    df[\"headline\"], \n",
        "    df[\"clickbait\"], \n",
        "    test_size=0.25, \n",
        "    stratify=df[\"clickbait\"], \n",
        "    random_state=9)\n",
        "\n",
        "# Split the train_val dataset to train and validation separete portions.\n",
        "text_train, text_val, label_train, label_val = train_test_split(\n",
        "    text_train_val,\n",
        "    label_train_val, \n",
        "    test_size=0.2, \n",
        "    random_state=9)"
      ],
      "execution_count": 0,
      "outputs": []
    },
    {
      "cell_type": "code",
      "metadata": {
        "id": "OIt7QX9IXFa7",
        "colab_type": "code",
        "outputId": "32fb2ba4-4557-400b-8287-ddee4f85ac5b",
        "colab": {
          "base_uri": "https://localhost:8080/",
          "height": 34
        }
      },
      "source": [
        "print(text_train.shape, text_val.shape, label_test.shape)"
      ],
      "execution_count": 6,
      "outputs": [
        {
          "output_type": "stream",
          "text": [
            "(19200,) (4800,) (8000,)\n"
          ],
          "name": "stdout"
        }
      ]
    },
    {
      "cell_type": "markdown",
      "metadata": {
        "id": "Npn4JttXysAN",
        "colab_type": "text"
      },
      "source": [
        "Read the USE pretrained network and add an output layer at the end, then, fine-tune the weights of the new network."
      ]
    },
    {
      "cell_type": "code",
      "metadata": {
        "id": "pMEgnOy6A76o",
        "colab_type": "code",
        "outputId": "7de4cefc-4011-4e85-b50f-8629492a9972",
        "colab": {
          "base_uri": "https://localhost:8080/",
          "height": 252
        }
      },
      "source": [
        "input = tf.keras.layers.Input(shape=[], dtype=tf.string)\n",
        "use = hub.KerasLayer(\"https://tfhub.dev/google/universal-sentence-encoder/4\", trainable=True)(input)\n",
        "output = tf.keras.layers.Dense(1, activation=\"sigmoid\")(use)\n",
        "model = tf.keras.models.Model(input, output)\n",
        "\n",
        "model.summary()"
      ],
      "execution_count": 7,
      "outputs": [
        {
          "output_type": "stream",
          "text": [
            "Model: \"model\"\n",
            "_________________________________________________________________\n",
            "Layer (type)                 Output Shape              Param #   \n",
            "=================================================================\n",
            "input_1 (InputLayer)         [(None,)]                 0         \n",
            "_________________________________________________________________\n",
            "keras_layer (KerasLayer)     (None, 512)               256797824 \n",
            "_________________________________________________________________\n",
            "dense (Dense)                (None, 1)                 513       \n",
            "=================================================================\n",
            "Total params: 256,798,337\n",
            "Trainable params: 256,798,337\n",
            "Non-trainable params: 0\n",
            "_________________________________________________________________\n"
          ],
          "name": "stdout"
        }
      ]
    },
    {
      "cell_type": "code",
      "metadata": {
        "id": "3dXQJXT-amXA",
        "colab_type": "code",
        "colab": {}
      },
      "source": [
        "model.compile(optimizer=\"adam\", \n",
        "              loss=\"binary_crossentropy\", \n",
        "              metrics=[\"accuracy\"])"
      ],
      "execution_count": 0,
      "outputs": []
    },
    {
      "cell_type": "markdown",
      "metadata": {
        "id": "3Kx3iXVAykQ2",
        "colab_type": "text"
      },
      "source": [
        "So let's fine-tune the USE weights.."
      ]
    },
    {
      "cell_type": "code",
      "metadata": {
        "id": "M3xpXCYSbThq",
        "colab_type": "code",
        "outputId": "5cd5505c-67ad-42cf-b2dc-ff47ad7e6a59",
        "colab": {
          "base_uri": "https://localhost:8080/",
          "height": 84
        }
      },
      "source": [
        "%%time\n",
        "model.fit(text_train, \n",
        "          label_train,\n",
        "          epochs=1,\n",
        "          validation_data=(text_val, label_val),\n",
        "          verbose=2)"
      ],
      "execution_count": 11,
      "outputs": [
        {
          "output_type": "stream",
          "text": [
            "600/600 - 1389s - loss: 0.1001 - accuracy: 0.9740 - val_loss: 0.0471 - val_accuracy: 0.9846\n",
            "CPU times: user 44min 16s, sys: 52.8 s, total: 45min 8s\n",
            "Wall time: 23min 11s\n"
          ],
          "name": "stdout"
        },
        {
          "output_type": "execute_result",
          "data": {
            "text/plain": [
              "<tensorflow.python.keras.callbacks.History at 0x7f51b8a4a358>"
            ]
          },
          "metadata": {
            "tags": []
          },
          "execution_count": 11
        }
      ]
    },
    {
      "cell_type": "code",
      "metadata": {
        "id": "hYcRM-gy34Ie",
        "colab_type": "code",
        "outputId": "b37a5adc-3ec0-4dcc-852c-084f955851dc",
        "colab": {
          "base_uri": "https://localhost:8080/",
          "height": 134
        }
      },
      "source": [
        "label_preds = model.predict(text_train)\n",
        "label_preds"
      ],
      "execution_count": 12,
      "outputs": [
        {
          "output_type": "execute_result",
          "data": {
            "text/plain": [
              "array([[0.9936658 ],\n",
              "       [0.00644249],\n",
              "       [0.00768802],\n",
              "       ...,\n",
              "       [0.00784013],\n",
              "       [0.9936316 ],\n",
              "       [0.00696504]], dtype=float32)"
            ]
          },
          "metadata": {
            "tags": []
          },
          "execution_count": 12
        }
      ]
    },
    {
      "cell_type": "markdown",
      "metadata": {
        "id": "ACf6reAKuFqf",
        "colab_type": "text"
      },
      "source": [
        "Converting the probablities to lables."
      ]
    },
    {
      "cell_type": "code",
      "metadata": {
        "id": "sr8q4V-Tt8WT",
        "colab_type": "code",
        "colab": {
          "base_uri": "https://localhost:8080/",
          "height": 134
        },
        "outputId": "1505db38-e385-44a5-8ef4-28f80eeefbe2"
      },
      "source": [
        "label_preds_classes = np.round(label_preds)\n",
        "label_preds_classes"
      ],
      "execution_count": 13,
      "outputs": [
        {
          "output_type": "execute_result",
          "data": {
            "text/plain": [
              "array([[1.],\n",
              "       [0.],\n",
              "       [0.],\n",
              "       ...,\n",
              "       [0.],\n",
              "       [1.],\n",
              "       [0.]], dtype=float32)"
            ]
          },
          "metadata": {
            "tags": []
          },
          "execution_count": 13
        }
      ]
    },
    {
      "cell_type": "code",
      "metadata": {
        "id": "aVbdX35jbTnH",
        "colab_type": "code",
        "outputId": "08449031-69ca-4d08-cd3f-b9f2cbd652d0",
        "colab": {
          "base_uri": "https://localhost:8080/",
          "height": 168
        }
      },
      "source": [
        "train_metrics = metrics.classification_report(label_train, label_preds_classes, labels=[0, 1], digits=4)\n",
        "print(train_metrics)"
      ],
      "execution_count": 14,
      "outputs": [
        {
          "output_type": "stream",
          "text": [
            "              precision    recall  f1-score   support\n",
            "\n",
            "           0     0.9973    0.9963    0.9968      9627\n",
            "           1     0.9962    0.9973    0.9968      9573\n",
            "\n",
            "    accuracy                         0.9968     19200\n",
            "   macro avg     0.9968    0.9968    0.9968     19200\n",
            "weighted avg     0.9968    0.9968    0.9968     19200\n",
            "\n"
          ],
          "name": "stdout"
        }
      ]
    },
    {
      "cell_type": "code",
      "metadata": {
        "id": "Z89c_qgYbTsN",
        "colab_type": "code",
        "outputId": "c05b4af9-1cf5-4dd2-c788-8177c1c84204",
        "colab": {
          "base_uri": "https://localhost:8080/",
          "height": 168
        }
      },
      "source": [
        "label_preds_classes_test = np.round(model.predict(text_test))\n",
        "test_metrics = metrics.classification_report(label_test, label_preds_classes_test, labels=[0, 1], digits=4)\n",
        "print(test_metrics)"
      ],
      "execution_count": 15,
      "outputs": [
        {
          "output_type": "stream",
          "text": [
            "              precision    recall  f1-score   support\n",
            "\n",
            "           0     0.9889    0.9770    0.9829      4000\n",
            "           1     0.9773    0.9890    0.9831      4000\n",
            "\n",
            "    accuracy                         0.9830      8000\n",
            "   macro avg     0.9831    0.9830    0.9830      8000\n",
            "weighted avg     0.9831    0.9830    0.9830      8000\n",
            "\n"
          ],
          "name": "stdout"
        }
      ]
    },
    {
      "cell_type": "markdown",
      "metadata": {
        "id": "vOghHB9yzCA3",
        "colab_type": "text"
      },
      "source": [
        "As you can see, the macro precision on the test set is `0.9842`."
      ]
    },
    {
      "cell_type": "markdown",
      "metadata": {
        "id": "Ki2S8U8haCHm",
        "colab_type": "text"
      },
      "source": [
        "Saving the model"
      ]
    },
    {
      "cell_type": "code",
      "metadata": {
        "id": "t8cUHQrHLjNg",
        "colab_type": "code",
        "colab": {
          "base_uri": "https://localhost:8080/",
          "height": 50
        },
        "outputId": "dc6a28f8-65dd-4f1d-d0dc-9314f86e04e5"
      },
      "source": [
        "tf.saved_model.save(model, \"cb-use-finetune\")"
      ],
      "execution_count": 37,
      "outputs": [
        {
          "output_type": "stream",
          "text": [
            "INFO:tensorflow:Assets written to: cb-use-finetune/assets\n"
          ],
          "name": "stdout"
        },
        {
          "output_type": "stream",
          "text": [
            "INFO:tensorflow:Assets written to: cb-use-finetune/assets\n"
          ],
          "name": "stderr"
        }
      ]
    },
    {
      "cell_type": "markdown",
      "metadata": {
        "id": "5LJiGVEkaGa0",
        "colab_type": "text"
      },
      "source": [
        "And later on my laptop, I can load and time it using the cells below:"
      ]
    },
    {
      "cell_type": "code",
      "metadata": {
        "id": "M8Qiv7xaOUGQ",
        "colab_type": "code",
        "colab": {}
      },
      "source": [
        "loaded = tf.saved_model.load(\"/Users/hadi/Downloads/fine-tuned-use/\")"
      ],
      "execution_count": 0,
      "outputs": []
    },
    {
      "cell_type": "code",
      "metadata": {
        "id": "BX3GlH_PaLGg",
        "colab_type": "code",
        "colab": {}
      },
      "source": [
        "%time loaded(text_test[0:1])"
      ],
      "execution_count": 0,
      "outputs": []
    }
  ]
}