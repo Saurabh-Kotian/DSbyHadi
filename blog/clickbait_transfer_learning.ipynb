{
  "nbformat": 4,
  "nbformat_minor": 0,
  "metadata": {
    "colab": {
      "name": "clickbait-transfer-learning.ipynb",
      "provenance": [],
      "collapsed_sections": [],
      "include_colab_link": true
    },
    "kernelspec": {
      "name": "python3",
      "display_name": "Python 3"
    }
  },
  "cells": [
    {
      "cell_type": "markdown",
      "metadata": {
        "id": "view-in-github",
        "colab_type": "text"
      },
      "source": [
        "<a href=\"https://colab.research.google.com/github/hminooei/DSbyHadi/blob/master/clickbait_transfer_learning.ipynb\" target=\"_parent\"><img src=\"https://colab.research.google.com/assets/colab-badge.svg\" alt=\"Open In Colab\"/></a>"
      ]
    },
    {
      "cell_type": "code",
      "metadata": {
        "id": "CRMHZxVoDefX",
        "colab_type": "code",
        "colab": {}
      },
      "source": [
        "import pandas as pd\n",
        "import numpy as np\n",
        "import warnings\n",
        "\n",
        "from sklearn import metrics\n",
        "from sklearn.feature_extraction.text import CountVectorizer\n",
        "from sklearn.feature_extraction.text import TfidfTransformer\n",
        "from sklearn.pipeline import Pipeline\n",
        "from sklearn.linear_model import LogisticRegression\n",
        "from sklearn.model_selection import train_test_split\n",
        "\n",
        "import tensorflow as tf\n",
        "import tensorflow_hub as hub"
      ],
      "execution_count": 0,
      "outputs": []
    },
    {
      "cell_type": "markdown",
      "metadata": {
        "id": "t6NhLifdyVyr",
        "colab_type": "text"
      },
      "source": [
        "The dataset is on Kaggle https://www.kaggle.com/amananandrai/clickbait-dataset however you can downloaded the file directly from the link below."
      ]
    },
    {
      "cell_type": "code",
      "metadata": {
        "id": "VB3BqE_vHTRe",
        "colab_type": "code",
        "colab": {
          "base_uri": "https://localhost:8080/",
          "height": 34
        },
        "outputId": "71310161-7642-4877-b74f-60e02760b4ca"
      },
      "source": [
        "df = pd.read_csv(\"https://raw.github.com/hminooei/DSbyHadi/master/data/clickbait_data.csv.zip\")\n",
        "df.shape"
      ],
      "execution_count": 48,
      "outputs": [
        {
          "output_type": "execute_result",
          "data": {
            "text/plain": [
              "(32000, 2)"
            ]
          },
          "metadata": {
            "tags": []
          },
          "execution_count": 48
        }
      ]
    },
    {
      "cell_type": "code",
      "metadata": {
        "id": "9LaqhWZ-akj2",
        "colab_type": "code",
        "outputId": "5a244f2a-58ac-418a-ee16-0505fc95d78f",
        "colab": {
          "base_uri": "https://localhost:8080/",
          "height": 136
        }
      },
      "source": [
        "pd.set_option('display.max_colwidth', 100)\n",
        "df.head(3)"
      ],
      "execution_count": 50,
      "outputs": [
        {
          "output_type": "execute_result",
          "data": {
            "text/html": [
              "<div>\n",
              "<style scoped>\n",
              "    .dataframe tbody tr th:only-of-type {\n",
              "        vertical-align: middle;\n",
              "    }\n",
              "\n",
              "    .dataframe tbody tr th {\n",
              "        vertical-align: top;\n",
              "    }\n",
              "\n",
              "    .dataframe thead th {\n",
              "        text-align: right;\n",
              "    }\n",
              "</style>\n",
              "<table border=\"1\" class=\"dataframe\">\n",
              "  <thead>\n",
              "    <tr style=\"text-align: right;\">\n",
              "      <th></th>\n",
              "      <th>headline</th>\n",
              "      <th>clickbait</th>\n",
              "    </tr>\n",
              "  </thead>\n",
              "  <tbody>\n",
              "    <tr>\n",
              "      <th>0</th>\n",
              "      <td>Should I Get Bings</td>\n",
              "      <td>1</td>\n",
              "    </tr>\n",
              "    <tr>\n",
              "      <th>1</th>\n",
              "      <td>Which TV Female Friend Group Do You Belong In</td>\n",
              "      <td>1</td>\n",
              "    </tr>\n",
              "    <tr>\n",
              "      <th>2</th>\n",
              "      <td>The New \"Star Wars: The Force Awakens\" Trailer Is Here To Give You Chills</td>\n",
              "      <td>1</td>\n",
              "    </tr>\n",
              "  </tbody>\n",
              "</table>\n",
              "</div>"
            ],
            "text/plain": [
              "                                                                    headline  clickbait\n",
              "0                                                         Should I Get Bings          1\n",
              "1                              Which TV Female Friend Group Do You Belong In          1\n",
              "2  The New \"Star Wars: The Force Awakens\" Trailer Is Here To Give You Chills          1"
            ]
          },
          "metadata": {
            "tags": []
          },
          "execution_count": 50
        }
      ]
    },
    {
      "cell_type": "code",
      "metadata": {
        "id": "KomhXhbUWW6m",
        "colab_type": "code",
        "outputId": "7bb06a9e-be04-42b1-ace4-94009241604f",
        "colab": {
          "base_uri": "https://localhost:8080/",
          "height": 278
        }
      },
      "source": [
        "import matplotlib.pyplot as plt\n",
        "\n",
        "percentages = round(df[\"clickbait\"].value_counts()*100/len(df), 1)\n",
        "percentages.plot(kind=\"bar\", title=\"labels' distribution\")\n",
        "\n",
        "plt.show()"
      ],
      "execution_count": 20,
      "outputs": [
        {
          "output_type": "display_data",
          "data": {
            "image/png": "[encoded data removed]",
            "text/plain": [
              "<Figure size 432x288 with 1 Axes>"
            ]
          },
          "metadata": {
            "tags": [],
            "needs_background": "light"
          }
        }
      ]
    },
    {
      "cell_type": "markdown",
      "metadata": {
        "id": "dGQqz906XEgU",
        "colab_type": "text"
      },
      "source": [
        "So the labels are equaly distributed."
      ]
    },
    {
      "cell_type": "code",
      "metadata": {
        "id": "FOiEQkAKWW9i",
        "colab_type": "code",
        "colab": {}
      },
      "source": [
        "text_train_val, text_test, label_train_val, label_test = train_test_split(\n",
        "    df[\"headline\"], \n",
        "    df[\"clickbait\"], \n",
        "    test_size=0.25, \n",
        "    stratify=df[\"clickbait\"], \n",
        "    random_state=9)\n",
        "\n",
        "# Split the train_val dataset to train and validation separete portions.\n",
        "text_train, text_val, label_train, label_val = train_test_split(\n",
        "    text_train_val,\n",
        "    label_train_val, \n",
        "    test_size=0.2, \n",
        "    random_state=9)"
      ],
      "execution_count": 0,
      "outputs": []
    },
    {
      "cell_type": "code",
      "metadata": {
        "id": "OIt7QX9IXFa7",
        "colab_type": "code",
        "outputId": "615001da-58fa-466c-eaa0-9480761a647f",
        "colab": {
          "base_uri": "https://localhost:8080/",
          "height": 34
        }
      },
      "source": [
        "print(text_train.shape, text_val.shape, label_test.shape)"
      ],
      "execution_count": 22,
      "outputs": [
        {
          "output_type": "stream",
          "text": [
            "(19200,) (4800,) (8000,)\n"
          ],
          "name": "stdout"
        }
      ]
    },
    {
      "cell_type": "markdown",
      "metadata": {
        "id": "Npn4JttXysAN",
        "colab_type": "text"
      },
      "source": [
        "Read the USE pretrained network and add an output layer at the end, then, fine-tune the weights of the new network."
      ]
    },
    {
      "cell_type": "code",
      "metadata": {
        "id": "pMEgnOy6A76o",
        "colab_type": "code",
        "outputId": "401dbb58-7f88-4652-81c8-886d1bd5a384",
        "colab": {
          "base_uri": "https://localhost:8080/",
          "height": 252
        }
      },
      "source": [
        "input = tf.keras.layers.Input(shape=[], dtype=tf.string)\n",
        "use = hub.KerasLayer(\"https://tfhub.dev/google/universal-sentence-encoder/4\", trainable=True)(input)\n",
        "output = tf.keras.layers.Dense(1, activation=\"sigmoid\")(use)\n",
        "model = tf.keras.models.Model(input, output)\n",
        "\n",
        "model.summary()"
      ],
      "execution_count": 9,
      "outputs": [
        {
          "output_type": "stream",
          "text": [
            "Model: \"model\"\n",
            "_________________________________________________________________\n",
            "Layer (type)                 Output Shape              Param #   \n",
            "=================================================================\n",
            "input_1 (InputLayer)         [(None,)]                 0         \n",
            "_________________________________________________________________\n",
            "keras_layer (KerasLayer)     (None, 512)               256797824 \n",
            "_________________________________________________________________\n",
            "dense (Dense)                (None, 1)                 513       \n",
            "=================================================================\n",
            "Total params: 256,798,337\n",
            "Trainable params: 256,798,337\n",
            "Non-trainable params: 0\n",
            "_________________________________________________________________\n"
          ],
          "name": "stdout"
        }
      ]
    },
    {
      "cell_type": "code",
      "metadata": {
        "id": "3dXQJXT-amXA",
        "colab_type": "code",
        "colab": {}
      },
      "source": [
        "model.compile(optimizer=\"adam\", \n",
        "              loss=\"binary_crossentropy\", \n",
        "              metrics=[\"accuracy\"])"
      ],
      "execution_count": 0,
      "outputs": []
    },
    {
      "cell_type": "markdown",
      "metadata": {
        "id": "3Kx3iXVAykQ2",
        "colab_type": "text"
      },
      "source": [
        "So let's fine-tune the USE weights.."
      ]
    },
    {
      "cell_type": "code",
      "metadata": {
        "id": "M3xpXCYSbThq",
        "colab_type": "code",
        "outputId": "4a22c65e-a6f6-46ca-fc83-247dd579a3cd",
        "colab": {
          "base_uri": "https://localhost:8080/",
          "height": 134
        }
      },
      "source": [
        "%%time\n",
        "model.fit(text_train, \n",
        "          label_train,\n",
        "          epochs=2,\n",
        "          validation_data=(text_val, label_val),\n",
        "          verbose=2)"
      ],
      "execution_count": 12,
      "outputs": [
        {
          "output_type": "stream",
          "text": [
            "Epoch 1/2\n",
            "600/600 - 1385s - loss: 0.1094 - accuracy: 0.9716 - val_loss: 0.0465 - val_accuracy: 0.9854\n",
            "Epoch 2/2\n",
            "600/600 - 1378s - loss: 0.0154 - accuracy: 0.9958 - val_loss: 0.0477 - val_accuracy: 0.9840\n",
            "CPU times: user 1h 27min 56s, sys: 1min 48s, total: 1h 29min 45s\n",
            "Wall time: 46min 15s\n"
          ],
          "name": "stdout"
        },
        {
          "output_type": "execute_result",
          "data": {
            "text/plain": [
              "<tensorflow.python.keras.callbacks.History at 0x7efda2a54ac8>"
            ]
          },
          "metadata": {
            "tags": []
          },
          "execution_count": 12
        }
      ]
    },
    {
      "cell_type": "code",
      "metadata": {
        "id": "hYcRM-gy34Ie",
        "colab_type": "code",
        "outputId": "13cb888d-6ed8-4ffd-999d-0d5fd1b0488e",
        "colab": {
          "base_uri": "https://localhost:8080/",
          "height": 134
        }
      },
      "source": [
        "label_preds = model.predict(text_train)\n",
        "label_preds"
      ],
      "execution_count": 52,
      "outputs": [
        {
          "output_type": "execute_result",
          "data": {
            "text/plain": [
              "array([[0.99799895],\n",
              "       [0.0020186 ],\n",
              "       [0.00471288],\n",
              "       ...,\n",
              "       [0.00205421],\n",
              "       [0.9979954 ],\n",
              "       [0.00211179]], dtype=float32)"
            ]
          },
          "metadata": {
            "tags": []
          },
          "execution_count": 52
        }
      ]
    },
    {
      "cell_type": "markdown",
      "metadata": {
        "id": "ACf6reAKuFqf",
        "colab_type": "text"
      },
      "source": [
        "Converting the probablities to lables."
      ]
    },
    {
      "cell_type": "code",
      "metadata": {
        "id": "sr8q4V-Tt8WT",
        "colab_type": "code",
        "colab": {
          "base_uri": "https://localhost:8080/",
          "height": 134
        },
        "outputId": "359c4cf8-bd28-428e-e155-54a506f331a2"
      },
      "source": [
        "label_preds_classes = np.round(label_preds)\n",
        "label_preds_classes"
      ],
      "execution_count": 53,
      "outputs": [
        {
          "output_type": "execute_result",
          "data": {
            "text/plain": [
              "array([[1.],\n",
              "       [0.],\n",
              "       [0.],\n",
              "       ...,\n",
              "       [0.],\n",
              "       [1.],\n",
              "       [0.]], dtype=float32)"
            ]
          },
          "metadata": {
            "tags": []
          },
          "execution_count": 53
        }
      ]
    },
    {
      "cell_type": "code",
      "metadata": {
        "id": "aVbdX35jbTnH",
        "colab_type": "code",
        "outputId": "712002d1-309e-44ad-9ab6-3f59d37fb01b",
        "colab": {
          "base_uri": "https://localhost:8080/",
          "height": 168
        }
      },
      "source": [
        "train_metrics = metrics.classification_report(label_train, label_preds_classes, labels=[0, 1], digits=4)\n",
        "print(train_metrics)"
      ],
      "execution_count": 46,
      "outputs": [
        {
          "output_type": "stream",
          "text": [
            "              precision    recall  f1-score   support\n",
            "\n",
            "           0     0.9999    0.9998    0.9998      9627\n",
            "           1     0.9998    0.9999    0.9998      9573\n",
            "\n",
            "    accuracy                         0.9998     19200\n",
            "   macro avg     0.9998    0.9998    0.9998     19200\n",
            "weighted avg     0.9998    0.9998    0.9998     19200\n",
            "\n"
          ],
          "name": "stdout"
        }
      ]
    },
    {
      "cell_type": "code",
      "metadata": {
        "id": "Z89c_qgYbTsN",
        "colab_type": "code",
        "outputId": "180a76eb-7d07-4482-a69a-8b1d02a5971c",
        "colab": {
          "base_uri": "https://localhost:8080/",
          "height": 168
        }
      },
      "source": [
        "label_preds_classes_test = np.round(model.predict(text_test))\n",
        "test_metrics = metrics.classification_report(label_test, label_preds_classes_test, labels=[0, 1], digits=4)\n",
        "print(test_metrics)"
      ],
      "execution_count": 45,
      "outputs": [
        {
          "output_type": "stream",
          "text": [
            "              precision    recall  f1-score   support\n",
            "\n",
            "           0     0.9889    0.9792    0.9840      4000\n",
            "           1     0.9795    0.9890    0.9842      4000\n",
            "\n",
            "    accuracy                         0.9841      8000\n",
            "   macro avg     0.9842    0.9841    0.9841      8000\n",
            "weighted avg     0.9842    0.9841    0.9841      8000\n",
            "\n"
          ],
          "name": "stdout"
        }
      ]
    },
    {
      "cell_type": "markdown",
      "metadata": {
        "id": "vOghHB9yzCA3",
        "colab_type": "text"
      },
      "source": [
        "As you can see, the macro precision on the test set is `0.9842`."
      ]
    }
  ]
}